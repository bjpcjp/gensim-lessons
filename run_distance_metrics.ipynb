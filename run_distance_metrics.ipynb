{
 "cells": [
  {
   "cell_type": "code",
   "execution_count": 1,
   "metadata": {
    "collapsed": false,
    "jupyter": {
     "outputs_hidden": false
    }
   },
   "outputs": [],
   "source": [
    "%matplotlib inline"
   ]
  },
  {
   "cell_type": "markdown",
   "metadata": {},
   "source": [
    "Distance Metrics\n",
    "================\n",
    "* distances between two bags of words or distributions.\n"
   ]
  },
  {
   "cell_type": "code",
   "execution_count": 3,
   "metadata": {
    "collapsed": false,
    "jupyter": {
     "outputs_hidden": false
    }
   },
   "outputs": [],
   "source": [
    "import logging\n",
    "logging.basicConfig(format='%(asctime)s : %(levelname)s : %(message)s', level=logging.INFO)"
   ]
  },
  {
   "cell_type": "markdown",
   "metadata": {},
   "source": [
    "* document similarity: see [Tutorial](https://radimrehurek.com/gensim/tut3.html) and [API](https://radimrehurek.com/gensim/similarities/docsim.html). Next:\n",
    "\n",
    "1. Define corpus of documents belonging to one of two topics\n",
    "2. Train an LDA model to distinguish between the two topics\n",
    "3. Use the model to obtain distributions for some sample words\n",
    "4. Compare the distributions to each other using a variety of distance metrics:\n",
    "  * Hellinger\n",
    "  * Kullback-Leibler\n",
    "  * Jaccard\n",
    "5. Some details"
   ]
  },
  {
   "cell_type": "code",
   "execution_count": 4,
   "metadata": {
    "collapsed": false,
    "jupyter": {
     "outputs_hidden": false
    }
   },
   "outputs": [
    {
     "name": "stderr",
     "output_type": "stream",
     "text": [
      "2020-04-22 08:32:37,770 : WARNING : unable to import 'smart_open.gcs', disabling that module\n",
      "2020-04-22 08:32:39,141 : INFO : adding document #0 to Dictionary(0 unique tokens: [])\n",
      "2020-04-22 08:32:39,142 : INFO : built Dictionary(16 unique tokens: ['bank', 'river', 'shore', 'water', 'fast']...) from 11 documents (total 40 corpus positions)\n",
      "2020-04-22 08:32:39,143 : INFO : using symmetric alpha at 0.5\n",
      "2020-04-22 08:32:39,143 : INFO : using symmetric eta at 0.5\n",
      "2020-04-22 08:32:39,144 : INFO : using serial LDA version on this node\n",
      "2020-04-22 08:32:39,145 : INFO : running online (single-pass) LDA training, 2 topics, 1 passes over the supplied corpus of 11 documents, updating model once every 11 documents, evaluating perplexity every 11 documents, iterating 50x with a convergence threshold of 0.001000\n",
      "2020-04-22 08:32:39,145 : WARNING : too few updates, training might not converge; consider increasing the number of passes or iterations to improve accuracy\n",
      "2020-04-22 08:32:39,166 : INFO : -3.572 per-word bound, 11.9 perplexity estimate based on a held-out corpus of 11 documents with 40 words\n",
      "2020-04-22 08:32:39,167 : INFO : PROGRESS: pass 0, at document #11/11\n",
      "2020-04-22 08:32:39,182 : INFO : topic #0 (0.500): 0.207*\"bank\" + 0.100*\"water\" + 0.089*\"river\" + 0.088*\"sell\" + 0.067*\"borrow\" + 0.064*\"finance\" + 0.062*\"money\" + 0.053*\"tree\" + 0.045*\"flow\" + 0.044*\"rain\"\n",
      "2020-04-22 08:32:39,184 : INFO : topic #1 (0.500): 0.142*\"bank\" + 0.116*\"water\" + 0.090*\"river\" + 0.084*\"money\" + 0.081*\"finance\" + 0.064*\"flow\" + 0.055*\"transaction\" + 0.055*\"tree\" + 0.053*\"fall\" + 0.050*\"mud\"\n",
      "2020-04-22 08:32:39,185 : INFO : topic diff=0.628554, rho=1.000000\n"
     ]
    },
    {
     "data": {
      "text/plain": [
       "[(0,\n",
       "  '0.207*\"bank\" + 0.100*\"water\" + 0.089*\"river\" + 0.088*\"sell\" + 0.067*\"borrow\" + 0.064*\"finance\" + 0.062*\"money\" + 0.053*\"tree\" + 0.045*\"flow\" + 0.044*\"rain\"'),\n",
       " (1,\n",
       "  '0.142*\"bank\" + 0.116*\"water\" + 0.090*\"river\" + 0.084*\"money\" + 0.081*\"finance\" + 0.064*\"flow\" + 0.055*\"transaction\" + 0.055*\"tree\" + 0.053*\"fall\" + 0.050*\"mud\"')]"
      ]
     },
     "execution_count": 4,
     "metadata": {},
     "output_type": "execute_result"
    }
   ],
   "source": [
    "from gensim.corpora import Dictionary\n",
    "\n",
    "# you can use any corpus, this is just illustratory\n",
    "texts = [\n",
    "    ['bank','river','shore','water'],\n",
    "    ['river','water','flow','fast','tree'],\n",
    "    ['bank','water','fall','flow'],\n",
    "    ['bank','bank','water','rain','river'],\n",
    "    ['river','water','mud','tree'],\n",
    "    ['money','transaction','bank','finance'],\n",
    "    ['bank','borrow','money'], \n",
    "    ['bank','finance'],\n",
    "    ['finance','money','sell','bank'],\n",
    "    ['borrow','sell'],\n",
    "    ['bank','loan','sell'],\n",
    "]\n",
    "\n",
    "dictionary = Dictionary(texts)\n",
    "corpus = [dictionary.doc2bow(text) for text in texts]\n",
    "\n",
    "import numpy\n",
    "numpy.random.seed(1) # setting random seed to get the same results each time.\n",
    "\n",
    "from gensim.models import ldamodel\n",
    "model = ldamodel.LdaModel(corpus, id2word=dictionary, num_topics=2, minimum_probability=1e-8)\n",
    "model.show_topics()"
   ]
  },
  {
   "cell_type": "markdown",
   "metadata": {},
   "source": [
    "* Define the 1st & 2nd topics: **water**, **finance**. \n",
    "* Take some sample docs, prep them for testing."
   ]
  },
  {
   "cell_type": "code",
   "execution_count": 5,
   "metadata": {
    "collapsed": false,
    "jupyter": {
     "outputs_hidden": false
    }
   },
   "outputs": [],
   "source": [
    "doc_water   = ['river',   'water', 'shore']\n",
    "doc_finance = ['finance', 'money', 'sell']\n",
    "doc_bank    = ['finance', 'bank',  'tree', 'water']\n",
    "\n",
    "# convert to BoW format\n",
    "bow_water   = model.id2word.doc2bow(doc_water)   \n",
    "bow_finance = model.id2word.doc2bow(doc_finance)   \n",
    "bow_bank    = model.id2word.doc2bow(doc_bank)   \n",
    "\n",
    "# get the LDA topic distributions for each\n",
    "lda_bow_water   = model[bow_water]\n",
    "lda_bow_finance = model[bow_finance]\n",
    "lda_bow_bank    = model[bow_bank]"
   ]
  },
  {
   "cell_type": "markdown",
   "metadata": {},
   "source": [
    "Hellinger\n",
    "---------\n",
    "\n",
    "* These metrics return a value [0:1]. close to 0 = smaller distance = larger similarity.\n",
    "* **Hellinger distance metric** does this for two probability distributions."
   ]
  },
  {
   "cell_type": "code",
   "execution_count": 6,
   "metadata": {
    "collapsed": false,
    "jupyter": {
     "outputs_hidden": false
    }
   },
   "outputs": [
    {
     "name": "stdout",
     "output_type": "stream",
     "text": [
      "0.24622736579004378\n",
      "0.0073329423962157055\n"
     ]
    }
   ],
   "source": [
    "from gensim.matutils import hellinger\n",
    "print(hellinger(lda_bow_water, lda_bow_finance))\n",
    "print(hellinger(lda_bow_finance, lda_bow_bank))"
   ]
  },
  {
   "cell_type": "markdown",
   "metadata": {},
   "source": [
    "* example 1: 'water' & 'finance' are hardly similar.\n",
    "* example 2: 'bank' & finance' are more semantically similar."
   ]
  },
  {
   "cell_type": "markdown",
   "metadata": {},
   "source": [
    "Kullback–Leibler\n",
    "----------------\n",
    "\n",
    "Let's run similar examples down with Kullback Leibler.\n",
    "\n",
    "\n"
   ]
  },
  {
   "cell_type": "code",
   "execution_count": 7,
   "metadata": {
    "collapsed": false,
    "jupyter": {
     "outputs_hidden": false
    }
   },
   "outputs": [
    {
     "name": "stdout",
     "output_type": "stream",
     "text": [
      "0.22783141\n",
      "0.00021458045\n"
     ]
    }
   ],
   "source": [
    "from gensim.matutils import kullback_leibler\n",
    "\n",
    "print(kullback_leibler(lda_bow_water, lda_bow_bank))\n",
    "print(kullback_leibler(lda_bow_finance, lda_bow_bank))"
   ]
  },
  {
   "cell_type": "markdown",
   "metadata": {},
   "source": [
    "* KL is not a distance metric in the mathematical sense - hence not symmetrical.\n",
    "* This means _kullback_leibler(lda_bow_finance, lda_bow_bank)_ is not equal to _kullback_leibler(lda_bow_bank, lda_bow_finance)_."
   ]
  },
  {
   "cell_type": "code",
   "execution_count": 8,
   "metadata": {
    "collapsed": false,
    "jupyter": {
     "outputs_hidden": false
    }
   },
   "outputs": [
    {
     "name": "stdout",
     "output_type": "stream",
     "text": [
      "0.00021560304\n"
     ]
    }
   ],
   "source": [
    "print(kullback_leibler(lda_bow_bank, lda_bow_finance))"
   ]
  },
  {
   "cell_type": "markdown",
   "metadata": {},
   "source": [
    "* Previous: we saw lower distance values between bank&finance than for bank&water, but not by a huge margin. What does this mean?\n",
    "* The ``bank`` document is a combination of both water and finance related terms - but as bank in this context is likely to belong to the finance topic, The distance values are less between the finance and bank bows."
   ]
  },
  {
   "cell_type": "code",
   "execution_count": 10,
   "metadata": {
    "collapsed": false,
    "jupyter": {
     "outputs_hidden": false
    }
   },
   "outputs": [
    {
     "data": {
      "text/plain": [
       "[(0, 0.638031), (1, 0.361969)]"
      ]
     },
     "execution_count": 10,
     "metadata": {},
     "output_type": "execute_result"
    }
   ],
   "source": [
    "# just to confirm our suspicion that the bank bow is more to do with finance (does it?):\n",
    "model.get_document_topics(bow_bank)"
   ]
  },
  {
   "cell_type": "markdown",
   "metadata": {},
   "source": [
    "* Distance/similarity metrics: further reading on [Kullback Leibler](https://en.wikipedia.org/wiki/Kullback–Leibler_divergence) or [Hellinger](https://en.wikipedia.org/wiki/Hellinger_distance)"
   ]
  },
  {
   "cell_type": "markdown",
   "metadata": {},
   "source": [
    "### [Jaccard distance](https://en.wikipedia.org/wiki/Jaccard_index)\n",
    "\n"
   ]
  },
  {
   "cell_type": "code",
   "execution_count": 11,
   "metadata": {
    "collapsed": false,
    "jupyter": {
     "outputs_hidden": false
    }
   },
   "outputs": [
    {
     "name": "stdout",
     "output_type": "stream",
     "text": [
      "0.8571428571428572\n",
      "0.8333333333333334\n",
      "0.0\n"
     ]
    }
   ],
   "source": [
    "from gensim.matutils import jaccard\n",
    "\n",
    "print(jaccard(bow_water, bow_bank))\n",
    "print(jaccard(doc_water, doc_bank))\n",
    "print(jaccard(['word'], ['word']))"
   ]
  },
  {
   "cell_type": "markdown",
   "metadata": {},
   "source": [
    "* The three examples above feature **2 different input methods**. \n",
    "\n",
    "* 1) we present to jaccard document vectors that are already in BoW format. **Distance** can be defined as _1-size-of-intersection_ upon _size_of_union_of_vectors_. \n",
    "\n",
    "* Distance is likely to be high - and it is. \n",
    "\n",
    "* 2) last two examples = how jaccard accepts lists (i.e, documents) as inputs.\n",
    "\n",
    "* Last case, because they are the same vectors, the value=distance=0 (docs are identical.)"
   ]
  },
  {
   "cell_type": "markdown",
   "metadata": {},
   "source": [
    "Distance Metrics for Topic Distributions\n",
    "----------------------------------------\n",
    "\n",
    "* interesting use-case: topic distributions. \n",
    "* Let's say we want to find the similarity of the following topics: water and finance.\n"
   ]
  },
  {
   "cell_type": "code",
   "execution_count": 12,
   "metadata": {
    "collapsed": false,
    "jupyter": {
     "outputs_hidden": false
    }
   },
   "outputs": [
    {
     "name": "stdout",
     "output_type": "stream",
     "text": [
      "[(0, 0.142), (3, 0.116), (1, 0.09), (11, 0.084), (10, 0.081), (5, 0.064), (12, 0.055), (6, 0.055), (7, 0.053), (9, 0.05)]\n"
     ]
    }
   ],
   "source": [
    "topic_water, topic_finance = model.show_topics()\n",
    "\n",
    "# some pre processing to get the topics in a format acceptable to our distance metrics\n",
    "\n",
    "def parse_topic_string(topic):\n",
    "    # takes the string returned by model.show_topics()\n",
    "    # split on strings to get topics and the probabilities\n",
    "    topic = topic.split('+')\n",
    "    \n",
    "    # list to store topic bows\n",
    "    topic_bow = []\n",
    "    \n",
    "    for word in topic:\n",
    "    \n",
    "        # split probability and word\n",
    "        prob, word = word.split('*')\n",
    "        \n",
    "        # get rid of spaces and double quote marks\n",
    "        word = word.replace(\" \",\"\").replace('\"', '')\n",
    "        \n",
    "        # convert to word_type\n",
    "        word = model.id2word.doc2bow([word])[0][0]\n",
    "        topic_bow.append((word, float(prob)))\n",
    "        \n",
    "    return topic_bow\n",
    "\n",
    "finance_distribution = parse_topic_string(topic_finance[1])\n",
    "water_distribution   = parse_topic_string(topic_water[1])\n",
    "\n",
    "# the finance topic in bag of words format looks like this:\n",
    "print(finance_distribution)"
   ]
  },
  {
   "cell_type": "markdown",
   "metadata": {},
   "source": [
    "* topic conversion complete.\n",
    "* use a Distance metric to measure word distribution similarities of the topics."
   ]
  },
  {
   "cell_type": "code",
   "execution_count": 13,
   "metadata": {
    "collapsed": false,
    "jupyter": {
     "outputs_hidden": false
    }
   },
   "outputs": [
    {
     "name": "stdout",
     "output_type": "stream",
     "text": [
      "0.42898539619904935\n"
     ]
    }
   ],
   "source": [
    "print(hellinger(water_distribution, finance_distribution))"
   ]
  },
  {
   "cell_type": "markdown",
   "metadata": {},
   "source": [
    "* The topics aren't TOO distant with respect to their word distributions.\n",
    "* This makes sense - overlapping words like ``bank``, & small size dictionary."
   ]
  },
  {
   "cell_type": "markdown",
   "metadata": {},
   "source": [
    "Kullback-Leibler Gotchas\n",
    "------------------------\n",
    "\n",
    "* Previous: KL as a similarity test. KL is not a Distance 'Metric' in the technical sense (you can\n",
    "see what a metric is `here\n",
    "<https://en.wikipedia.org/wiki/Metric_(mathematics>`_\\ ). The nature of it,\n",
    "mathematically also means we must be a little careful before using it,\n",
    "because since it involves the log function, a zero can mess things up. For\n",
    "example:\n",
    "\n",
    "\n"
   ]
  },
  {
   "cell_type": "code",
   "execution_count": 14,
   "metadata": {
    "collapsed": false,
    "jupyter": {
     "outputs_hidden": false
    }
   },
   "outputs": [
    {
     "name": "stdout",
     "output_type": "stream",
     "text": [
      "inf\n"
     ]
    }
   ],
   "source": [
    "# 16 here is the number of features the probability distribution draws from\n",
    "print(kullback_leibler(water_distribution, finance_distribution, 16))"
   ]
  },
  {
   "cell_type": "markdown",
   "metadata": {},
   "source": [
    "* That wasn't very helpful, right? It means we have to be careful about our inputs. \n",
    "* The old example didn't work out because they were some missing values for some words (because ``show_topics()`` only returned the top 10 topics). \n",
    "\n",
    "* This can be remedied, though."
   ]
  },
  {
   "cell_type": "code",
   "execution_count": 15,
   "metadata": {
    "collapsed": false,
    "jupyter": {
     "outputs_hidden": false
    }
   },
   "outputs": [
    {
     "name": "stdout",
     "output_type": "stream",
     "text": [
      "0.087688535\n"
     ]
    }
   ],
   "source": [
    "# return ALL the words in the dictionary for the topic-word distribution.\n",
    "topic_water, topic_finance = model.show_topics(\n",
    "    num_words=len(\n",
    "        model.id2word))\n",
    "\n",
    "# do our bag of words transformation again\n",
    "finance_distribution = parse_topic_string(topic_finance[1])\n",
    "water_distribution   = parse_topic_string(topic_water[1])\n",
    "\n",
    "# and voila!\n",
    "print(kullback_leibler(water_distribution, finance_distribution))"
   ]
  },
  {
   "cell_type": "markdown",
   "metadata": {},
   "source": [
    "* This distance is quite smaller - indicating high similarity. \n",
    "* This may be due to the small corpus size - all topics are likely to contain a decent overlap of word probabilities. You will likely get a better value for a bigger corpus.\n",
    "* Remember:\n",
    "    - if you intend to use KL as a simmilarity metric, avoid zeros by returning the ENTIRE\n",
    "distribution. \n",
    "    - Since it's unlikely any probability distribution will ever have absolute zeros for any feature/word, returning all the values like we did will make you good to go."
   ]
  },
  {
   "cell_type": "markdown",
   "metadata": {},
   "source": [
    "What are Distance Metrics?\n",
    "--------------------------\n",
    "\n",
    "I mentioned in the previous section that KL was not a distance metric. There\n",
    "are 4 conditons for for a distance measure to be a metric:\n",
    "\n",
    "1. d(x,y) >= 0 (non-negative)\n",
    "2. d(x,y) = 0 <=> x = y ( if x & y are the same, distance is zero)\n",
    "3. d(x,y) = d(y,x) (symmetric)\n",
    "4. d(x,z) <= d(x,y) + d(y,z) (obeys triangle equality)"
   ]
  },
  {
   "cell_type": "code",
   "execution_count": 17,
   "metadata": {
    "collapsed": false,
    "jupyter": {
     "outputs_hidden": false
    }
   },
   "outputs": [
    {
     "name": "stdout",
     "output_type": "stream",
     "text": [
      "0.14950162744749795\n",
      "0.14950162744749795\n",
      "True\n",
      "0.0\n",
      "0.0073329423962157055\n",
      "0.4852304816311588\n"
     ]
    }
   ],
   "source": [
    "# normal Hellinger\n",
    "a = hellinger(water_distribution, finance_distribution)\n",
    "b = hellinger(finance_distribution, water_distribution)\n",
    "print(a)\n",
    "print(b)\n",
    "print(a == b)\n",
    "\n",
    "# if we pass the same values, it is zero.\n",
    "print(hellinger(water_distribution, water_distribution))\n",
    "\n",
    "# for triangle inequality let's use LDA document distributions\n",
    "print(hellinger(lda_bow_finance, lda_bow_bank))\n",
    "\n",
    "# Triangle inequality works too! (?-review triangle equality)\n",
    "print(hellinger(lda_bow_finance, lda_bow_water) + hellinger(lda_bow_water, lda_bow_bank))"
   ]
  },
  {
   "cell_type": "markdown",
   "metadata": {},
   "source": [
    "* So Hellinger is indeed a metric. Let's check out KL. "
   ]
  },
  {
   "cell_type": "code",
   "execution_count": 19,
   "metadata": {
    "collapsed": false,
    "jupyter": {
     "outputs_hidden": false
    }
   },
   "outputs": [
    {
     "name": "stdout",
     "output_type": "stream",
     "text": [
      "0.09273797 0.087688535 False\n"
     ]
    }
   ],
   "source": [
    "a = kullback_leibler(finance_distribution, water_distribution)\n",
    "b = kullback_leibler(water_distribution, finance_distribution)\n",
    "print(a,b,a==b)"
   ]
  },
  {
   "cell_type": "markdown",
   "metadata": {},
   "source": [
    "* When we swap the values they aren't equal! (FAILS SYMMETRY). \n",
    "* However, just because it's not a metric, doesn't mean that KL isn't useful. \n",
    "* KL Divergence is widely used & a notable distance measure in Info Theory.\n",
    "* [Hellinger-KL differences](http://stats.stackexchange.com/questions/130432/differences-between-bhattacharyya-distance-and-kl-divergence)."
   ]
  },
  {
   "cell_type": "markdown",
   "metadata": {},
   "source": [
    "Visualizing Distance Metrics with [Networkx](https://networkx.github.io/documentation/stable/)\n",
    "------------------------------------------\n",
    "\n",
    "* Each node is a document. Node color = topic according to LDA model. \n",
    "* Edges connect documents. Edge weight = inversely proportional to the Jaccard\n",
    "similarity between two documents. \n",
    "* Annotate the edges with **strong** edges for similar documents and **weak (dashed)** edges for dissimilar documents.\n",
    "* In summary: similar documents will be closer together, different documents will be further apart."
   ]
  },
  {
   "cell_type": "code",
   "execution_count": 24,
   "metadata": {
    "collapsed": false,
    "jupyter": {
     "outputs_hidden": false
    }
   },
   "outputs": [
    {
     "data": {
      "text/plain": [
       "{0: Text(-0.2418764294244621, 0.29385456000415633, '0'),\n",
       " 1: Text(-0.08383716527881194, 1.0, '1'),\n",
       " 2: Text(-0.9554796803335187, -0.020447103356435296, '2'),\n",
       " 3: Text(-0.711491309266444, 0.6183515248398146, '3'),\n",
       " 4: Text(0.5947443783832989, 0.8342568559765082, '4'),\n",
       " 5: Text(0.8451346938959245, -0.24470310752557106, '5'),\n",
       " 6: Text(-0.6177842069601448, -0.5748695089196719, '6'),\n",
       " 7: Text(-0.13572732247810856, -0.934839364983492, '7'),\n",
       " 8: Text(0.12423252350838448, -0.3570813785785875, '8'),\n",
       " 9: Text(0.6319813171054521, -0.8568585533304081, '9'),\n",
       " 10: Text(0.5501032008484343, 0.24233607587368622, '10')}"
      ]
     },
     "execution_count": 24,
     "metadata": {},
     "output_type": "execute_result"
    },
    {
     "data": {
      "image/png": "[encoded data removed]",
      "text/plain": [
       "<Figure size 432x288 with 1 Axes>"
      ]
     },
     "metadata": {},
     "output_type": "display_data"
    }
   ],
   "source": [
    "import itertools\n",
    "import networkx as nx\n",
    "\n",
    "def get_most_likely_topic(doc):\n",
    "    bow                   = model.id2word.doc2bow(doc)\n",
    "    topics, probabilities = zip(*model.get_document_topics(bow))\n",
    "    max_p                 = max(probabilities)\n",
    "    topic                 = topics[probabilities.index(max_p)]\n",
    "    return topic\n",
    "\n",
    "def get_node_color(i):\n",
    "    return 'skyblue' if get_most_likely_topic(texts[i]) == 0 else 'brown'\n",
    "\n",
    "G = nx.Graph()\n",
    "\n",
    "for i, _ in enumerate(texts):\n",
    "    G.add_node(i)\n",
    "    \n",
    "for (i1, i2) in itertools.combinations(range(len(texts)), 2):\n",
    "    bow1, bow2 = texts[i1], texts[i2]\n",
    "    distance   = jaccard(bow1, bow2)\n",
    "    G.add_edge(\n",
    "        i1, i2, weight=1/distance)\n",
    "    \n",
    "#\n",
    "# https://networkx.github.io/documentation/networkx-1.9/examples/drawing/weighted_graph.html\n",
    "#\n",
    "\n",
    "pos = nx.spring_layout(G)\n",
    "\n",
    "threshold = 1.25\n",
    "elarge=[(u,v) for (u,v,d) in G.edges(data=True) if d['weight'] > threshold]\n",
    "esmall=[(u,v) for (u,v,d) in G.edges(data=True) if d['weight'] <= threshold]\n",
    "\n",
    "node_colors = [get_node_color(i) for (i, _) in enumerate(texts)]\n",
    "nx.draw_networkx_nodes(G, pos, node_size=700, node_color=node_colors)\n",
    "nx.draw_networkx_edges(G,pos,edgelist=elarge, width=2)\n",
    "nx.draw_networkx_edges(G,pos,edgelist=esmall, width=2, alpha=0.2, edge_color='b', style='dashed')\n",
    "nx.draw_networkx_labels(G, pos, font_size=20, font_family='sans-serif')"
   ]
  },
  {
   "cell_type": "markdown",
   "metadata": {},
   "source": [
    "### Observations\n",
    "\n",
    "* 1) graph consists of two connected components (if you ignore the weak edges).\n",
    "Nodes 0, 1, 2, 3, 4 (which all belong to the water topic) form the first connected component. The other nodes (all belonging to the finance topic), form the second connected component.\n",
    "* 2) LDA didn't do a very good job of classifying our documents into topics. See below."
   ]
  },
  {
   "cell_type": "code",
   "execution_count": 25,
   "metadata": {
    "collapsed": false,
    "jupyter": {
     "outputs_hidden": false
    }
   },
   "outputs": [
    {
     "name": "stdout",
     "output_type": "stream",
     "text": [
      "id\ttopic\tdoc\n",
      "0\t0\tbank river shore water\n",
      "1\t0\triver water flow fast tree\n",
      "2\t1\tbank water fall flow\n",
      "3\t0\tbank bank water rain river\n",
      "4\t1\triver water mud tree\n",
      "5\t1\tmoney transaction bank finance\n",
      "6\t0\tbank borrow money\n",
      "7\t0\tbank finance\n",
      "8\t0\tfinance money sell bank\n",
      "9\t0\tborrow sell\n",
      "10\t0\tbank loan sell\n"
     ]
    }
   ],
   "source": [
    "print('id\\ttopic\\tdoc')\n",
    "for i, t in enumerate(texts):\n",
    "    print('%d\\t%d\\t%s' % (i, get_most_likely_topic(t), ' '.join(t)))"
   ]
  },
  {
   "cell_type": "markdown",
   "metadata": {},
   "source": [
    "* This is mostly because the corpus used to train the LDA model is so small.\n",
    "\n",
    "### Recap & Resources\n",
    "----------\n",
    "\n",
    "That brings us to the end of this small tutorial.\n",
    "To recap, here's what we covered:\n",
    "\n",
    "1. Set up a small corpus consisting of documents belonging to one of two topics\n",
    "2. Train an LDA model to distinguish between the two topics\n",
    "3. Use the model to obtain distributions for some sample words\n",
    "4. Compare the distributions to each other using a variety of distance metrics: Hellinger, Kullback-Leibler, Jaccard\n",
    "5. Discuss the concept of distance metrics in slightly more detail\n",
    "\n",
    "* Here's a larger suite of metrics & methods to add to _matutils.py_: [Similarity Measures for Text Document Clustering](http://www.academia.edu/download/32952068/pg049_Similarity_Measures_for_Text_Document_Clustering.pdf)"
   ]
  },
  {
   "cell_type": "code",
   "execution_count": null,
   "metadata": {},
   "outputs": [],
   "source": []
  }
 ],
 "metadata": {
  "kernelspec": {
   "display_name": "Python 3",
   "language": "python",
   "name": "python3"
  },
  "language_info": {
   "codemirror_mode": {
    "name": "ipython",
    "version": 3
   },
   "file_extension": ".py",
   "mimetype": "text/x-python",
   "name": "python",
   "nbconvert_exporter": "python",
   "pygments_lexer": "ipython3",
   "version": "3.6.9"
  }
 },
 "nbformat": 4,
 "nbformat_minor": 4
}
