{
 "cells": [
  {
   "cell_type": "code",
   "execution_count": 1,
   "metadata": {
    "collapsed": false,
    "jupyter": {
     "outputs_hidden": false
    }
   },
   "outputs": [],
   "source": [
    "%matplotlib inline"
   ]
  },
  {
   "cell_type": "markdown",
   "metadata": {},
   "source": [
    "\n",
    "LDA Model\n",
    "=========\n",
    "\n",
    "Introduces Gensim's LDA model and demonstrates its use on the NIPS corpus.\n"
   ]
  },
  {
   "cell_type": "code",
   "execution_count": 2,
   "metadata": {
    "collapsed": false,
    "jupyter": {
     "outputs_hidden": false
    }
   },
   "outputs": [],
   "source": [
    "#import logging\n",
    "#logging.basicConfig(format='%(asctime)s : %(levelname)s : %(message)s', level=logging.INFO)"
   ]
  },
  {
   "cell_type": "markdown",
   "metadata": {},
   "source": [
    "* More info on LDA theory:\n",
    "* [Introduction to LDA](http://blog.echen.me/2011/08/22/introduction-to-latent-dirichlet-allocation)\n",
    "* [Gensim tutorial](sphx_glr_auto_examples_core_run_topics_and_transformations.py)\n",
    "\n",
    "Data\n",
    "----\n",
    "* Consider using a corpus on a familiar topic. LDA model evaluation is challenging and can require you to understand the\n",
    "subject matter.\n",
    "* NIPS (Neural Information Processing Systems) should be well suited for this tutorial. You can download [Sam Roweis dataset](http://www.cs.nyu.edu/~roweis/data.html). It contains 1740 short documents. This tutorial is not geared towards efficiency - be careful before applying it to a large dataset."
   ]
  },
  {
   "cell_type": "code",
   "execution_count": 1,
   "metadata": {
    "collapsed": false,
    "jupyter": {
     "outputs_hidden": false
    }
   },
   "outputs": [
    {
     "name": "stderr",
     "output_type": "stream",
     "text": [
      "unable to import 'smart_open.gcs', disabling that module\n"
     ]
    }
   ],
   "source": [
    "import io, os.path, re, tarfile, smart_open, pprint\n",
    "\n",
    "def extract_documents(url='https://cs.nyu.edu/~roweis/data/nips12raw_str602.tgz'):\n",
    "    fname = url.split('/')[-1]\n",
    "    \n",
    "    # Download the file to local storage first.\n",
    "    # We can't read it on the fly because of \n",
    "    # https://github.com/RaRe-Technologies/smart_open/issues/331\n",
    "\n",
    "    if not os.path.isfile(fname):\n",
    "        with smart_open.open(url, \"rb\") as fin:\n",
    "            with smart_open.open(fname, 'wb') as fout:\n",
    "                while True:\n",
    "                    buf = fin.read(io.DEFAULT_BUFFER_SIZE)\n",
    "                    if not buf:\n",
    "                        break\n",
    "                    fout.write(buf)\n",
    "                         \n",
    "    with tarfile.open(fname, mode='r:gz') as tar:\n",
    "        # Ignore directory entries, as well as files like README, etc.\n",
    "        files = [\n",
    "            m for m in tar.getmembers()\n",
    "            if m.isfile() and re.search(r'nipstxt/nips\\d+/\\d+\\.txt', m.name)\n",
    "        ]\n",
    "        for member in sorted(files, key=lambda x: x.name):\n",
    "            member_bytes = tar.extractfile(member).read()\n",
    "            yield member_bytes.decode('utf-8', errors='replace')\n",
    "\n",
    "docs = list(extract_documents())"
   ]
  },
  {
   "cell_type": "markdown",
   "metadata": {},
   "source": [
    "* If you're thinking about using your own corpus, ensure that it's in the same format (list of Unicode strings) before proceeding with the rest of this tutorial."
   ]
  },
  {
   "cell_type": "code",
   "execution_count": 3,
   "metadata": {
    "collapsed": false,
    "jupyter": {
     "outputs_hidden": false
    }
   },
   "outputs": [
    {
     "name": "stdout",
     "output_type": "stream",
     "text": [
      "1740\n",
      "1 \n",
      "CONNECTIVITY VERSUS ENTROPY \n",
      "Yaser S. Abu-Mostafa \n",
      "California Institute of Technology \n",
      "Pasadena, CA 91125 \n",
      "ABSTRACT \n",
      "How does the connectivity of a neural network (number of synapses per \n",
      "neuron) relate to the complexity of the problems it can han\n"
     ]
    }
   ],
   "source": [
    "print(len(docs))\n",
    "print(docs[0][:250])"
   ]
  },
  {
   "cell_type": "markdown",
   "metadata": {},
   "source": [
    "Pre-process and vectorize the documents\n",
    "---------------------------------------\n",
    "* Tokenize (split the documents into tokens, using the NLTK tokenizer.)\n",
    "* Lemmatize the tokens.\n",
    "* Compute bigrams.\n",
    "* Compute a bag-of-words representation of the data."
   ]
  },
  {
   "cell_type": "code",
   "execution_count": 4,
   "metadata": {
    "collapsed": false,
    "jupyter": {
     "outputs_hidden": false
    }
   },
   "outputs": [],
   "source": [
    "# Tokenize the documents.\n",
    "from nltk.tokenize import RegexpTokenizer\n",
    "\n",
    "# Split the documents into tokens.\n",
    "tokenizer = RegexpTokenizer(r'\\w+')\n",
    "for idx in range(len(docs)):\n",
    "    docs[idx] = docs[idx].lower()  # Convert to lowercase.\n",
    "    docs[idx] = tokenizer.tokenize(docs[idx])  # Split into words.\n",
    "\n",
    "# Remove numbers, but not words that contain numbers.\n",
    "docs = [[token for token in doc if not token.isnumeric()] for doc in docs]\n",
    "\n",
    "# Remove words that are only one character.\n",
    "docs = [[token for token in doc if len(token) > 1] for doc in docs]"
   ]
  },
  {
   "cell_type": "markdown",
   "metadata": {},
   "source": [
    "* We use the **WordNet lemmatizer** from NLTK. A lemmatizer is preferred over a stemmer in this case because it produces more readable words. \n",
    "* Output that is easy to read is very desirable in topic modelling."
   ]
  },
  {
   "cell_type": "code",
   "execution_count": 5,
   "metadata": {
    "collapsed": false,
    "jupyter": {
     "outputs_hidden": false
    }
   },
   "outputs": [],
   "source": [
    "# Lemmatize the documents.\n",
    "from nltk.stem.wordnet import WordNetLemmatizer\n",
    "\n",
    "lemmatizer = WordNetLemmatizer()\n",
    "docs = [[lemmatizer.lemmatize(token) for token in doc] for doc in docs]"
   ]
  },
  {
   "cell_type": "markdown",
   "metadata": {},
   "source": [
    "* We find **bigrams** in the documents. Bigrams are sets of two adjacent words.\n",
    "Using bigrams we can get phrases like \"machine_learning\" in our output\n",
    "(spaces are replaced with underscores); without bigrams we would only get\n",
    "\"machine\" and \"learning\".\n",
    "\n",
    "* Note: below, we find bigrams & add them to the original data - we to keep the words \"machine\" & \"learning\" & (the bigram) \"machine_learning\".\n",
    "\n",
    "* Remember: Computing n-grams of large datasets is computationally & memory intensive."
   ]
  },
  {
   "cell_type": "code",
   "execution_count": 6,
   "metadata": {},
   "outputs": [],
   "source": [
    "import timeit"
   ]
  },
  {
   "cell_type": "code",
   "execution_count": 7,
   "metadata": {
    "collapsed": false,
    "jupyter": {
     "outputs_hidden": false
    }
   },
   "outputs": [],
   "source": [
    "# Compute bigrams.\n",
    "from gensim.models import Phrases\n",
    "\n",
    "# Add bigrams and trigrams to docs (only ones that appear 20 times or more).\n",
    "bigram = Phrases(docs, min_count=20)\n",
    "\n",
    "   \n",
    "for idx in range(len(docs)):\n",
    "    for token in bigram[docs[idx]]:\n",
    "        if '_' in token:\n",
    "            # Token is a bigram, add to document.\n",
    "            docs[idx].append(token)"
   ]
  },
  {
   "cell_type": "markdown",
   "metadata": {},
   "source": [
    "* Remove rare words and common words based on *document frequency*.\n",
    "* (words that appear in <20 documents or >50% of documents). \n",
    "* Consider trying to remove words only based on their **frequency** too."
   ]
  },
  {
   "cell_type": "code",
   "execution_count": 8,
   "metadata": {
    "collapsed": false,
    "jupyter": {
     "outputs_hidden": false
    }
   },
   "outputs": [],
   "source": [
    "# Remove rare and common tokens.\n",
    "from gensim.corpora import Dictionary\n",
    "\n",
    "# Create a dictionary representation of the documents.\n",
    "dictionary = Dictionary(docs)\n",
    "\n",
    "# Filter out words that occur less than 20 documents, or more than 50% of the documents.\n",
    "dictionary.filter_extremes(no_below=20, no_above=0.5)"
   ]
  },
  {
   "cell_type": "markdown",
   "metadata": {},
   "source": [
    "* Transform documents to vector. \n",
    "* Compute the frequency of each word, including the bigrams."
   ]
  },
  {
   "cell_type": "code",
   "execution_count": 9,
   "metadata": {
    "collapsed": false,
    "jupyter": {
     "outputs_hidden": false
    }
   },
   "outputs": [],
   "source": [
    "# Bag-of-words representation of the documents.\n",
    "corpus = [dictionary.doc2bow(doc) for doc in docs]"
   ]
  },
  {
   "cell_type": "markdown",
   "metadata": {},
   "source": [
    "* How many?"
   ]
  },
  {
   "cell_type": "code",
   "execution_count": 10,
   "metadata": {
    "collapsed": false,
    "jupyter": {
     "outputs_hidden": false
    }
   },
   "outputs": [
    {
     "name": "stdout",
     "output_type": "stream",
     "text": [
      "Number of unique tokens: 8644\n",
      "Number of documents: 1740\n"
     ]
    }
   ],
   "source": [
    "print('Number of unique tokens: %d' % len(dictionary))\n",
    "print('Number of documents: %d' % len(corpus))"
   ]
  },
  {
   "cell_type": "markdown",
   "metadata": {},
   "source": [
    "Training\n",
    "--------\n",
    "\n",
    "We are ready to train the LDA model. We will first discuss how to set some of\n",
    "the training parameters.\n",
    "\n",
    "* First: **how many topics do I need?** There is no easy answer for this, it will depend on your data & application. I have used **10 topics here** because I wanted to have a few topics that I could interpret and \"label\", and because that turned out to give me\n",
    "reasonably good results. You might not need to interpret all your topics, so\n",
    "you could use a large number of topics, for example 100.\n",
    "\n",
    "* ``chunksize`` controls how many documents are processed at a time during training. \n",
    "* Bigger chunksizes speed up training, as long as the chunk of documents easily fit into memory.\n",
    "* I've set ``chunksize = 2000``, which is more than the amount of documents, so I process all the data in one go. it can influence model quality. (see Hoffman & co-authors [2].)\n",
    "* ``passes``, aka \"epochs\", controls how often we train the model on the entire corpus.\n",
    "* ``iterations`` controls how often we repeat a particular loop over each document. It is important to set a satisfactory (high enough) #\"passes\" and #\"iterations\".\n",
    "\n",
    "* **How to** choose iterations and passes: \n",
    "    * enable logging, ``eval_every = 1`` in ``LdaModel``. \n",
    "    * When training: review log for something like this::\n",
    "    \n",
    "        ```2016-06-21 15:40:06,753 - gensim.models.ldamodel - DEBUG - 68/1566 documents converged within 400 iterations```\n",
    "    * If you set ``passes = 20`` you will see this line 20 times. \n",
    "    * Make sure that by the final passes, most of the documents have converged. You you want to choose both passes and iterations to be high enough for this to happen.\n",
    "\n",
    "* We set **alpha = 'auto'** and **eta = 'auto'**. \n",
    "\n",
    "\n"
   ]
  },
  {
   "cell_type": "code",
   "execution_count": 11,
   "metadata": {
    "collapsed": false,
    "jupyter": {
     "outputs_hidden": false
    }
   },
   "outputs": [],
   "source": [
    "# Train LDA model.\n",
    "from gensim.models import LdaModel\n",
    "\n",
    "# Set training parameters.\n",
    "num_topics = 10\n",
    "chunksize = 2000\n",
    "passes = 20\n",
    "iterations = 400\n",
    "eval_every = None  # Don't evaluate model perplexity, takes too much time.\n",
    "\n",
    "# Make a index to word dictionary.\n",
    "temp = dictionary[0]  # This is only to \"load\" the dictionary.\n",
    "id2word = dictionary.id2token\n",
    "\n",
    "model = LdaModel(\n",
    "    corpus       =corpus,\n",
    "    id2word      =id2word,\n",
    "    chunksize    =chunksize,\n",
    "    alpha        ='auto',\n",
    "    eta          ='auto',\n",
    "    iterations   =iterations,\n",
    "    num_topics   =num_topics,\n",
    "    passes       =passes,\n",
    "    eval_every   =eval_every\n",
    ")"
   ]
  },
  {
   "cell_type": "markdown",
   "metadata": {},
   "source": [
    "* We can compute the **topic coherence** of each topic. Below we display the\n",
    "average topic coherence & print the topics in order of topic coherence.\n",
    "\n",
    "* Note: we use the \"Umass\" topic coherence measure. Gensim has recently\n",
    "obtained an implementation of the \"AKSW\" topic coherence measure (see http://rare-technologies.com/what-is-topic-coherence/).\n",
    "\n",
    "* Share methods on blog at http://rare-technologies.com/lda-training-tips/"
   ]
  },
  {
   "cell_type": "code",
   "execution_count": 14,
   "metadata": {
    "collapsed": false,
    "jupyter": {
     "outputs_hidden": false
    }
   },
   "outputs": [
    {
     "name": "stdout",
     "output_type": "stream",
     "text": [
      "Average topic coherence: -1.1545.\n",
      "[([(0.019677075, 'neuron'),\n",
      "   (0.01687375, 'cell'),\n",
      "   (0.007679801, 'stimulus'),\n",
      "   (0.0075856154, 'response'),\n",
      "   (0.0075718933, 'activity'),\n",
      "   (0.0072249984, 'spike'),\n",
      "   (0.006526222, 'synaptic'),\n",
      "   (0.0054767067, 'firing'),\n",
      "   (0.0049440907, 'connection'),\n",
      "   (0.004776207, 'cortex'),\n",
      "   (0.0045617186, 'signal'),\n",
      "   (0.0044404753, 'frequency'),\n",
      "   (0.00400868, 'visual'),\n",
      "   (0.003995763, 'fig'),\n",
      "   (0.003983469, 'cortical'),\n",
      "   (0.0038858573, 'orientation'),\n",
      "   (0.0038649454, 'noise'),\n",
      "   (0.0036327932, 'potential'),\n",
      "   (0.0035797937, 'field'),\n",
      "   (0.0034529855, 'layer')],\n",
      "  -0.8491954138363681),\n",
      " ([(0.0076544937, 'gaussian'),\n",
      "   (0.0062915096, 'mixture'),\n",
      "   (0.0060493224, 'density'),\n",
      "   (0.005303372, 'likelihood'),\n",
      "   (0.005155422, 'matrix'),\n",
      "   (0.005063279, 'prior'),\n",
      "   (0.005018555, 'component'),\n",
      "   (0.0049988, 'estimate'),\n",
      "   (0.004524429, 'bayesian'),\n",
      "   (0.0041858866, 'class'),\n",
      "   (0.004135563, 'sample'),\n",
      "   (0.0041156034, 'log'),\n",
      "   (0.003909453, 'variance'),\n",
      "   (0.0038886806, 'noise'),\n",
      "   (0.0038504775, 'em'),\n",
      "   (0.0036320158, 'kernel'),\n",
      "   (0.003582885, 'posterior'),\n",
      "   (0.0035652213, 'approximation'),\n",
      "   (0.0033042487, 'estimation'),\n",
      "   (0.0030533713, 'maximum')],\n",
      "  -0.9316106248094381),\n",
      " ([(0.007576186, 'bound'),\n",
      "   (0.0059719807, 'let'),\n",
      "   (0.0053421343, 'generalization'),\n",
      "   (0.0051333695, 'class'),\n",
      "   (0.0048294924, 'theorem'),\n",
      "   (0.0047607943, 'approximation'),\n",
      "   (0.0046352535, 'optimal'),\n",
      "   (0.004573189, 'gradient'),\n",
      "   (0.0041395817, 'convergence'),\n",
      "   (0.0036697707, 'dimension'),\n",
      "   (0.0035088023, 'loss'),\n",
      "   (0.003465206, 'sample'),\n",
      "   (0.0034225625, 'layer'),\n",
      "   (0.0032407565, 'xi'),\n",
      "   (0.00310563, 'complexity'),\n",
      "   (0.002986695, 'threshold'),\n",
      "   (0.0027514317, 'polynomial'),\n",
      "   (0.0027484118, 'proof'),\n",
      "   (0.0026965626, 'minimum'),\n",
      "   (0.0026918119, 'estimate')],\n",
      "  -1.0567008243024965),\n",
      " ([(0.025768364, 'image'),\n",
      "   (0.0070175147, 'chip'),\n",
      "   (0.006684987, 'object'),\n",
      "   (0.0059132385, 'pixel'),\n",
      "   (0.0053625302, 'neuron'),\n",
      "   (0.0047130953, 'map'),\n",
      "   (0.004674757, 'recognition'),\n",
      "   (0.004355471, 'layer'),\n",
      "   (0.0042062528, 'analog'),\n",
      "   (0.0036744822, 'bit'),\n",
      "   (0.00359605, 'constraint'),\n",
      "   (0.0033979358, 'scale'),\n",
      "   (0.0032641413, 'implementation'),\n",
      "   (0.0032274956, 'region'),\n",
      "   (0.0029711341, 'distance'),\n",
      "   (0.0029648063, 'processor'),\n",
      "   (0.0029349222, 'fig'),\n",
      "   (0.002896638, 'dimensional'),\n",
      "   (0.0028257892, 'field'),\n",
      "   (0.0028149472, 'surface')],\n",
      "  -1.1015998232016726),\n",
      " ([(0.014129241, 'hidden'),\n",
      "   (0.008829054, 'hidden_unit'),\n",
      "   (0.0074830363, 'layer'),\n",
      "   (0.0062225973, 'architecture'),\n",
      "   (0.005329065, 'recurrent'),\n",
      "   (0.00512167, 'trained'),\n",
      "   (0.0049643423, 'net'),\n",
      "   (0.0044252085, 'rule'),\n",
      "   (0.0043849107, 'propagation'),\n",
      "   (0.004268533, 'prediction'),\n",
      "   (0.004254556, 'dynamic'),\n",
      "   (0.0042514405, 'back'),\n",
      "   (0.0041717133, 'control'),\n",
      "   (0.004138678, 'expert'),\n",
      "   (0.003947187, 'activation'),\n",
      "   (0.003538468, 'forward'),\n",
      "   (0.003493403, 'node'),\n",
      "   (0.0032428037, 'learn'),\n",
      "   (0.0031715191, 'module'),\n",
      "   (0.003169057, 'back_propagation')],\n",
      "  -1.1262917995925026),\n",
      " ([(0.0071319574, 'net'),\n",
      "   (0.006847608, 'node'),\n",
      "   (0.006535509, 'memory'),\n",
      "   (0.0063249753, 'rule'),\n",
      "   (0.0053453473, 'classifier'),\n",
      "   (0.005274952, 'character'),\n",
      "   (0.0052243355, 'distance'),\n",
      "   (0.005011112, 'tree'),\n",
      "   (0.0045337128, 'class'),\n",
      "   (0.0041972306, 'classification'),\n",
      "   (0.0040777847, 'sequence'),\n",
      "   (0.0031035421, 'layer'),\n",
      "   (0.003090232, 'recognition'),\n",
      "   (0.0030592533, 'code'),\n",
      "   (0.002995772, 'training_set'),\n",
      "   (0.00285077, 'language'),\n",
      "   (0.0027741755, 'instance'),\n",
      "   (0.0027544636, 'machine'),\n",
      "   (0.0026976117, 'table'),\n",
      "   (0.0026393756, 'similarity')],\n",
      "  -1.165009225815537),\n",
      " ([(0.019427804, 'speech'),\n",
      "   (0.016852645, 'recognition'),\n",
      "   (0.015720135, 'word'),\n",
      "   (0.009914742, 'signal'),\n",
      "   (0.0069496315, 'speaker'),\n",
      "   (0.006781785, 'hmm'),\n",
      "   (0.0065187723, 'context'),\n",
      "   (0.005777361, 'classifier'),\n",
      "   (0.0057018874, 'sequence'),\n",
      "   (0.0053154626, 'acoustic'),\n",
      "   (0.005308066, 'hidden'),\n",
      "   (0.005294137, 'frame'),\n",
      "   (0.005269375, 'sound'),\n",
      "   (0.0051369043, 'layer'),\n",
      "   (0.004950608, 'class'),\n",
      "   (0.004811434, 'phoneme'),\n",
      "   (0.0047611664, 'classification'),\n",
      "   (0.004466841, 'trained'),\n",
      "   (0.0044250293, 'mlp'),\n",
      "   (0.0041933027, 'frequency')],\n",
      "  -1.1885239435061608),\n",
      " ([(0.0140291825, 'action'),\n",
      "   (0.011789287, 'control'),\n",
      "   (0.010603445, 'policy'),\n",
      "   (0.009072229, 'reinforcement'),\n",
      "   (0.007049176, 'optimal'),\n",
      "   (0.0060297693, 'robot'),\n",
      "   (0.0060239774, 'reinforcement_learning'),\n",
      "   (0.005555836, 'dynamic'),\n",
      "   (0.0052648024, 'environment'),\n",
      "   (0.004898206, 'reward'),\n",
      "   (0.0046595144, 'trajectory'),\n",
      "   (0.0043289443, 'goal'),\n",
      "   (0.004105972, 'controller'),\n",
      "   (0.0039717136, 'path'),\n",
      "   (0.0038072397, 'decision'),\n",
      "   (0.0035665873, 'sutton'),\n",
      "   (0.0033710008, 'agent'),\n",
      "   (0.003232451, 'arm'),\n",
      "   (0.0031487925, 'trial'),\n",
      "   (0.0031459597, 'cost')],\n",
      "  -1.299643209974673),\n",
      " ([(0.011020137, 'visual'),\n",
      "   (0.010799918, 'motion'),\n",
      "   (0.009971419, 'object'),\n",
      "   (0.009466008, 'image'),\n",
      "   (0.008822639, 'circuit'),\n",
      "   (0.008640913, 'direction'),\n",
      "   (0.0064094486, 'position'),\n",
      "   (0.00631809, 'field'),\n",
      "   (0.0061807204, 'response'),\n",
      "   (0.0059308438, 'eye'),\n",
      "   (0.005910354, 'movement'),\n",
      "   (0.005737841, 'velocity'),\n",
      "   (0.005549812, 'target'),\n",
      "   (0.0050528706, 'motor'),\n",
      "   (0.0050259214, 'view'),\n",
      "   (0.0050148866, 'voltage'),\n",
      "   (0.0045608017, 'location'),\n",
      "   (0.004456482, 'human'),\n",
      "   (0.004268895, 'filter'),\n",
      "   (0.00415921, 'head')],\n",
      "  -1.3315290317403001),\n",
      " ([(0.008578561, 'matrix'),\n",
      "   (0.008390455, 'dynamic'),\n",
      "   (0.0065281945, 'memory'),\n",
      "   (0.0058722477, 'hopfield'),\n",
      "   (0.005730972, 'circuit'),\n",
      "   (0.0054215877, 'threshold'),\n",
      "   (0.005346034, 'delay'),\n",
      "   (0.0052599194, 'neuron'),\n",
      "   (0.0051892875, 'energy'),\n",
      "   (0.0050020316, 'solution'),\n",
      "   (0.00468974, 'analog'),\n",
      "   (0.0045333225, 'gate'),\n",
      "   (0.0043777656, 'region'),\n",
      "   (0.00425997, 'fixed_point'),\n",
      "   (0.0042175855, 'stable'),\n",
      "   (0.004175724, 'element'),\n",
      "   (0.0040125875, 'ii'),\n",
      "   (0.0039490545, 'signal'),\n",
      "   (0.0038033037, 'rbf'),\n",
      "   (0.003605517, 'equilibrium')],\n",
      "  -1.4951999632408381)]\n"
     ]
    }
   ],
   "source": [
    "# Average topic coherence is the sum(topic coherences of all topics)/#topics.\n",
    "\n",
    "top_topics          = model.top_topics(corpus) #, num_words=20)\n",
    "avg_topic_coherence = sum([t[1] for t in top_topics]) / num_topics\n",
    "\n",
    "print('Average topic coherence: %.4f.' % avg_topic_coherence)\n",
    "\n",
    "pprint.pprint(top_topics)"
   ]
  },
  {
   "cell_type": "markdown",
   "metadata": {},
   "source": [
    "Resources\n",
    "---------\n",
    "* [AKSW topic coherence measure (RaRe)](http://rare-technologies.com/what-is-topic-coherence/).\n",
    "* [pyLDAvis](https://pyldavis.readthedocs.io/en/latest/index.html)."
   ]
  },
  {
   "cell_type": "code",
   "execution_count": null,
   "metadata": {},
   "outputs": [],
   "source": []
  }
 ],
 "metadata": {
  "kernelspec": {
   "display_name": "Python 3",
   "language": "python",
   "name": "python3"
  },
  "language_info": {
   "codemirror_mode": {
    "name": "ipython",
    "version": 3
   },
   "file_extension": ".py",
   "mimetype": "text/x-python",
   "name": "python",
   "nbconvert_exporter": "python",
   "pygments_lexer": "ipython3",
   "version": "3.6.9"
  }
 },
 "nbformat": 4,
 "nbformat_minor": 4
}
