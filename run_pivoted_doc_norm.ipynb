{
 "cells": [
  {
   "cell_type": "code",
   "execution_count": null,
   "metadata": {
    "collapsed": false,
    "jupyter": {
     "outputs_hidden": false
    }
   },
   "outputs": [],
   "source": [
    "%matplotlib inline"
   ]
  },
  {
   "cell_type": "markdown",
   "metadata": {},
   "source": [
    "[Pivoted Document Length Normalization (Singhal, Buckley and Mitra)](http://singhal.info/pivoted-dln.pdf)\n",
    "=====================================\n",
    "\n",
    "* PDLN counters the problem of short document bias when working with TfIdf -- thereby\n",
    "increasing classification accuracy.\n"
   ]
  },
  {
   "cell_type": "markdown",
   "metadata": {},
   "source": [
    "* Normalized tfidf weights for each term often favor the weights of terms in documents with shorter length. The *pivoted document length normalization* scheme mitigates this problem by  making tfidf independent of document length.\n",
    "\n",
    "* This is done by *tilting* the normalization curve along the pivot point defined by user with some slope:\n",
    "\n",
    "    ``pivoted_norm = (1 - slope) * pivot + slope * old_norm``\n",
    "\n",
    "* This approach can increase model accuracy when a corpus's document lengths have wide variance.\n",
    "\n",
    "* We will train a logistic regression to distinguish between text from two different newsgroups.\n",
    "* Show that PDLN yields a better model (higher classification accuracy)."
   ]
  },
  {
   "cell_type": "code",
   "execution_count": 1,
   "metadata": {
    "collapsed": false,
    "jupyter": {
     "outputs_hidden": false
    }
   },
   "outputs": [
    {
     "name": "stderr",
     "output_type": "stream",
     "text": [
      "unable to import 'smart_open.gcs', disabling that module\n"
     ]
    },
    {
     "name": "stdout",
     "output_type": "stream",
     "text": [
      "[==================================================] 100.1% 13.8/13.8MB downloaded\n"
     ]
    },
    {
     "name": "stderr",
     "output_type": "stream",
     "text": [
      "/home/bjpcjp/.local/lib/python3.6/site-packages/smart_open-1.11.1-py3.6.egg/smart_open/smart_open_lib.py:253: UserWarning: This function is deprecated, use smart_open.open instead. See the migration notes for details: https://github.com/RaRe-Technologies/smart_open/blob/master/README.rst#migrating-to-the-new-open-function\n",
      "  'See the migration notes for details: %s' % _MIGRATION_NOTES_URL\n"
     ]
    }
   ],
   "source": [
    "# Download our dataset\n",
    "import gensim.downloader as api\n",
    "nws = api.load(\"20-newsgroups\")\n",
    "\n",
    "# Pick texts from relevant newsgroups, split into training and test set.\n",
    "cat1, cat2 = ('sci.electronics', 'sci.space')\n",
    "\n",
    "# X_* contain the actual texts as strings.\n",
    "# Y_* contain labels, 0 for cat1 (sci.electronics) and 1 for cat2 (sci.space)\n",
    "\n",
    "X_train, X_test, y_train, y_test = [],[],[],[]\n",
    "\n",
    "for i in nws:\n",
    "    if i[\"set\"] == \"train\" and i[\"topic\"] == cat1:\n",
    "        X_train.append(i[\"data\"])\n",
    "        y_train.append(0)\n",
    "\n",
    "    elif i[\"set\"] == \"train\" and i[\"topic\"] == cat2:\n",
    "        X_train.append(i[\"data\"])\n",
    "        y_train.append(1)\n",
    "        \n",
    "    elif i[\"set\"] == \"test\" and i[\"topic\"] == cat1:\n",
    "        X_test.append(i[\"data\"])\n",
    "        y_test.append(0)\n",
    "        \n",
    "    elif i[\"set\"] == \"test\" and i[\"topic\"] == cat2:\n",
    "        X_test.append(i[\"data\"])\n",
    "        y_test.append(1)"
   ]
  },
  {
   "cell_type": "code",
   "execution_count": 2,
   "metadata": {
    "collapsed": false,
    "jupyter": {
     "outputs_hidden": false
    }
   },
   "outputs": [
    {
     "name": "stdout",
     "output_type": "stream",
     "text": [
      "1184 787\n"
     ]
    }
   ],
   "source": [
    "from gensim.parsing.preprocessing import preprocess_string\n",
    "from gensim.corpora import Dictionary\n",
    "\n",
    "id2word      = Dictionary([preprocess_string(doc) for doc in X_train])\n",
    "train_corpus = [id2word.doc2bow(preprocess_string(doc)) for doc in X_train]\n",
    "test_corpus  = [id2word.doc2bow(preprocess_string(doc)) for doc in X_test]\n",
    "\n",
    "print(len(X_train), len(X_test))\n",
    "\n",
    "# We perform our analysis on top k documents which is almost top 10% most scored documents\n",
    "k = len(X_test) // 10"
   ]
  },
  {
   "cell_type": "markdown",
   "metadata": {},
   "source": [
    "* define evaluation function\n",
    "\n",
    "\n"
   ]
  },
  {
   "cell_type": "code",
   "execution_count": 3,
   "metadata": {
    "collapsed": false,
    "jupyter": {
     "outputs_hidden": false
    }
   },
   "outputs": [],
   "source": [
    "from gensim.sklearn_api.tfidf import TfIdfTransformer\n",
    "from sklearn.linear_model     import LogisticRegression\n",
    "from gensim.matutils          import corpus2csc\n",
    "\n",
    "# returns model accuracy + indivitual document prob values\n",
    "# uses TfIdfTransformer (gensim) and sklearn's LogisticRegression (sklearn)\n",
    "\n",
    "def get_tfidf_scores(kwargs):\n",
    "    tfidf_transformer = TfIdfTransformer(**kwargs).fit(train_corpus)\n",
    "\n",
    "    X_train_tfidf  = corpus2csc(tfidf_transformer.transform(train_corpus), \n",
    "                                num_terms=len(id2word)).T\n",
    "    X_test_tfidf   = corpus2csc(tfidf_transformer.transform(test_corpus), \n",
    "                                num_terms=len(id2word)).T\n",
    "    clf            = LogisticRegression().fit(X_train_tfidf, \n",
    "                                              y_train)\n",
    "    model_accuracy = clf.score(X_test_tfidf, \n",
    "                               y_test)\n",
    "    doc_scores     = clf.decision_function(X_test_tfidf)\n",
    "\n",
    "    return model_accuracy, doc_scores"
   ]
  },
  {
   "cell_type": "markdown",
   "metadata": {},
   "source": [
    "Get TFIDF scores for corpus WITHOUT PDLN:\n",
    "-----------------------------------------\n",
    "\n"
   ]
  },
  {
   "cell_type": "code",
   "execution_count": 4,
   "metadata": {
    "collapsed": false,
    "jupyter": {
     "outputs_hidden": false
    }
   },
   "outputs": [
    {
     "name": "stdout",
     "output_type": "stream",
     "text": [
      "0.9682337992376112\n"
     ]
    }
   ],
   "source": [
    "params = {}\n",
    "model_accuracy, doc_scores = get_tfidf_scores(params)\n",
    "print(model_accuracy)"
   ]
  },
  {
   "cell_type": "markdown",
   "metadata": {},
   "source": [
    "### Examine bias towards shorter documents\n",
    "- sort documents by scores, return scores and lengths\n"
   ]
  },
  {
   "cell_type": "code",
   "execution_count": 6,
   "metadata": {
    "collapsed": false,
    "jupyter": {
     "outputs_hidden": false
    }
   },
   "outputs": [
    {
     "name": "stdout",
     "output_type": "stream",
     "text": [
      "Normal cosine normalisation favors short documents - top 78 docs mean doc length of 1668.179 compared to the corpus mean doc length of 1577.799\n"
     ]
    }
   ],
   "source": [
    "import numpy as np\n",
    "\n",
    "def sort_length_by_score(doc_scores, X_test):\n",
    "\n",
    "    doc_scores = sorted(enumerate(doc_scores), key=lambda x: x[1])\n",
    "    doc_leng   = np.empty(len(doc_scores))\n",
    "    ds         = np.empty(len(doc_scores))\n",
    "\n",
    "    for i, _ in enumerate(doc_scores):\n",
    "        doc_leng[i] = len(X_test[_[0]])\n",
    "        ds[i]       = _[1]\n",
    "\n",
    "    return ds, doc_leng\n",
    "\n",
    "print(\n",
    "   \"Normal cosine normalisation favors short documents - top {} \"\n",
    "   \"docs mean doc length of {:.3f} compared to the corpus mean doc length of {:.3f}\"\n",
    "   .format(\n",
    "       k, \n",
    "       sort_length_by_score(doc_scores, X_test)[1][:k].mean(), \n",
    "       sort_length_by_score(doc_scores, X_test)[1].mean()\n",
    "   )\n",
    ")"
   ]
  },
  {
   "cell_type": "markdown",
   "metadata": {},
   "source": [
    "Get TFIDF scores for corpus with PDLN\n",
    "----------------------------------------------------------------------\n",
    "\n",
    "* Using various values of alpha (slope).\n",
    "\n"
   ]
  },
  {
   "cell_type": "code",
   "execution_count": 7,
   "metadata": {
    "collapsed": false,
    "jupyter": {
     "outputs_hidden": false
    }
   },
   "outputs": [
    {
     "name": "stdout",
     "output_type": "stream",
     "text": [
      "Score for slope 0.0 is 0.9707750952986023\n",
      "Score for slope 0.1 is 0.9720457433290979\n",
      "Score for slope 0.2 is 0.9758576874205845\n",
      "Score for slope 0.30000000000000004 is 0.9783989834815756\n",
      "Score for slope 0.4 is 0.97712833545108\n",
      "Score for slope 0.5 is 0.9758576874205845\n",
      "Score for slope 0.6000000000000001 is 0.974587039390089\n",
      "Score for slope 0.7000000000000001 is 0.9720457433290979\n",
      "Score for slope 0.8 is 0.9733163913595934\n",
      "Score for slope 0.9 is 0.9707750952986023\n",
      "Score for slope 1.0 is 0.9682337992376112\n",
      "We get best score of 0.9783989834815756 at slope 0.30000000000000004\n"
     ]
    }
   ],
   "source": [
    "best_model_accuracy = 0\n",
    "optimum_slope = 0\n",
    "for slope in np.arange(0, 1.1, 0.1):\n",
    "    params = {\"pivot\": 10, \"slope\": slope}\n",
    "\n",
    "    model_accuracy, doc_scores = get_tfidf_scores(params)\n",
    "\n",
    "    if model_accuracy       > best_model_accuracy:\n",
    "        best_model_accuracy = model_accuracy\n",
    "        optimum_slope       = slope\n",
    "\n",
    "    print(\"Score for slope {} is {}\".format(slope, model_accuracy))\n",
    "\n",
    "print(\"We get best score of {} at slope {}\".format(best_model_accuracy, optimum_slope))"
   ]
  },
  {
   "cell_type": "markdown",
   "metadata": {},
   "source": [
    "* Evaluate the model with optimum slope\n",
    "\n",
    "\n"
   ]
  },
  {
   "cell_type": "code",
   "execution_count": 9,
   "metadata": {
    "collapsed": false,
    "jupyter": {
     "outputs_hidden": false
    }
   },
   "outputs": [
    {
     "name": "stdout",
     "output_type": "stream",
     "text": [
      "0.9783989834815756\n",
      "Pivoted normalisation: top 78 docs mean length = 2077.346 ; corpus mean doc length = 1577.799\n"
     ]
    }
   ],
   "source": [
    "params                     = {\"pivot\": 10, \"slope\": optimum_slope}\n",
    "model_accuracy, doc_scores = get_tfidf_scores(params)\n",
    "print(model_accuracy)\n",
    "\n",
    "print(\n",
    "   \"Pivoted normalisation: top {} docs mean length = {:.3f} \"\n",
    "   \"; corpus mean doc length = {:.3f}\"\n",
    "   .format(\n",
    "       k, sort_length_by_score(doc_scores, X_test)[1][:k].mean(), \n",
    "       sort_length_by_score(doc_scores, X_test)[1].mean()\n",
    "   )\n",
    ")"
   ]
  },
  {
   "cell_type": "markdown",
   "metadata": {},
   "source": [
    "Visualizing the pivoted normalization\n",
    "-------------------------------------\n",
    "\n",
    "* Since cosine normalization favors retrieval of short documents from the plot\n",
    "we can see that when slope was 1 (when pivoted normalisation was not applied)\n",
    "short documents with length of around 500 had very good score hence the bias\n",
    "for short documents can be seen. \n",
    "* Varying slope from 1 to 0 intoduces a new bias for long documents to counter the bias caused by cosine normalisation. Therefore at a certain point we got an optimum value of slope which is 0.5 where the overall accuracy of the model is increased.\n",
    "\n",
    "\n"
   ]
  },
  {
   "cell_type": "code",
   "execution_count": 11,
   "metadata": {
    "collapsed": false,
    "jupyter": {
     "outputs_hidden": false
    }
   },
   "outputs": [
    {
     "data": {
      "image/png": "[encoded data removed]",
      "text/plain": [
       "<Figure size 1080x504 with 2 Axes>"
      ]
     },
     "metadata": {
      "needs_background": "light"
     },
     "output_type": "display_data"
    }
   ],
   "source": [
    "import matplotlib.pyplot as py\n",
    "\n",
    "best_model_accuracy = 0\n",
    "optimum_slope = 0\n",
    "\n",
    "w = 2\n",
    "h = 2\n",
    "f, axarr = py.subplots(h, w, figsize=(15, 7))\n",
    "\n",
    "it = 0\n",
    "for slope in [1, 0.2]:\n",
    "    params = {\"pivot\": 10, \"slope\": slope}\n",
    "\n",
    "    model_accuracy, doc_scores = get_tfidf_scores(params)\n",
    "\n",
    "    if model_accuracy > best_model_accuracy:\n",
    "        best_model_accuracy = model_accuracy\n",
    "        optimum_slope = slope\n",
    "\n",
    "    doc_scores, doc_leng = sort_length_by_score(doc_scores, X_test)\n",
    "\n",
    "    y = abs(doc_scores[:k, np.newaxis])\n",
    "    x = doc_leng[:k, np.newaxis]\n",
    "\n",
    "    py.subplot(1, 2, it+1).bar(x, y, width=20, linewidth=0)\n",
    "    py.title(\"slope = \" + str(slope) + \" Model accuracy = \" + str(model_accuracy))\n",
    "    py.ylim([0, 4.5])\n",
    "    py.xlim([0, 3200])\n",
    "    py.xlabel(\"document length\")\n",
    "    py.ylabel(\"confidence score\")\n",
    "    \n",
    "    it += 1\n",
    "\n",
    "py.tight_layout()\n",
    "py.show()"
   ]
  },
  {
   "cell_type": "markdown",
   "metadata": {},
   "source": [
    "* The above histogram visualizes the effect of ``slope``. For top k documents we have document length on the x axis and their respective scores of belonging to a specific class on y axis.  \n",
    "* Decreasing slope shifts the bin densities from low (~250-500) to over ~500 document lengths. This suggests the positive bias seen at ``slope=1`` (when tfidf was used) for short documents is now reduced. We get the optimum slope or the max model accuracy when slope is 0.2.\n",
    "\n",
    "Conclusion\n",
    "==========\n",
    "* PDN significantly improved the classification accuracy."
   ]
  },
  {
   "cell_type": "code",
   "execution_count": null,
   "metadata": {},
   "outputs": [],
   "source": []
  }
 ],
 "metadata": {
  "kernelspec": {
   "display_name": "Python 3",
   "language": "python",
   "name": "python3"
  },
  "language_info": {
   "codemirror_mode": {
    "name": "ipython",
    "version": 3
   },
   "file_extension": ".py",
   "mimetype": "text/x-python",
   "name": "python",
   "nbconvert_exporter": "python",
   "pygments_lexer": "ipython3",
   "version": "3.6.9"
  }
 },
 "nbformat": 4,
 "nbformat_minor": 4
}
