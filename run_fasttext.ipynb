{
 "cells": [
  {
   "cell_type": "code",
   "execution_count": 1,
   "metadata": {
    "collapsed": false,
    "jupyter": {
     "outputs_hidden": false
    }
   },
   "outputs": [],
   "source": [
    "%matplotlib inline"
   ]
  },
  {
   "cell_type": "markdown",
   "metadata": {},
   "source": [
    "\n",
    "FastText Model\n",
    "==============\n",
    "\n",
    "Introduces Gensim's fastText model and demonstrates its use on the Lee Corpus.\n",
    "\n"
   ]
  },
  {
   "cell_type": "code",
   "execution_count": 2,
   "metadata": {
    "collapsed": false,
    "jupyter": {
     "outputs_hidden": false
    }
   },
   "outputs": [],
   "source": [
    "import logging\n",
    "logging.basicConfig(format='%(asctime)s : %(levelname)s : %(message)s', level=logging.INFO)"
   ]
  },
  {
   "cell_type": "markdown",
   "metadata": {},
   "source": [
    "Here, we'll learn to work with fastText library for training word-embedding\n",
    "models, saving & loading them and performing similarity operations & vector\n",
    "lookups analogous to Word2Vec.\n",
    "\n"
   ]
  },
  {
   "cell_type": "markdown",
   "metadata": {},
   "source": [
    "When to use FastText?\n",
    "---------------------\n",
    "\n",
    "The morphological structure of a word carries important information about its meaning, which is not taken into account by traditional word embeddings which train a unique word embedding for every individual word.\n",
    "\n",
    "This is significant for morphologically rich languages (German, Turkish) in which a single word can have a large number of morphological forms, each of which might occur rarely, thus making it hard to train good word embeddings.\n",
    "\n",
    "fastText treats each word as the aggregation of its subwords. Subwords are taken to be the character ngrams of the word. The vector for a word is simply taken to be the sum of all vectors of its component char-ngrams.\n",
    "\n",
    "fastText does significantly better on syntactic tasks as compared to the original Word2Vec, especially on smaller training sets. Word2Vec slightly outperforms FastText on semantic tasks. The differences grow smaller as the size of training corpus increases.\n",
    "\n",
    "Training time for fastText is higher than the Gensim version of Word2Vec.\n",
    "\n",
    "fastText can be used to obtain vectors for out-of-vocabulary (OOV) words, by summing up vectors for its component char-ngrams, if least one of the char-ngrams was present in the training data."
   ]
  },
  {
   "cell_type": "markdown",
   "metadata": {},
   "source": [
    "Training models\n",
    "---------------\n",
    "\n",
    "\n"
   ]
  },
  {
   "cell_type": "markdown",
   "metadata": {},
   "source": [
    "For the following examples, we'll use the Lee Corpus (which you already have if you've installed gensim) for training our model.\n",
    "\n",
    "\n",
    "\n",
    "\n"
   ]
  },
  {
   "cell_type": "code",
   "execution_count": 3,
   "metadata": {
    "collapsed": false,
    "jupyter": {
     "outputs_hidden": false
    }
   },
   "outputs": [
    {
     "name": "stderr",
     "output_type": "stream",
     "text": [
      "2020-04-21 17:41:52,156 : WARNING : unable to import 'smart_open.gcs', disabling that module\n",
      "2020-04-21 17:41:52,446 : INFO : adding document #0 to Dictionary(0 unique tokens: [])\n",
      "2020-04-21 17:41:52,447 : INFO : built Dictionary(12 unique tokens: ['computer', 'human', 'interface', 'response', 'survey']...) from 9 documents (total 29 corpus positions)\n",
      "2020-04-21 17:41:52,448 : INFO : resetting layer weights\n",
      "2020-04-21 17:41:58,614 : INFO : collecting all words and their counts\n",
      "2020-04-21 17:41:58,672 : INFO : PROGRESS: at sentence #0, processed 0 words, keeping 0 word types\n",
      "2020-04-21 17:41:58,689 : INFO : collected 10781 word types from a corpus of 59890 raw words and 300 sentences\n",
      "2020-04-21 17:41:58,690 : INFO : Loading a fresh vocabulary\n",
      "2020-04-21 17:41:58,696 : INFO : effective_min_count=5 retains 1762 unique words (16% of original 10781, drops 9019)\n",
      "2020-04-21 17:41:58,697 : INFO : effective_min_count=5 leaves 46084 word corpus (76% of original 59890, drops 13806)\n",
      "2020-04-21 17:41:58,702 : INFO : deleting the raw counts dictionary of 10781 items\n",
      "2020-04-21 17:41:58,703 : INFO : sample=0.001 downsamples 45 most-common words\n",
      "2020-04-21 17:41:58,704 : INFO : downsampling leaves estimated 32610 word corpus (70.8% of prior 46084)\n",
      "2020-04-21 17:41:58,721 : INFO : estimated required memory for 1762 words, 16936 buckets and 100 dimensions: 9411496 bytes\n",
      "2020-04-21 17:41:58,722 : INFO : resetting layer weights\n",
      "2020-04-21 17:42:01,164 : INFO : training model with 3 workers on 1762 vocabulary and 100 features, using sg=0 hs=0 sample=0.001 negative=5 window=5\n",
      "2020-04-21 17:42:01,249 : INFO : worker thread finished; awaiting finish of 2 more threads\n",
      "2020-04-21 17:42:01,257 : INFO : worker thread finished; awaiting finish of 1 more threads\n",
      "2020-04-21 17:42:01,258 : INFO : worker thread finished; awaiting finish of 0 more threads\n",
      "2020-04-21 17:42:01,259 : INFO : EPOCH - 1 : training on 60387 raw words (32958 effective words) took 0.1s, 362469 effective words/s\n",
      "2020-04-21 17:42:01,345 : INFO : worker thread finished; awaiting finish of 2 more threads\n",
      "2020-04-21 17:42:01,348 : INFO : worker thread finished; awaiting finish of 1 more threads\n",
      "2020-04-21 17:42:01,351 : INFO : worker thread finished; awaiting finish of 0 more threads\n",
      "2020-04-21 17:42:01,351 : INFO : EPOCH - 2 : training on 60387 raw words (32906 effective words) took 0.1s, 379701 effective words/s\n",
      "2020-04-21 17:42:01,442 : INFO : worker thread finished; awaiting finish of 2 more threads\n",
      "2020-04-21 17:42:01,443 : INFO : worker thread finished; awaiting finish of 1 more threads\n",
      "2020-04-21 17:42:01,445 : INFO : worker thread finished; awaiting finish of 0 more threads\n",
      "2020-04-21 17:42:01,446 : INFO : EPOCH - 3 : training on 60387 raw words (32863 effective words) took 0.1s, 363215 effective words/s\n",
      "2020-04-21 17:42:01,533 : INFO : worker thread finished; awaiting finish of 2 more threads\n",
      "2020-04-21 17:42:01,534 : INFO : worker thread finished; awaiting finish of 1 more threads\n",
      "2020-04-21 17:42:01,537 : INFO : worker thread finished; awaiting finish of 0 more threads\n",
      "2020-04-21 17:42:01,537 : INFO : EPOCH - 4 : training on 60387 raw words (32832 effective words) took 0.1s, 376885 effective words/s\n",
      "2020-04-21 17:42:01,624 : INFO : worker thread finished; awaiting finish of 2 more threads\n",
      "2020-04-21 17:42:01,627 : INFO : worker thread finished; awaiting finish of 1 more threads\n",
      "2020-04-21 17:42:01,635 : INFO : worker thread finished; awaiting finish of 0 more threads\n",
      "2020-04-21 17:42:01,636 : INFO : EPOCH - 5 : training on 60387 raw words (32827 effective words) took 0.1s, 345437 effective words/s\n",
      "2020-04-21 17:42:01,638 : INFO : training on a 301935 raw words (164386 effective words) took 0.5s, 347839 effective words/s\n",
      "2020-04-21 17:42:01,639 : WARNING : under 10 jobs per worker: consider setting a smaller `batch_words' for smoother alpha decay\n"
     ]
    },
    {
     "name": "stdout",
     "output_type": "stream",
     "text": [
      "<gensim.models.fasttext.FastText object at 0x7f93e20a2c18>\n"
     ]
    }
   ],
   "source": [
    "from pprint import pprint as print\n",
    "from gensim.models.fasttext import FastText as FT_gensim\n",
    "from gensim.test.utils import datapath\n",
    "\n",
    "# Set file names for train and test data\n",
    "corpus_file = datapath('lee_background.cor')\n",
    "\n",
    "model = FT_gensim(size=100)\n",
    "\n",
    "# build the vocabulary\n",
    "model.build_vocab(corpus_file=corpus_file)\n",
    "\n",
    "# train the model\n",
    "model.train(\n",
    "    corpus_file=corpus_file, epochs=model.epochs,\n",
    "    total_examples=model.corpus_count, total_words=model.corpus_total_words\n",
    ")\n",
    "\n",
    "print(model)"
   ]
  },
  {
   "cell_type": "markdown",
   "metadata": {},
   "source": [
    "### Training hyperparameters"
   ]
  },
  {
   "cell_type": "markdown",
   "metadata": {},
   "source": [
    "Hyperparameters for training the model follow the same pattern as Word2Vec. FastText supports the following parameters from the original word2vec:\n",
    "\n",
    "- model: Training architecture. Allowed values: `cbow`, `skipgram` (Default `cbow`)\n",
    "- size: Size of embeddings to be learnt (Default 100)\n",
    "- alpha: Initial learning rate (Default 0.025)\n",
    "- window: Context window size (Default 5)\n",
    "- min_count: Ignore words with number of occurrences below this (Default 5)\n",
    "- loss: Training objective. Allowed values: `ns`, `hs`, `softmax` (Default `ns`)\n",
    "- sample: Threshold for downsampling higher-frequency words (Default 0.001)\n",
    "- negative: Number of negative words to sample, for `ns` (Default 5)\n",
    "- iter: Number of epochs (Default 5)\n",
    "- sorted_vocab: Sort vocab by descending frequency (Default 1)\n",
    "- threads: Number of threads to use (Default 12)\n",
    "\n",
    "FastText has three additional parameters:\n",
    "\n",
    "- min_n: min length of char ngrams (Default 3)\n",
    "- max_n: max length of char ngrams (Default 6)\n",
    "- bucket: number of buckets used for hashing ngrams (Default 2000000)\n",
    "\n",
    "\n",
    "``min_n`` and ``max_n`` control the lengths of character ngrams that each word is broken down into while training and looking up embeddings. If ``max_n`` is set to 0, or to be lesser than ``min_n``\\ , no character ngrams are used, and the model effectively reduces to Word2Vec.\n",
    "\n",
    "To bound the memory requirements of the model being trained, a hashing function maps ngrams to integers in 1 to K. For hashing these character sequences, the `Fowler-Noll-Vo hashing function <http://www.isthe.com/chongo/tech/comp/fnv>`_ (FNV-1a variant) is employed."
   ]
  },
  {
   "cell_type": "markdown",
   "metadata": {},
   "source": [
    "**Note:** As in the case of Word2Vec, you can continue to train your model while using Gensim's native implementation of fastText.\n",
    "\n",
    "\n"
   ]
  },
  {
   "cell_type": "markdown",
   "metadata": {},
   "source": [
    "Saving/loading models\n",
    "---------------------\n",
    "\n",
    "\n"
   ]
  },
  {
   "cell_type": "markdown",
   "metadata": {},
   "source": [
    "Models can be saved and loaded via the ``load`` and ``save`` methods.\n",
    "\n",
    "\n"
   ]
  },
  {
   "cell_type": "code",
   "execution_count": 4,
   "metadata": {
    "collapsed": false,
    "jupyter": {
     "outputs_hidden": false
    }
   },
   "outputs": [
    {
     "name": "stderr",
     "output_type": "stream",
     "text": [
      "2020-04-21 17:46:47,504 : INFO : saving FastText object under /tmp/saved_model_gensim-zik128cz, separately []\n",
      "2020-04-21 17:46:47,505 : INFO : storing np array 'vectors_ngrams' to /tmp/saved_model_gensim-zik128cz.wv.vectors_ngrams.npy\n",
      "2020-04-21 17:46:47,909 : INFO : not storing attribute vectors_norm\n",
      "2020-04-21 17:46:47,910 : INFO : not storing attribute vectors_vocab_norm\n",
      "2020-04-21 17:46:47,910 : INFO : not storing attribute vectors_ngrams_norm\n",
      "2020-04-21 17:46:47,911 : INFO : not storing attribute buckets_word\n",
      "2020-04-21 17:46:47,912 : INFO : storing np array 'vectors_ngrams_lockf' to /tmp/saved_model_gensim-zik128cz.trainables.vectors_ngrams_lockf.npy\n",
      "2020-04-21 17:46:48,274 : INFO : saved /tmp/saved_model_gensim-zik128cz\n",
      "2020-04-21 17:46:48,275 : INFO : loading FastText object from /tmp/saved_model_gensim-zik128cz\n",
      "2020-04-21 17:46:48,293 : INFO : loading wv recursively from /tmp/saved_model_gensim-zik128cz.wv.* with mmap=None\n",
      "2020-04-21 17:46:48,294 : INFO : loading vectors_ngrams from /tmp/saved_model_gensim-zik128cz.wv.vectors_ngrams.npy with mmap=None\n",
      "2020-04-21 17:46:48,452 : INFO : setting ignored attribute vectors_norm to None\n",
      "2020-04-21 17:46:48,453 : INFO : setting ignored attribute vectors_vocab_norm to None\n",
      "2020-04-21 17:46:48,453 : INFO : setting ignored attribute vectors_ngrams_norm to None\n",
      "2020-04-21 17:46:48,454 : INFO : setting ignored attribute buckets_word to None\n",
      "2020-04-21 17:46:48,455 : INFO : loading vocabulary recursively from /tmp/saved_model_gensim-zik128cz.vocabulary.* with mmap=None\n",
      "2020-04-21 17:46:48,455 : INFO : loading trainables recursively from /tmp/saved_model_gensim-zik128cz.trainables.* with mmap=None\n",
      "2020-04-21 17:46:48,455 : INFO : loading vectors_ngrams_lockf from /tmp/saved_model_gensim-zik128cz.trainables.vectors_ngrams_lockf.npy with mmap=None\n",
      "2020-04-21 17:46:48,606 : INFO : loaded /tmp/saved_model_gensim-zik128cz\n"
     ]
    },
    {
     "name": "stdout",
     "output_type": "stream",
     "text": [
      "<gensim.models.fasttext.FastText object at 0x7f9376861c50>\n"
     ]
    }
   ],
   "source": [
    "# saving a model trained via Gensim's fastText implementation\n",
    "import tempfile\n",
    "import os\n",
    "with tempfile.NamedTemporaryFile(prefix='saved_model_gensim-', delete=False) as tmp:\n",
    "    model.save(tmp.name, separately=[])\n",
    "\n",
    "loaded_model = FT_gensim.load(tmp.name)\n",
    "print(loaded_model)\n",
    "\n",
    "os.unlink(tmp.name)"
   ]
  },
  {
   "cell_type": "markdown",
   "metadata": {},
   "source": [
    "The ``save_word2vec_method`` causes the vectors for ngrams to be lost. As a result, a model loaded in this way will behave as a regular word2vec model.\n",
    "\n",
    "\n"
   ]
  },
  {
   "cell_type": "markdown",
   "metadata": {},
   "source": [
    "Word vector lookup\n",
    "------------------\n",
    "\n",
    "\n",
    "**Note:** Operations like word vector lookups and similarity queries can be performed in exactly the same manner for both the implementations of fastText so they have been demonstrated using only the native fastText implementation here.\n",
    "\n",
    "\n",
    "\n",
    "FastText models support vector lookups for out-of-vocabulary words by summing up character ngrams belonging to the word.\n",
    "\n",
    "\n"
   ]
  },
  {
   "cell_type": "code",
   "execution_count": 5,
   "metadata": {
    "collapsed": false,
    "jupyter": {
     "outputs_hidden": false
    }
   },
   "outputs": [
    {
     "name": "stdout",
     "output_type": "stream",
     "text": [
      "True\n"
     ]
    }
   ],
   "source": [
    "print('night' in model.wv.vocab)"
   ]
  },
  {
   "cell_type": "code",
   "execution_count": 6,
   "metadata": {
    "collapsed": false,
    "jupyter": {
     "outputs_hidden": false
    }
   },
   "outputs": [
    {
     "name": "stdout",
     "output_type": "stream",
     "text": [
      "False\n"
     ]
    }
   ],
   "source": [
    "print('nights' in model.wv.vocab)"
   ]
  },
  {
   "cell_type": "code",
   "execution_count": 7,
   "metadata": {
    "collapsed": false,
    "jupyter": {
     "outputs_hidden": false
    }
   },
   "outputs": [
    {
     "name": "stdout",
     "output_type": "stream",
     "text": [
      "array([ 0.10632875,  0.01255457, -0.5669992 ,  0.52888554,  0.57501566,\n",
      "       -0.34746435, -0.20394236, -0.00705642,  0.42954668,  0.33390266,\n",
      "       -0.618622  , -0.0305591 , -0.64079636,  0.40977755,  0.3122134 ,\n",
      "       -0.03818988, -0.14270179,  0.1782077 ,  0.24284893, -0.37909204,\n",
      "       -0.23392743,  0.2787959 , -0.4048896 , -0.01705266, -0.81833357,\n",
      "        0.71984917,  0.10700478,  0.14917165,  0.40857723, -0.0035423 ,\n",
      "       -0.6586291 ,  0.21239302,  0.07544171, -0.46844804,  0.4637418 ,\n",
      "        0.13856308, -0.16215467, -0.10881548,  0.44739377,  0.25178418,\n",
      "       -0.02010422, -0.07718582,  0.3947144 , -0.06683552,  0.13483599,\n",
      "        0.20669809, -0.16199008,  0.22898626, -0.04825592, -0.372121  ,\n",
      "       -0.5384312 , -0.55837435,  0.11150873,  0.00262361,  0.4515773 ,\n",
      "       -0.78977716, -0.11445688, -0.14899562,  0.02899424, -0.02960676,\n",
      "        0.2014096 , -0.1658334 , -0.48369506, -0.05303399, -0.54290277,\n",
      "        0.41445872, -0.02554515,  0.1757904 ,  0.03581964,  0.4875231 ,\n",
      "       -0.542188  , -0.49200445, -0.0340976 , -0.06767438, -0.37007415,\n",
      "        0.02645849,  0.3102557 ,  0.084485  , -0.15540917,  0.17906123,\n",
      "        0.4354069 ,  0.07311523, -0.18926916,  0.4111289 , -0.43777123,\n",
      "       -0.27300116,  0.16324678,  0.3089031 ,  0.3308555 ,  0.30777672,\n",
      "       -0.11678328,  0.10618329, -0.04791601, -0.2004244 , -0.260865  ,\n",
      "        0.5204246 ,  0.26486525,  0.3944645 ,  0.5482473 ,  0.49332374],\n",
      "      dtype=float32)\n"
     ]
    },
    {
     "name": "stderr",
     "output_type": "stream",
     "text": [
      "/home/bjpcjp/.local/lib/python3.6/site-packages/ipykernel_launcher.py:1: DeprecationWarning: Call to deprecated `__getitem__` (Method will be removed in 4.0.0, use self.wv.__getitem__() instead).\n",
      "  \"\"\"Entry point for launching an IPython kernel.\n"
     ]
    }
   ],
   "source": [
    "print(model['night'])"
   ]
  },
  {
   "cell_type": "code",
   "execution_count": 8,
   "metadata": {
    "collapsed": false,
    "jupyter": {
     "outputs_hidden": false
    }
   },
   "outputs": [
    {
     "name": "stdout",
     "output_type": "stream",
     "text": [
      "array([ 0.09313107,  0.01144097, -0.4920465 ,  0.4582299 ,  0.49806002,\n",
      "       -0.30292475, -0.17764547, -0.00533584,  0.37240922,  0.29038686,\n",
      "       -0.5388981 , -0.02793436, -0.55630517,  0.35698062,  0.2669267 ,\n",
      "       -0.03287829, -0.12595409,  0.15291354,  0.20911163, -0.32940567,\n",
      "       -0.20298642,  0.2428599 , -0.35204935, -0.01412793, -0.71082264,\n",
      "        0.62443584,  0.09284382,  0.12989873,  0.35468996, -0.00346226,\n",
      "       -0.56945795,  0.1855444 ,  0.06412946, -0.408463  ,  0.4020396 ,\n",
      "        0.11991416, -0.13922669, -0.09567924,  0.38805512,  0.21922219,\n",
      "       -0.01653666, -0.06709076,  0.3418985 , -0.05627145,  0.11587152,\n",
      "        0.1795545 , -0.14408827,  0.20041627, -0.04250341, -0.32138348,\n",
      "       -0.46961102, -0.48358548,  0.09788522,  0.00322538,  0.3923521 ,\n",
      "       -0.68530947, -0.09937615, -0.12812673,  0.02282381, -0.02539116,\n",
      "        0.174292  , -0.14470427, -0.41939905, -0.04661592, -0.47152534,\n",
      "        0.35898882, -0.02202755,  0.1523797 ,  0.03281567,  0.42375502,\n",
      "       -0.47039324, -0.42645782, -0.0296268 , -0.05959719, -0.32082665,\n",
      "        0.02216428,  0.26922217,  0.07351521, -0.13290776,  0.15454775,\n",
      "        0.37853912,  0.06325241, -0.16504775,  0.35582945, -0.37870944,\n",
      "       -0.23623194,  0.14364502,  0.26926476,  0.2863642 ,  0.2677058 ,\n",
      "       -0.1016756 ,  0.09187618, -0.04295659, -0.17363393, -0.22611469,\n",
      "        0.45177433,  0.22883916,  0.34078732,  0.47523254,  0.42803666],\n",
      "      dtype=float32)\n"
     ]
    },
    {
     "name": "stderr",
     "output_type": "stream",
     "text": [
      "/home/bjpcjp/.local/lib/python3.6/site-packages/ipykernel_launcher.py:1: DeprecationWarning: Call to deprecated `__getitem__` (Method will be removed in 4.0.0, use self.wv.__getitem__() instead).\n",
      "  \"\"\"Entry point for launching an IPython kernel.\n"
     ]
    }
   ],
   "source": [
    "print(model['nights'])"
   ]
  },
  {
   "cell_type": "markdown",
   "metadata": {},
   "source": [
    "The ``in`` operation works slightly differently from the original word2vec. It tests whether a vector for the given word exists or not, not whether the word is present in the word vocabulary. To test whether a word is present in the training word vocabulary -\n",
    "\n",
    "\n"
   ]
  },
  {
   "cell_type": "markdown",
   "metadata": {},
   "source": [
    "Tests if word present in vocab\n",
    "\n"
   ]
  },
  {
   "cell_type": "code",
   "execution_count": 9,
   "metadata": {
    "collapsed": false,
    "jupyter": {
     "outputs_hidden": false
    }
   },
   "outputs": [
    {
     "name": "stdout",
     "output_type": "stream",
     "text": [
      "False\n"
     ]
    }
   ],
   "source": [
    "print(\"word\" in model.wv.vocab)"
   ]
  },
  {
   "cell_type": "markdown",
   "metadata": {},
   "source": [
    "Tests if vector present for word\n",
    "\n"
   ]
  },
  {
   "cell_type": "code",
   "execution_count": 10,
   "metadata": {
    "collapsed": false,
    "jupyter": {
     "outputs_hidden": false
    }
   },
   "outputs": [
    {
     "name": "stdout",
     "output_type": "stream",
     "text": [
      "True\n"
     ]
    },
    {
     "name": "stderr",
     "output_type": "stream",
     "text": [
      "/home/bjpcjp/.local/lib/python3.6/site-packages/ipykernel_launcher.py:1: DeprecationWarning: Call to deprecated `__contains__` (Method will be removed in 4.0.0, use self.wv.__contains__() instead).\n",
      "  \"\"\"Entry point for launching an IPython kernel.\n"
     ]
    }
   ],
   "source": [
    "print(\"word\" in model)"
   ]
  },
  {
   "cell_type": "markdown",
   "metadata": {},
   "source": [
    "Similarity operations\n",
    "---------------------\n",
    "\n",
    "\n"
   ]
  },
  {
   "cell_type": "markdown",
   "metadata": {},
   "source": [
    "Similarity operations work the same way as word2vec. **Out-of-vocabulary words can also be used, provided they have at least one character ngram present in the training data.**\n",
    "\n",
    "\n"
   ]
  },
  {
   "cell_type": "code",
   "execution_count": 11,
   "metadata": {
    "collapsed": false,
    "jupyter": {
     "outputs_hidden": false
    }
   },
   "outputs": [
    {
     "name": "stdout",
     "output_type": "stream",
     "text": [
      "False\n"
     ]
    }
   ],
   "source": [
    "print(\"nights\" in model.wv.vocab)"
   ]
  },
  {
   "cell_type": "code",
   "execution_count": 12,
   "metadata": {
    "collapsed": false,
    "jupyter": {
     "outputs_hidden": false
    }
   },
   "outputs": [
    {
     "name": "stdout",
     "output_type": "stream",
     "text": [
      "True\n"
     ]
    }
   ],
   "source": [
    "print(\"night\" in model.wv.vocab)"
   ]
  },
  {
   "cell_type": "code",
   "execution_count": 15,
   "metadata": {
    "collapsed": false,
    "jupyter": {
     "outputs_hidden": false
    }
   },
   "outputs": [
    {
     "name": "stdout",
     "output_type": "stream",
     "text": [
      "0.9999927\n"
     ]
    }
   ],
   "source": [
    "#print(model.similarity(\"night\", \"nights\"))\n",
    "print(model.wv.similarity(\"night\",\"nights\"))"
   ]
  },
  {
   "cell_type": "markdown",
   "metadata": {},
   "source": [
    "Syntactically similar words generally have high similarity in fastText models, since a large number of the component char-ngrams will be the same. As a result, fastText generally does better at syntactic tasks than Word2Vec. A detailed comparison is provided `here <Word2Vec_FastText_Comparison.ipynb>`_."
   ]
  },
  {
   "cell_type": "code",
   "execution_count": 16,
   "metadata": {
    "collapsed": false,
    "jupyter": {
     "outputs_hidden": false
    }
   },
   "outputs": [
    {
     "name": "stderr",
     "output_type": "stream",
     "text": [
      "/home/bjpcjp/.local/lib/python3.6/site-packages/ipykernel_launcher.py:1: DeprecationWarning: Call to deprecated `most_similar` (Method will be removed in 4.0.0, use self.wv.most_similar() instead).\n",
      "  \"\"\"Entry point for launching an IPython kernel.\n",
      "2020-04-21 17:50:07,319 : INFO : precomputing L2-norms of word weight vectors\n",
      "2020-04-21 17:50:07,321 : INFO : precomputing L2-norms of ngram weight vectors\n"
     ]
    },
    {
     "name": "stdout",
     "output_type": "stream",
     "text": [
      "[('study', 0.9982695579528809),\n",
      " ('boat', 0.9982630610466003),\n",
      " ('often', 0.998261570930481),\n",
      " ('Arafat', 0.9982523918151855),\n",
      " ('north.', 0.9982521533966064),\n",
      " ('Arafat,', 0.9982487559318542),\n",
      " ('\"That', 0.9982447028160095),\n",
      " ('stage', 0.9982336759567261),\n",
      " ('heard', 0.9982335567474365),\n",
      " ('Commonwealth', 0.9982331395149231)]\n"
     ]
    }
   ],
   "source": [
    "print(model.most_similar(\"nights\"))"
   ]
  },
  {
   "cell_type": "code",
   "execution_count": 17,
   "metadata": {
    "collapsed": false,
    "jupyter": {
     "outputs_hidden": false
    }
   },
   "outputs": [
    {
     "name": "stdout",
     "output_type": "stream",
     "text": [
      "0.99995166\n"
     ]
    },
    {
     "name": "stderr",
     "output_type": "stream",
     "text": [
      "/home/bjpcjp/.local/lib/python3.6/site-packages/ipykernel_launcher.py:1: DeprecationWarning: Call to deprecated `n_similarity` (Method will be removed in 4.0.0, use self.wv.n_similarity() instead).\n",
      "  \"\"\"Entry point for launching an IPython kernel.\n"
     ]
    }
   ],
   "source": [
    "print(model.n_similarity(['sushi', 'shop'], ['japanese', 'restaurant']))"
   ]
  },
  {
   "cell_type": "code",
   "execution_count": 18,
   "metadata": {
    "collapsed": false,
    "jupyter": {
     "outputs_hidden": false
    }
   },
   "outputs": [
    {
     "name": "stdout",
     "output_type": "stream",
     "text": [
      "'breakfast'\n"
     ]
    },
    {
     "name": "stderr",
     "output_type": "stream",
     "text": [
      "/home/bjpcjp/.local/lib/python3.6/site-packages/ipykernel_launcher.py:1: DeprecationWarning: Call to deprecated `doesnt_match` (Method will be removed in 4.0.0, use self.wv.doesnt_match() instead).\n",
      "  \"\"\"Entry point for launching an IPython kernel.\n",
      "/home/bjpcjp/.local/lib/python3.6/site-packages/gensim/models/keyedvectors.py:877: FutureWarning: arrays to stack must be passed as a \"sequence\" type such as list or tuple. Support for non-sequence iterables such as generators is deprecated as of NumPy 1.16 and will raise an error in the future.\n",
      "  vectors = vstack(self.word_vec(word, use_norm=True) for word in used_words).astype(REAL)\n"
     ]
    }
   ],
   "source": [
    "print(model.doesnt_match(\"breakfast cereal dinner lunch\".split()))"
   ]
  },
  {
   "cell_type": "code",
   "execution_count": 19,
   "metadata": {
    "collapsed": false,
    "jupyter": {
     "outputs_hidden": false
    }
   },
   "outputs": [
    {
     "name": "stdout",
     "output_type": "stream",
     "text": [
      "[('1', 0.24227944016456604),\n",
      " ('40', 0.23731181025505066),\n",
      " ('2', 0.23469692468643188),\n",
      " ('20', 0.2326391488313675),\n",
      " ('UN', 0.23258794844150543),\n",
      " ('26', 0.23256193101406097),\n",
      " ('blaze', 0.23193609714508057),\n",
      " ('keep', 0.23132377862930298),\n",
      " ('...', 0.23056435585021973),\n",
      " ('As', 0.23053264617919922)]\n"
     ]
    },
    {
     "name": "stderr",
     "output_type": "stream",
     "text": [
      "/home/bjpcjp/.local/lib/python3.6/site-packages/ipykernel_launcher.py:1: DeprecationWarning: Call to deprecated `most_similar` (Method will be removed in 4.0.0, use self.wv.most_similar() instead).\n",
      "  \"\"\"Entry point for launching an IPython kernel.\n"
     ]
    }
   ],
   "source": [
    "print(model.most_similar(positive=['baghdad', 'england'], negative=['london']))"
   ]
  },
  {
   "cell_type": "code",
   "execution_count": 20,
   "metadata": {
    "collapsed": false,
    "jupyter": {
     "outputs_hidden": false
    }
   },
   "outputs": [
    {
     "name": "stderr",
     "output_type": "stream",
     "text": [
      "/home/bjpcjp/.local/lib/python3.6/site-packages/ipykernel_launcher.py:1: DeprecationWarning: Call to deprecated `accuracy` (Method will be removed in 4.0.0, use self.wv.accuracy() instead).\n",
      "  \"\"\"Entry point for launching an IPython kernel.\n",
      "2020-04-21 17:50:22,762 : INFO : family: 0.0% (0/2)\n",
      "2020-04-21 17:50:22,799 : INFO : gram3-comparative: 25.0% (3/12)\n",
      "2020-04-21 17:50:22,818 : INFO : gram4-superlative: 25.0% (3/12)\n",
      "2020-04-21 17:50:22,860 : INFO : gram5-present-participle: 20.0% (4/20)\n",
      "2020-04-21 17:50:22,905 : INFO : gram6-nationality-adjective: 40.0% (8/20)\n",
      "2020-04-21 17:50:22,940 : INFO : gram7-past-tense: 5.0% (1/20)\n",
      "2020-04-21 17:50:22,983 : INFO : gram8-plural: 8.3% (1/12)\n",
      "2020-04-21 17:50:22,991 : INFO : total: 20.4% (20/98)\n"
     ]
    },
    {
     "name": "stdout",
     "output_type": "stream",
     "text": [
      "[{'correct': [], 'incorrect': [], 'section': 'capital-common-countries'},\n",
      " {'correct': [], 'incorrect': [], 'section': 'capital-world'},\n",
      " {'correct': [], 'incorrect': [], 'section': 'currency'},\n",
      " {'correct': [], 'incorrect': [], 'section': 'city-in-state'},\n",
      " {'correct': [],\n",
      "  'incorrect': [('HE', 'SHE', 'HIS', 'HER'), ('HIS', 'HER', 'HE', 'SHE')],\n",
      "  'section': 'family'},\n",
      " {'correct': [], 'incorrect': [], 'section': 'gram1-adjective-to-adverb'},\n",
      " {'correct': [], 'incorrect': [], 'section': 'gram2-opposite'},\n",
      " {'correct': [('GOOD', 'BETTER', 'GREAT', 'GREATER'),\n",
      "              ('GREAT', 'GREATER', 'LOW', 'LOWER'),\n",
      "              ('LONG', 'LONGER', 'GREAT', 'GREATER')],\n",
      "  'incorrect': [('GOOD', 'BETTER', 'LONG', 'LONGER'),\n",
      "                ('GOOD', 'BETTER', 'LOW', 'LOWER'),\n",
      "                ('GREAT', 'GREATER', 'LONG', 'LONGER'),\n",
      "                ('GREAT', 'GREATER', 'GOOD', 'BETTER'),\n",
      "                ('LONG', 'LONGER', 'LOW', 'LOWER'),\n",
      "                ('LONG', 'LONGER', 'GOOD', 'BETTER'),\n",
      "                ('LOW', 'LOWER', 'GOOD', 'BETTER'),\n",
      "                ('LOW', 'LOWER', 'GREAT', 'GREATER'),\n",
      "                ('LOW', 'LOWER', 'LONG', 'LONGER')],\n",
      "  'section': 'gram3-comparative'},\n",
      " {'correct': [('GOOD', 'BEST', 'GREAT', 'GREATEST'),\n",
      "              ('GOOD', 'BEST', 'LARGE', 'LARGEST'),\n",
      "              ('GREAT', 'GREATEST', 'LARGE', 'LARGEST')],\n",
      "  'incorrect': [('BIG', 'BIGGEST', 'GOOD', 'BEST'),\n",
      "                ('BIG', 'BIGGEST', 'GREAT', 'GREATEST'),\n",
      "                ('BIG', 'BIGGEST', 'LARGE', 'LARGEST'),\n",
      "                ('GOOD', 'BEST', 'BIG', 'BIGGEST'),\n",
      "                ('GREAT', 'GREATEST', 'BIG', 'BIGGEST'),\n",
      "                ('GREAT', 'GREATEST', 'GOOD', 'BEST'),\n",
      "                ('LARGE', 'LARGEST', 'BIG', 'BIGGEST'),\n",
      "                ('LARGE', 'LARGEST', 'GOOD', 'BEST'),\n",
      "                ('LARGE', 'LARGEST', 'GREAT', 'GREATEST')],\n",
      "  'section': 'gram4-superlative'},\n",
      " {'correct': [('PLAY', 'PLAYING', 'SAY', 'SAYING'),\n",
      "              ('PLAY', 'PLAYING', 'LOOK', 'LOOKING'),\n",
      "              ('SAY', 'SAYING', 'LOOK', 'LOOKING'),\n",
      "              ('SAY', 'SAYING', 'PLAY', 'PLAYING')],\n",
      "  'incorrect': [('GO', 'GOING', 'LOOK', 'LOOKING'),\n",
      "                ('GO', 'GOING', 'PLAY', 'PLAYING'),\n",
      "                ('GO', 'GOING', 'RUN', 'RUNNING'),\n",
      "                ('GO', 'GOING', 'SAY', 'SAYING'),\n",
      "                ('LOOK', 'LOOKING', 'PLAY', 'PLAYING'),\n",
      "                ('LOOK', 'LOOKING', 'RUN', 'RUNNING'),\n",
      "                ('LOOK', 'LOOKING', 'SAY', 'SAYING'),\n",
      "                ('LOOK', 'LOOKING', 'GO', 'GOING'),\n",
      "                ('PLAY', 'PLAYING', 'RUN', 'RUNNING'),\n",
      "                ('PLAY', 'PLAYING', 'GO', 'GOING'),\n",
      "                ('RUN', 'RUNNING', 'SAY', 'SAYING'),\n",
      "                ('RUN', 'RUNNING', 'GO', 'GOING'),\n",
      "                ('RUN', 'RUNNING', 'LOOK', 'LOOKING'),\n",
      "                ('RUN', 'RUNNING', 'PLAY', 'PLAYING'),\n",
      "                ('SAY', 'SAYING', 'GO', 'GOING'),\n",
      "                ('SAY', 'SAYING', 'RUN', 'RUNNING')],\n",
      "  'section': 'gram5-present-participle'},\n",
      " {'correct': [('AUSTRALIA', 'AUSTRALIAN', 'INDIA', 'INDIAN'),\n",
      "              ('AUSTRALIA', 'AUSTRALIAN', 'ISRAEL', 'ISRAELI'),\n",
      "              ('FRANCE', 'FRENCH', 'INDIA', 'INDIAN'),\n",
      "              ('FRANCE', 'FRENCH', 'ISRAEL', 'ISRAELI'),\n",
      "              ('INDIA', 'INDIAN', 'ISRAEL', 'ISRAELI'),\n",
      "              ('INDIA', 'INDIAN', 'AUSTRALIA', 'AUSTRALIAN'),\n",
      "              ('ISRAEL', 'ISRAELI', 'INDIA', 'INDIAN'),\n",
      "              ('SWITZERLAND', 'SWISS', 'INDIA', 'INDIAN')],\n",
      "  'incorrect': [('AUSTRALIA', 'AUSTRALIAN', 'FRANCE', 'FRENCH'),\n",
      "                ('AUSTRALIA', 'AUSTRALIAN', 'SWITZERLAND', 'SWISS'),\n",
      "                ('FRANCE', 'FRENCH', 'SWITZERLAND', 'SWISS'),\n",
      "                ('FRANCE', 'FRENCH', 'AUSTRALIA', 'AUSTRALIAN'),\n",
      "                ('INDIA', 'INDIAN', 'SWITZERLAND', 'SWISS'),\n",
      "                ('INDIA', 'INDIAN', 'FRANCE', 'FRENCH'),\n",
      "                ('ISRAEL', 'ISRAELI', 'SWITZERLAND', 'SWISS'),\n",
      "                ('ISRAEL', 'ISRAELI', 'AUSTRALIA', 'AUSTRALIAN'),\n",
      "                ('ISRAEL', 'ISRAELI', 'FRANCE', 'FRENCH'),\n",
      "                ('SWITZERLAND', 'SWISS', 'AUSTRALIA', 'AUSTRALIAN'),\n",
      "                ('SWITZERLAND', 'SWISS', 'FRANCE', 'FRENCH'),\n",
      "                ('SWITZERLAND', 'SWISS', 'ISRAEL', 'ISRAELI')],\n",
      "  'section': 'gram6-nationality-adjective'},\n",
      " {'correct': [('PAYING', 'PAID', 'SAYING', 'SAID')],\n",
      "  'incorrect': [('GOING', 'WENT', 'PAYING', 'PAID'),\n",
      "                ('GOING', 'WENT', 'PLAYING', 'PLAYED'),\n",
      "                ('GOING', 'WENT', 'SAYING', 'SAID'),\n",
      "                ('GOING', 'WENT', 'TAKING', 'TOOK'),\n",
      "                ('PAYING', 'PAID', 'PLAYING', 'PLAYED'),\n",
      "                ('PAYING', 'PAID', 'TAKING', 'TOOK'),\n",
      "                ('PAYING', 'PAID', 'GOING', 'WENT'),\n",
      "                ('PLAYING', 'PLAYED', 'SAYING', 'SAID'),\n",
      "                ('PLAYING', 'PLAYED', 'TAKING', 'TOOK'),\n",
      "                ('PLAYING', 'PLAYED', 'GOING', 'WENT'),\n",
      "                ('PLAYING', 'PLAYED', 'PAYING', 'PAID'),\n",
      "                ('SAYING', 'SAID', 'TAKING', 'TOOK'),\n",
      "                ('SAYING', 'SAID', 'GOING', 'WENT'),\n",
      "                ('SAYING', 'SAID', 'PAYING', 'PAID'),\n",
      "                ('SAYING', 'SAID', 'PLAYING', 'PLAYED'),\n",
      "                ('TAKING', 'TOOK', 'GOING', 'WENT'),\n",
      "                ('TAKING', 'TOOK', 'PAYING', 'PAID'),\n",
      "                ('TAKING', 'TOOK', 'PLAYING', 'PLAYED'),\n",
      "                ('TAKING', 'TOOK', 'SAYING', 'SAID')],\n",
      "  'section': 'gram7-past-tense'},\n",
      " {'correct': [('MAN', 'MEN', 'CHILD', 'CHILDREN')],\n",
      "  'incorrect': [('BUILDING', 'BUILDINGS', 'CAR', 'CARS'),\n",
      "                ('BUILDING', 'BUILDINGS', 'CHILD', 'CHILDREN'),\n",
      "                ('BUILDING', 'BUILDINGS', 'MAN', 'MEN'),\n",
      "                ('CAR', 'CARS', 'CHILD', 'CHILDREN'),\n",
      "                ('CAR', 'CARS', 'MAN', 'MEN'),\n",
      "                ('CAR', 'CARS', 'BUILDING', 'BUILDINGS'),\n",
      "                ('CHILD', 'CHILDREN', 'MAN', 'MEN'),\n",
      "                ('CHILD', 'CHILDREN', 'BUILDING', 'BUILDINGS'),\n",
      "                ('CHILD', 'CHILDREN', 'CAR', 'CARS'),\n",
      "                ('MAN', 'MEN', 'BUILDING', 'BUILDINGS'),\n",
      "                ('MAN', 'MEN', 'CAR', 'CARS')],\n",
      "  'section': 'gram8-plural'},\n",
      " {'correct': [], 'incorrect': [], 'section': 'gram9-plural-verbs'},\n",
      " {'correct': [('GOOD', 'BETTER', 'GREAT', 'GREATER'),\n",
      "              ('GREAT', 'GREATER', 'LOW', 'LOWER'),\n",
      "              ('LONG', 'LONGER', 'GREAT', 'GREATER'),\n",
      "              ('GOOD', 'BEST', 'GREAT', 'GREATEST'),\n",
      "              ('GOOD', 'BEST', 'LARGE', 'LARGEST'),\n",
      "              ('GREAT', 'GREATEST', 'LARGE', 'LARGEST'),\n",
      "              ('PLAY', 'PLAYING', 'SAY', 'SAYING'),\n",
      "              ('PLAY', 'PLAYING', 'LOOK', 'LOOKING'),\n",
      "              ('SAY', 'SAYING', 'LOOK', 'LOOKING'),\n",
      "              ('SAY', 'SAYING', 'PLAY', 'PLAYING'),\n",
      "              ('AUSTRALIA', 'AUSTRALIAN', 'INDIA', 'INDIAN'),\n",
      "              ('AUSTRALIA', 'AUSTRALIAN', 'ISRAEL', 'ISRAELI'),\n",
      "              ('FRANCE', 'FRENCH', 'INDIA', 'INDIAN'),\n",
      "              ('FRANCE', 'FRENCH', 'ISRAEL', 'ISRAELI'),\n",
      "              ('INDIA', 'INDIAN', 'ISRAEL', 'ISRAELI'),\n",
      "              ('INDIA', 'INDIAN', 'AUSTRALIA', 'AUSTRALIAN'),\n",
      "              ('ISRAEL', 'ISRAELI', 'INDIA', 'INDIAN'),\n",
      "              ('SWITZERLAND', 'SWISS', 'INDIA', 'INDIAN'),\n",
      "              ('PAYING', 'PAID', 'SAYING', 'SAID'),\n",
      "              ('MAN', 'MEN', 'CHILD', 'CHILDREN')],\n",
      "  'incorrect': [('HE', 'SHE', 'HIS', 'HER'),\n",
      "                ('HIS', 'HER', 'HE', 'SHE'),\n",
      "                ('GOOD', 'BETTER', 'LONG', 'LONGER'),\n",
      "                ('GOOD', 'BETTER', 'LOW', 'LOWER'),\n",
      "                ('GREAT', 'GREATER', 'LONG', 'LONGER'),\n",
      "                ('GREAT', 'GREATER', 'GOOD', 'BETTER'),\n",
      "                ('LONG', 'LONGER', 'LOW', 'LOWER'),\n",
      "                ('LONG', 'LONGER', 'GOOD', 'BETTER'),\n",
      "                ('LOW', 'LOWER', 'GOOD', 'BETTER'),\n",
      "                ('LOW', 'LOWER', 'GREAT', 'GREATER'),\n",
      "                ('LOW', 'LOWER', 'LONG', 'LONGER'),\n",
      "                ('BIG', 'BIGGEST', 'GOOD', 'BEST'),\n",
      "                ('BIG', 'BIGGEST', 'GREAT', 'GREATEST'),\n",
      "                ('BIG', 'BIGGEST', 'LARGE', 'LARGEST'),\n",
      "                ('GOOD', 'BEST', 'BIG', 'BIGGEST'),\n",
      "                ('GREAT', 'GREATEST', 'BIG', 'BIGGEST'),\n",
      "                ('GREAT', 'GREATEST', 'GOOD', 'BEST'),\n",
      "                ('LARGE', 'LARGEST', 'BIG', 'BIGGEST'),\n",
      "                ('LARGE', 'LARGEST', 'GOOD', 'BEST'),\n",
      "                ('LARGE', 'LARGEST', 'GREAT', 'GREATEST'),\n",
      "                ('GO', 'GOING', 'LOOK', 'LOOKING'),\n",
      "                ('GO', 'GOING', 'PLAY', 'PLAYING'),\n",
      "                ('GO', 'GOING', 'RUN', 'RUNNING'),\n",
      "                ('GO', 'GOING', 'SAY', 'SAYING'),\n",
      "                ('LOOK', 'LOOKING', 'PLAY', 'PLAYING'),\n",
      "                ('LOOK', 'LOOKING', 'RUN', 'RUNNING'),\n",
      "                ('LOOK', 'LOOKING', 'SAY', 'SAYING'),\n",
      "                ('LOOK', 'LOOKING', 'GO', 'GOING'),\n",
      "                ('PLAY', 'PLAYING', 'RUN', 'RUNNING'),\n",
      "                ('PLAY', 'PLAYING', 'GO', 'GOING'),\n",
      "                ('RUN', 'RUNNING', 'SAY', 'SAYING'),\n",
      "                ('RUN', 'RUNNING', 'GO', 'GOING'),\n",
      "                ('RUN', 'RUNNING', 'LOOK', 'LOOKING'),\n",
      "                ('RUN', 'RUNNING', 'PLAY', 'PLAYING'),\n",
      "                ('SAY', 'SAYING', 'GO', 'GOING'),\n",
      "                ('SAY', 'SAYING', 'RUN', 'RUNNING'),\n",
      "                ('AUSTRALIA', 'AUSTRALIAN', 'FRANCE', 'FRENCH'),\n",
      "                ('AUSTRALIA', 'AUSTRALIAN', 'SWITZERLAND', 'SWISS'),\n",
      "                ('FRANCE', 'FRENCH', 'SWITZERLAND', 'SWISS'),\n",
      "                ('FRANCE', 'FRENCH', 'AUSTRALIA', 'AUSTRALIAN'),\n",
      "                ('INDIA', 'INDIAN', 'SWITZERLAND', 'SWISS'),\n",
      "                ('INDIA', 'INDIAN', 'FRANCE', 'FRENCH'),\n",
      "                ('ISRAEL', 'ISRAELI', 'SWITZERLAND', 'SWISS'),\n",
      "                ('ISRAEL', 'ISRAELI', 'AUSTRALIA', 'AUSTRALIAN'),\n",
      "                ('ISRAEL', 'ISRAELI', 'FRANCE', 'FRENCH'),\n",
      "                ('SWITZERLAND', 'SWISS', 'AUSTRALIA', 'AUSTRALIAN'),\n",
      "                ('SWITZERLAND', 'SWISS', 'FRANCE', 'FRENCH'),\n",
      "                ('SWITZERLAND', 'SWISS', 'ISRAEL', 'ISRAELI'),\n",
      "                ('GOING', 'WENT', 'PAYING', 'PAID'),\n",
      "                ('GOING', 'WENT', 'PLAYING', 'PLAYED'),\n",
      "                ('GOING', 'WENT', 'SAYING', 'SAID'),\n",
      "                ('GOING', 'WENT', 'TAKING', 'TOOK'),\n",
      "                ('PAYING', 'PAID', 'PLAYING', 'PLAYED'),\n",
      "                ('PAYING', 'PAID', 'TAKING', 'TOOK'),\n",
      "                ('PAYING', 'PAID', 'GOING', 'WENT'),\n",
      "                ('PLAYING', 'PLAYED', 'SAYING', 'SAID'),\n",
      "                ('PLAYING', 'PLAYED', 'TAKING', 'TOOK'),\n",
      "                ('PLAYING', 'PLAYED', 'GOING', 'WENT'),\n",
      "                ('PLAYING', 'PLAYED', 'PAYING', 'PAID'),\n",
      "                ('SAYING', 'SAID', 'TAKING', 'TOOK'),\n",
      "                ('SAYING', 'SAID', 'GOING', 'WENT'),\n",
      "                ('SAYING', 'SAID', 'PAYING', 'PAID'),\n",
      "                ('SAYING', 'SAID', 'PLAYING', 'PLAYED'),\n",
      "                ('TAKING', 'TOOK', 'GOING', 'WENT'),\n",
      "                ('TAKING', 'TOOK', 'PAYING', 'PAID'),\n",
      "                ('TAKING', 'TOOK', 'PLAYING', 'PLAYED'),\n",
      "                ('TAKING', 'TOOK', 'SAYING', 'SAID'),\n",
      "                ('BUILDING', 'BUILDINGS', 'CAR', 'CARS'),\n",
      "                ('BUILDING', 'BUILDINGS', 'CHILD', 'CHILDREN'),\n",
      "                ('BUILDING', 'BUILDINGS', 'MAN', 'MEN'),\n",
      "                ('CAR', 'CARS', 'CHILD', 'CHILDREN'),\n",
      "                ('CAR', 'CARS', 'MAN', 'MEN'),\n",
      "                ('CAR', 'CARS', 'BUILDING', 'BUILDINGS'),\n",
      "                ('CHILD', 'CHILDREN', 'MAN', 'MEN'),\n",
      "                ('CHILD', 'CHILDREN', 'BUILDING', 'BUILDINGS'),\n",
      "                ('CHILD', 'CHILDREN', 'CAR', 'CARS'),\n",
      "                ('MAN', 'MEN', 'BUILDING', 'BUILDINGS'),\n",
      "                ('MAN', 'MEN', 'CAR', 'CARS')],\n",
      "  'section': 'total'}]\n"
     ]
    }
   ],
   "source": [
    "print(model.accuracy(questions=datapath('questions-words.txt')))"
   ]
  },
  {
   "cell_type": "markdown",
   "metadata": {},
   "source": [
    "### Word Movers distance\n",
    "Let's start with two sentences:"
   ]
  },
  {
   "cell_type": "code",
   "execution_count": 22,
   "metadata": {
    "collapsed": false,
    "jupyter": {
     "outputs_hidden": false
    }
   },
   "outputs": [],
   "source": [
    "sentence_obama     = 'Obama speaks to the media in Illinois'.lower().split()\n",
    "sentence_president = 'The president greets the press in Chicago'.lower().split()"
   ]
  },
  {
   "cell_type": "markdown",
   "metadata": {},
   "source": [
    "Remove their stopwords.\n",
    "\n",
    "\n"
   ]
  },
  {
   "cell_type": "code",
   "execution_count": 25,
   "metadata": {
    "collapsed": false,
    "jupyter": {
     "outputs_hidden": false
    }
   },
   "outputs": [],
   "source": [
    "import nltk\n",
    "from nltk.corpus import stopwords\n",
    "stopwords = stopwords.words('english')\n",
    "sentence_obama = [w for w in sentence_obama if w not in stopwords]\n",
    "sentence_president = [w for w in sentence_president if w not in stopwords]"
   ]
  },
  {
   "cell_type": "markdown",
   "metadata": {},
   "source": [
    "[earth mover's distance](https://en.wikipedia.org/wiki/Earth_mover%27s_distance) - computed by the [pyemd](https://pypi.org/project/pyemd/) package:\n",
    "\n"
   ]
  },
  {
   "cell_type": "code",
   "execution_count": 28,
   "metadata": {
    "collapsed": false,
    "jupyter": {
     "outputs_hidden": false
    }
   },
   "outputs": [
    {
     "name": "stderr",
     "output_type": "stream",
     "text": [
      "2020-04-21 17:55:21,396 : INFO : adding document #0 to Dictionary(0 unique tokens: [])\n",
      "2020-04-21 17:55:21,397 : INFO : built Dictionary(8 unique tokens: ['illinois', 'media', 'obama', 'speaks', 'chicago']...) from 2 documents (total 8 corpus positions)\n"
     ]
    },
    {
     "name": "stdout",
     "output_type": "stream",
     "text": [
      "1.3918907387763262\n"
     ]
    }
   ],
   "source": [
    "import pyemd\n",
    "distance = model.wv.wmdistance(sentence_obama, sentence_president)\n",
    "print(distance)"
   ]
  },
  {
   "cell_type": "code",
   "execution_count": null,
   "metadata": {},
   "outputs": [],
   "source": []
  }
 ],
 "metadata": {
  "kernelspec": {
   "display_name": "Python 3",
   "language": "python",
   "name": "python3"
  },
  "language_info": {
   "codemirror_mode": {
    "name": "ipython",
    "version": 3
   },
   "file_extension": ".py",
   "mimetype": "text/x-python",
   "name": "python",
   "nbconvert_exporter": "python",
   "pygments_lexer": "ipython3",
   "version": "3.6.9"
  }
 },
 "nbformat": 4,
 "nbformat_minor": 4
}
