{
 "cells": [
  {
   "cell_type": "code",
   "execution_count": 1,
   "metadata": {
    "collapsed": false,
    "jupyter": {
     "outputs_hidden": false
    }
   },
   "outputs": [],
   "source": [
    "%matplotlib inline"
   ]
  },
  {
   "cell_type": "code",
   "execution_count": 4,
   "metadata": {},
   "outputs": [],
   "source": [
    "import pprint"
   ]
  },
  {
   "cell_type": "markdown",
   "metadata": {},
   "source": [
    "Similarity Queries with Annoy and Word2Vec\n",
    "------------------------------------------\n",
    "\n",
    "* [Annoy Approximate Nearest Neighbors Oh Yeah](https://github.com/spotify/annoy) (a spotify lib) enables similarity queries with a Word2Vec model.  \n",
    "\n",
    "* Gensim's KNN implementation has linear complexity via brute force in the number of indexed documents, although with extremely low constant factors.\n",
    "\n",
    "* The results are exact, which is overkill in many applications. Approximate results retrieved in sub-linear time may be enough."
   ]
  },
  {
   "cell_type": "code",
   "execution_count": 2,
   "metadata": {
    "collapsed": false,
    "jupyter": {
     "outputs_hidden": false
    }
   },
   "outputs": [],
   "source": [
    "LOGS = False\n",
    "if LOGS:\n",
    "    import logging\n",
    "    logging.basicConfig(format='%(asctime)s : %(levelname)s : %(message)s', level=logging.INFO)"
   ]
  },
  {
   "cell_type": "markdown",
   "metadata": {},
   "source": [
    "Download Text8 corpus\n",
    "------------------------"
   ]
  },
  {
   "cell_type": "code",
   "execution_count": 3,
   "metadata": {
    "collapsed": false,
    "jupyter": {
     "outputs_hidden": false
    }
   },
   "outputs": [
    {
     "name": "stderr",
     "output_type": "stream",
     "text": [
      "unable to import 'smart_open.gcs', disabling that module\n"
     ]
    },
    {
     "data": {
      "text/plain": [
       "'/home/bjpcjp/gensim-data/text8/text8.gz'"
      ]
     },
     "execution_count": 3,
     "metadata": {},
     "output_type": "execute_result"
    }
   ],
   "source": [
    "import gensim.downloader as api\n",
    "text8_path = api.load('text8', return_path=True)\n",
    "text8_path"
   ]
  },
  {
   "cell_type": "markdown",
   "metadata": {},
   "source": [
    "Train Word2Vec model\n",
    "---------------------\n",
    "* also see `sphx_glr_auto_examples_tutorials_run_word2vec.py`."
   ]
  },
  {
   "cell_type": "code",
   "execution_count": 5,
   "metadata": {
    "collapsed": false,
    "jupyter": {
     "outputs_hidden": false
    }
   },
   "outputs": [
    {
     "name": "stdout",
     "output_type": "stream",
     "text": [
      "<gensim.models.word2vec.Word2Vec object at 0x7fc2e93a3f60>\n"
     ]
    }
   ],
   "source": [
    "from gensim.models import Word2Vec, KeyedVectors\n",
    "from gensim.models.word2vec import Text8Corpus\n",
    "\n",
    "# Using params from Word2Vec_FastText_Comparison\n",
    "params = {\n",
    "    'alpha':     0.05,\n",
    "    'size':    100,\n",
    "    'window':    5,\n",
    "    'iter':      5,\n",
    "    'min_count': 5,\n",
    "    'sample': 1e-4,\n",
    "    'sg':        1,\n",
    "    'hs':        0,\n",
    "    'negative':  5\n",
    "}\n",
    "model = Word2Vec(Text8Corpus(text8_path), **params)\n",
    "pprint.pprint(model)"
   ]
  },
  {
   "cell_type": "markdown",
   "metadata": {},
   "source": [
    "Construct AnnoyIndex with model & make a similarity query\n",
    "------------------------------------------------------------\n",
    "\n",
    "* Annoy uses an instance of *AnnoyIndexer*. It takes two parameters:\n",
    "    * **model**: A *Word2Vec* or *Doc2Vec* model\n",
    "    * **num_trees**: A positive integer. It controls build time and index size. Larger values = more accurate results, but larger indexes. More info [here](https://github.com/spotify/annoy#how-does-it-work).\n",
    "\n",
    "* Find the top 5 words most similar to \"science\" in the Text8 corpus. Call *Word2Vec.most_similar* with the *indexer* parameter to make a similarity query. ``indexer``. **Annoy** is the only supported indexer in gensim at the moment."
   ]
  },
  {
   "cell_type": "code",
   "execution_count": 9,
   "metadata": {
    "collapsed": false,
    "jupyter": {
     "outputs_hidden": false
    }
   },
   "outputs": [
    {
     "name": "stdout",
     "output_type": "stream",
     "text": [
      "Approximate Neighbors\n",
      "('science', 1.0)\n",
      "('actuarial', 0.610496997833252)\n",
      "('cryobiology', 0.6021265387535095)\n",
      "('interdisciplinary', 0.5971179902553558)\n",
      "('sciences', 0.5902493000030518)\n",
      "('multidisciplinary', 0.5875935554504395)\n",
      "('astrobiology', 0.5875882804393768)\n",
      "('popularizer', 0.5815011262893677)\n",
      "('psychohistory', 0.5778442919254303)\n",
      "('nanomedicine', 0.5736666321754456)\n",
      "('futurists', 0.5726926624774933)\n",
      "\n",
      "Normal (not Annoy-indexed) Neighbors\n",
      "('science', 1.0)\n",
      "('fiction', 0.755879282951355)\n",
      "('actuarial', 0.6965747475624084)\n",
      "('vernor', 0.6868565678596497)\n",
      "('cryobiology', 0.6833934187889099)\n",
      "('interdisciplinary', 0.6753721237182617)\n",
      "('vinge', 0.6675182580947876)\n",
      "('sciences', 0.6642086505889893)\n",
      "('scientific', 0.6607236862182617)\n",
      "('multidisciplinary', 0.6598420143127441)\n",
      "('astrobiology', 0.6598330736160278)\n"
     ]
    }
   ],
   "source": [
    "import annoy\n",
    "from gensim.similarities.index import AnnoyIndexer\n",
    "\n",
    "# 100 trees are being used in this example\n",
    "annoy_index = AnnoyIndexer(model, 100)\n",
    "\n",
    "vector                = model.wv[\"science\"]\n",
    "approximate_neighbors = model.wv.most_similar([vector], topn=11, indexer=annoy_index)\n",
    "normal_neighbors      = model.wv.most_similar([vector], topn=11)\n",
    "\n",
    "print(\"Approximate Neighbors\")\n",
    "for neighbor in approximate_neighbors:\n",
    "    pprint.pprint(neighbor)\n",
    "\n",
    "print(\"\\nNormal (not Annoy-indexed) Neighbors\")\n",
    "for neighbor in normal_neighbors:\n",
    "    pprint.pprint(neighbor)"
   ]
  },
  {
   "cell_type": "markdown",
   "metadata": {},
   "source": [
    "* The closer the cosine similarity of a vector is to 1, the more similar that word is to our query (in this case, the vector for \"science\")."
   ]
  },
  {
   "cell_type": "markdown",
   "metadata": {},
   "source": [
    "Compare to the traditional indexer\n",
    "-------------------------------------"
   ]
  },
  {
   "cell_type": "code",
   "execution_count": 10,
   "metadata": {
    "collapsed": false,
    "jupyter": {
     "outputs_hidden": false
    }
   },
   "outputs": [
    {
     "data": {
      "text/plain": [
       "[('the', 0.9999999403953552),\n",
       " ('of', 0.8293697237968445),\n",
       " ('in', 0.7990010380744934),\n",
       " ('a', 0.7587085962295532),\n",
       " ('and', 0.7384316921234131)]"
      ]
     },
     "execution_count": 10,
     "metadata": {},
     "output_type": "execute_result"
    }
   ],
   "source": [
    "model.init_sims()\n",
    "annoy_index = AnnoyIndexer(model, 100)\n",
    "\n",
    "# Dry run - ensure both indices are fully in RAM\n",
    "vector = model.wv.vectors_norm[0]\n",
    "model.wv.most_similar([vector], topn=5, indexer=annoy_index)\n",
    "model.wv.most_similar([vector], topn=5)"
   ]
  },
  {
   "cell_type": "code",
   "execution_count": 11,
   "metadata": {},
   "outputs": [],
   "source": [
    "# benchmark helper - avg query time over N random queries.\n",
    "\n",
    "import time\n",
    "import numpy as np\n",
    "\n",
    "def avg_query_time(annoy_index=None, queries=1000):\n",
    "\n",
    "    total_time = 0\n",
    "    \n",
    "    for _ in range(queries):\n",
    "        rand_vec    = model.wv.vectors_norm[np.random.randint(0, len(model.wv.vocab))]\n",
    "        start_time  = time.process_time()\n",
    "\n",
    "        model.wv.most_similar([rand_vec], topn=5, indexer=annoy_index)\n",
    "        total_time += time.process_time() - start_time\n",
    "\n",
    "    return total_time / queries"
   ]
  },
  {
   "cell_type": "code",
   "execution_count": 14,
   "metadata": {},
   "outputs": [
    {
     "name": "stdout",
     "output_type": "stream",
     "text": [
      "'Gensim: 0.02269'\n",
      "'Annoy: 0.00029'\n",
      "'Annoy is 78.47 times faster'\n"
     ]
    }
   ],
   "source": [
    "queries = 10000\n",
    "\n",
    "gensim_time       = avg_query_time(queries=queries)\n",
    "annoy_time        = avg_query_time(annoy_index, queries=queries)\n",
    "speed_improvement = gensim_time / annoy_time\n",
    "\n",
    "pprint.pprint(\"Gensim: {0:.5f}\".format(gensim_time))\n",
    "pprint.pprint(\"Annoy: {0:.5f}\".format(annoy_time))\n",
    "pprint.pprint(\"Annoy is {0:.2f} times faster\".format(speed_improvement))"
   ]
  },
  {
   "cell_type": "markdown",
   "metadata": {},
   "source": [
    "* Initialization time for the annoy indexer was not included in the benchmark.\n",
    "* The optimal KNN depends on how many queries you need to make and the size of the corpus. \n",
    "    - Few similarity queries: the annoy initialization time will be longer than brute-force retrieval times. \n",
    "    - Many similarity queries: the annoy initialization time will be compensated by the fast retrieval times.\n",
    "* Gensim's 'most_similar' method uses numpy dot product ops - Annoy's method does not. \n",
    "    - If numpy* on your machine is using one of the BLAS libraries like ATLAS or LAPACK, it'll run on multiple cores (if your machine has multicore support ). Check the [SciPy cookbook](http://scipy-cookbook.readthedocs.io/items/ParallelProgramming.html) for more details."
   ]
  },
  {
   "cell_type": "markdown",
   "metadata": {},
   "source": [
    "Persisting indices to disk\n",
    "-----------------------------\n",
    "* Create two files on disk, *fname* and *fname.d*. Both are needed to correctly restore all attributes. Before loading an index, you need to create an empty AnnoyIndexer object."
   ]
  },
  {
   "cell_type": "code",
   "execution_count": 15,
   "metadata": {
    "collapsed": false,
    "jupyter": {
     "outputs_hidden": false
    }
   },
   "outputs": [
    {
     "name": "stdout",
     "output_type": "stream",
     "text": [
      "('science', 1.0)\n",
      "('actuarial', 0.610496997833252)\n",
      "('cryobiology', 0.6021265387535095)\n",
      "('interdisciplinary', 0.5971179902553558)\n",
      "('sciences', 0.5902493000030518)\n",
      "('multidisciplinary', 0.5875935554504395)\n",
      "('astrobiology', 0.5875882804393768)\n",
      "('popularizer', 0.5815011262893677)\n",
      "('psychohistory', 0.5778442919254303)\n",
      "('nanomedicine', 0.5736666321754456)\n",
      "('futurists', 0.5726926624774933)\n"
     ]
    },
    {
     "name": "stderr",
     "output_type": "stream",
     "text": [
      "/home/bjpcjp/.local/lib/python3.6/site-packages/gensim/similarities/index.py:159: FutureWarning: The default argument for metric will be removed in future version of Annoy. Please pass metric='angular' explicitly.\n",
      "  self.index = AnnoyIndex(d['f'])\n"
     ]
    }
   ],
   "source": [
    "fname = '/tmp/mymodel.index'\n",
    "\n",
    "# Persist index to disk\n",
    "annoy_index.save(fname)\n",
    "\n",
    "# Load index back\n",
    "import os.path\n",
    "if os.path.exists(fname):\n",
    "    annoy_index2 = AnnoyIndexer()\n",
    "    annoy_index2.load(fname)\n",
    "    annoy_index2.model = model\n",
    "\n",
    "# Results should be identical to above\n",
    "vector                 = model.wv[\"science\"]\n",
    "approximate_neighbors2 = model.wv.most_similar([vector], topn=11, indexer=annoy_index2)\n",
    "for neighbor in approximate_neighbors2:\n",
    "    pprint.pprint(neighbor)\n",
    "    \n",
    "assert approximate_neighbors == approximate_neighbors2"
   ]
  },
  {
   "cell_type": "markdown",
   "metadata": {},
   "source": [
    "* Be sure to use the same model at load that was used originally, otherwise you will get unexpected behaviors."
   ]
  },
  {
   "cell_type": "markdown",
   "metadata": {},
   "source": [
    "Save memory via memory-mapping indices saved to disk\n",
    "----------------------------------------------------\n",
    "\n",
    "* Annoy can accept indices that are memory-mapped from disk. It saves memory when the same index is used by several processes.\n",
    "* Below are two snippets of code. First one has a separate index for each process. The second snipped shares the index between two processes via memory-mapping. The second example uses less total RAM as it is shared."
   ]
  },
  {
   "cell_type": "code",
   "execution_count": 16,
   "metadata": {
    "collapsed": false,
    "jupyter": {
     "outputs_hidden": false
    }
   },
   "outputs": [],
   "source": [
    "# Remove verbosity from code below (if logging active)\n",
    "if LOGS:\n",
    "    logging.disable(logging.CRITICAL)\n",
    "\n",
    "from multiprocessing import Process\n",
    "import os\n",
    "import psutil"
   ]
  },
  {
   "cell_type": "markdown",
   "metadata": {},
   "source": [
    "* Bad example: two processes load a Word2vec model from disk and create their own Annoy indices."
   ]
  },
  {
   "cell_type": "code",
   "execution_count": 17,
   "metadata": {
    "collapsed": false,
    "jupyter": {
     "outputs_hidden": false
    }
   },
   "outputs": [
    {
     "name": "stdout",
     "output_type": "stream",
     "text": [
      "Process Id: 26557\n"
     ]
    },
    {
     "name": "stderr",
     "output_type": "stream",
     "text": [
      "/home/bjpcjp/.local/lib/python3.6/site-packages/gensim/similarities/index.py:184: FutureWarning: The default argument for metric will be removed in future version of Annoy. Please pass metric='angular' explicitly.\n",
      "  index = AnnoyIndex(num_features)\n"
     ]
    },
    {
     "name": "stdout",
     "output_type": "stream",
     "text": [
      "\n",
      "Memory used by process 26557: pmem(rss=558882816, vms=2195030016, shared=12742656, text=4083712, lib=0, data=851476480, dirty=0)\n",
      "---\n",
      "Process Id: 26567\n"
     ]
    },
    {
     "name": "stderr",
     "output_type": "stream",
     "text": [
      "/home/bjpcjp/.local/lib/python3.6/site-packages/gensim/similarities/index.py:184: FutureWarning: The default argument for metric will be removed in future version of Annoy. Please pass metric='angular' explicitly.\n",
      "  index = AnnoyIndex(num_features)\n"
     ]
    },
    {
     "name": "stdout",
     "output_type": "stream",
     "text": [
      "\n",
      "Memory used by process 26567: pmem(rss=558931968, vms=2195030016, shared=12742656, text=4083712, lib=0, data=851591168, dirty=0)\n",
      "---\n"
     ]
    }
   ],
   "source": [
    "model.save('/tmp/mymodel.pkl')\n",
    "\n",
    "def f(process_id):\n",
    "    print('Process Id: {}'.format(os.getpid()))\n",
    "    \n",
    "    process               = psutil.Process(os.getpid())\n",
    "    new_model             = Word2Vec.load('/tmp/mymodel.pkl')\n",
    "    vector                = new_model.wv[\"science\"]\n",
    "    annoy_index           = AnnoyIndexer(new_model,100)\n",
    "    approximate_neighbors = new_model.wv.most_similar([vector], topn=5, indexer=annoy_index)\n",
    "    print('\\nMemory used by process {}: {}\\n---'.format(os.getpid(), process.memory_info()))\n",
    "\n",
    "# Creating and running two parallel process to share the same index file.\n",
    "p1 = Process(target=f, args=('1',)); p1.start(); p1.join()\n",
    "p2 = Process(target=f, args=('2',)); p2.start(); p2.join()"
   ]
  },
  {
   "cell_type": "markdown",
   "metadata": {},
   "source": [
    "* Better example: two processes load a Word2vec model and index from disk and memory-map the index."
   ]
  },
  {
   "cell_type": "code",
   "execution_count": 19,
   "metadata": {
    "collapsed": false,
    "jupyter": {
     "outputs_hidden": false
    }
   },
   "outputs": [
    {
     "name": "stdout",
     "output_type": "stream",
     "text": [
      "Process Id: 26704\n"
     ]
    },
    {
     "name": "stderr",
     "output_type": "stream",
     "text": [
      "/home/bjpcjp/.local/lib/python3.6/site-packages/gensim/similarities/index.py:159: FutureWarning: The default argument for metric will be removed in future version of Annoy. Please pass metric='angular' explicitly.\n",
      "  self.index = AnnoyIndex(d['f'])\n"
     ]
    },
    {
     "name": "stdout",
     "output_type": "stream",
     "text": [
      "\n",
      "Memory used by process 26704: pmem(rss=429486080, vms=2173390848, shared=34549760, text=4083712, lib=0, data=700276736, dirty=0)\n",
      "---\n",
      "Process Id: 26713\n"
     ]
    },
    {
     "name": "stderr",
     "output_type": "stream",
     "text": [
      "/home/bjpcjp/.local/lib/python3.6/site-packages/gensim/similarities/index.py:159: FutureWarning: The default argument for metric will be removed in future version of Annoy. Please pass metric='angular' explicitly.\n",
      "  self.index = AnnoyIndex(d['f'])\n"
     ]
    },
    {
     "name": "stdout",
     "output_type": "stream",
     "text": [
      "\n",
      "Memory used by process 26713: pmem(rss=429514752, vms=2173390848, shared=34549760, text=4083712, lib=0, data=700309504, dirty=0)\n",
      "---\n"
     ]
    }
   ],
   "source": [
    "model.save('/tmp/mymodel.pkl')\n",
    "\n",
    "def f(process_id):\n",
    "    print('Process Id: {}'.format(os.getpid()))\n",
    "    \n",
    "    process     = psutil.Process(os.getpid())\n",
    "    new_model   = Word2Vec.load('/tmp/mymodel.pkl')\n",
    "    vector      = new_model.wv[\"science\"]\n",
    "    annoy_index = AnnoyIndexer()\n",
    "\n",
    "    annoy_index.load('/tmp/mymodel.index')\n",
    "    \n",
    "    annoy_index.model     = new_model\n",
    "    approximate_neighbors = new_model.wv.most_similar([vector], topn=5, indexer=annoy_index)\n",
    "\n",
    "    print('\\nMemory used by process {}: {}\\n---'.format(os.getpid(), process.memory_info()))\n",
    "\n",
    "# Creating and running two parallel process to share the same index file.\n",
    "\n",
    "p1 = Process(target=f, args=('1',)); p1.start(); p1.join()\n",
    "p2 = Process(target=f, args=('2',)); p2.start(); p2.join()"
   ]
  },
  {
   "cell_type": "markdown",
   "metadata": {},
   "source": [
    "Evaluate *num_trees* for initialization time and accuracy\n",
    "---------------------------------------------------------"
   ]
  },
  {
   "cell_type": "code",
   "execution_count": 20,
   "metadata": {
    "collapsed": false,
    "jupyter": {
     "outputs_hidden": false
    }
   },
   "outputs": [],
   "source": [
    "import matplotlib.pyplot as plt"
   ]
  },
  {
   "cell_type": "markdown",
   "metadata": {},
   "source": [
    "Build dataset of Initialization times and accuracy measures:\n",
    "\n",
    "\n"
   ]
  },
  {
   "cell_type": "code",
   "execution_count": 21,
   "metadata": {
    "collapsed": false,
    "jupyter": {
     "outputs_hidden": false
    }
   },
   "outputs": [
    {
     "name": "stderr",
     "output_type": "stream",
     "text": [
      "/home/bjpcjp/.local/lib/python3.6/site-packages/gensim/similarities/index.py:184: FutureWarning: The default argument for metric will be removed in future version of Annoy. Please pass metric='angular' explicitly.\n",
      "  index = AnnoyIndex(num_features)\n"
     ]
    }
   ],
   "source": [
    "exact_results = [element[0] for element in model.wv.most_similar([model.wv.vectors_norm[0]], topn=100)]\n",
    "\n",
    "x_values = []\n",
    "y_values_init = []\n",
    "y_values_accuracy = []\n",
    "\n",
    "for x in range(1, 300, 10):\n",
    "    x_values.append(x)\n",
    "    start_time  = time.time()\n",
    "    annoy_index = AnnoyIndexer(model, x)\n",
    "    y_values_init.append(time.time() - start_time)\n",
    "    \n",
    "    approximate_results = model.wv.most_similar([model.wv.vectors_norm[0]], topn=100, indexer=annoy_index)\n",
    "    top_words           = [result[0] for result in approximate_results]\n",
    "    \n",
    "    y_values_accuracy.append(len(set(top_words).intersection(exact_results)))"
   ]
  },
  {
   "cell_type": "markdown",
   "metadata": {},
   "source": [
    "Plot results:\n",
    "\n"
   ]
  },
  {
   "cell_type": "code",
   "execution_count": 16,
   "metadata": {
    "collapsed": false,
    "jupyter": {
     "outputs_hidden": false
    }
   },
   "outputs": [
    {
     "data": {
      "image/png": "[encoded data removed]",
      "text/plain": [
       "<Figure size 864x432 with 2 Axes>"
      ]
     },
     "metadata": {
      "needs_background": "light"
     },
     "output_type": "display_data"
    }
   ],
   "source": [
    "plt.figure(1, figsize=(12, 6))\n",
    "plt.subplot(121)\n",
    "plt.plot(x_values, y_values_init)\n",
    "plt.title(\"num_trees vs initalization time\")\n",
    "plt.ylabel(\"Initialization time (s)\")\n",
    "plt.xlabel(\"num_trees\")\n",
    "plt.subplot(122)\n",
    "plt.plot(x_values, y_values_accuracy)\n",
    "plt.title(\"num_trees vs accuracy\")\n",
    "plt.ylabel(\"% accuracy\")\n",
    "plt.xlabel(\"num_trees\")\n",
    "plt.tight_layout()\n",
    "plt.show()"
   ]
  },
  {
   "cell_type": "markdown",
   "metadata": {},
   "source": [
    "### Observations:\n",
    "\n",
    "* Initialization time of the annoy indexer increases linearly with num_trees. Initialization time will vary from corpus to corpus.\n",
    "* Accuracy seems logarithmically related to num_trees. We see an improvement in accuracy with more trees, but the relationship is nonlinear. "
   ]
  },
  {
   "cell_type": "markdown",
   "metadata": {},
   "source": [
    "### Working with Google word2vec files\n",
    "\n",
    "* The model can be exported to a word2vec C format. (There are binary and plain text formats; both can be read with a variety of other software, or imported back into gensim as a *KeyedVectors* object.)"
   ]
  },
  {
   "cell_type": "code",
   "execution_count": 22,
   "metadata": {},
   "outputs": [],
   "source": [
    "import pprint"
   ]
  },
  {
   "cell_type": "code",
   "execution_count": 24,
   "metadata": {
    "collapsed": false,
    "jupyter": {
     "outputs_hidden": false
    }
   },
   "outputs": [
    {
     "name": "stdout",
     "output_type": "stream",
     "text": [
      "'71290 100'\n",
      "('the -0.06319707 0.039195236 0.07588886 0.4001127 -0.11037322 -0.107520714 '\n",
      " '0.13087319 -0.20622094 -0.0949448 -0.08399528 0.19712624 0.13627666 '\n",
      " '-0.02414426 0.078349985 -0.07241503 0.039491024 0.016215933 -0.030245265 '\n",
      " '-0.10123521 0.31701308 -0.13136622 0.34437454 0.060374323 0.31825018 '\n",
      " '0.14200555 -0.1566122 0.07745484 -0.11334791 -0.03250157 -0.11339325 '\n",
      " '0.0064096362 -0.07260254 0.13012147 0.058228973 0.14634727 -0.06686603 '\n",
      " '0.065946944 0.029342297 -0.06659591 -0.03133354 0.078267075 -0.16899376 '\n",
      " '0.18725447 0.13923602 0.061894465 -0.042796716 -0.27118808 -0.08819458 '\n",
      " '0.16076052 0.16670893 0.081136055 -0.18391502 0.17287001 0.07644524 '\n",
      " '0.027009718 -0.06526753 0.2662025 0.18883434 -0.079988696 -0.1593661 '\n",
      " '-0.1442297 -0.0799088 -0.22751018 -0.20122932 0.04568328 -0.0910776 '\n",
      " '0.18464975 -0.021864004 0.084170915 -0.08863863 0.25164923 -0.2646064 '\n",
      " '-0.047189914 0.19173446 0.09403665 0.07390129 -0.13470581 0.18706603 '\n",
      " '-0.22928306 0.0027579425 -0.013700904 -0.018206127 -0.08178888 -0.08762126 '\n",
      " '0.15999529 0.10968102 -0.089169934 -0.0022122806 0.046885256 -0.06205444 '\n",
      " '0.18070363 -0.51539737 -0.025181605 -0.1385105 0.13503537 0.04663762 '\n",
      " '0.0063088983 -0.20817925 -0.0072137527 -0.05908023')\n",
      "('of -0.012989646 0.02401067 0.14112492 0.26966462 -0.023397256 -0.23391843 '\n",
      " '0.07600945 -0.12725867 -0.097435914 0.01672271 0.14497694 0.07849876 '\n",
      " '-0.01767916 0.10497764 -0.008641152 0.017541504 -0.03226116 0.034880526 '\n",
      " '-0.2404362 0.311887 -0.2574052 0.27172726 0.025487153 0.19139117 0.13442704 '\n",
      " '-0.08228435 0.19386499 0.08618564 0.03356734 0.024941752 0.0006744569 '\n",
      " '-0.14554788 0.0064088977 0.20328854 0.14418766 -0.0475216 -0.14437999 '\n",
      " '-0.065015085 -0.035857305 0.021482013 0.21771173 -0.20803069 0.26872835 '\n",
      " '0.098331995 0.009096899 -0.17121287 -0.36650917 -0.030683154 0.2214979 '\n",
      " '0.18797179 0.06207725 -0.27142927 0.09066786 0.084719375 -0.032345343 '\n",
      " '-0.027696181 0.15184684 0.35165083 -0.14725499 -0.0894303 -0.21448731 '\n",
      " '0.054591384 -0.3292774 -0.25479448 0.073329635 0.06920759 0.15432025 '\n",
      " '-0.065602034 0.020422282 -0.05848902 0.44413894 -0.16455163 -0.17749818 '\n",
      " '0.13091376 0.032861385 -0.01893362 -0.13051261 0.1994728 -0.30715975 '\n",
      " '-0.06593906 -0.011594521 -0.000586546 -0.11262206 -0.10688347 0.23255484 '\n",
      " '-0.106510706 0.027887449 -0.07657725 0.2524258 -0.16874903 0.119137555 '\n",
      " '-0.34462008 -0.06338282 -0.24441683 0.19474806 -0.04137204 -0.025630731 '\n",
      " '-0.1991057 -0.19126095 -0.14084737')\n"
     ]
    },
    {
     "name": "stderr",
     "output_type": "stream",
     "text": [
      "/home/bjpcjp/.local/lib/python3.6/site-packages/gensim/similarities/index.py:184: FutureWarning: The default argument for metric will be removed in future version of Annoy. Please pass metric='angular' explicitly.\n",
      "  index = AnnoyIndex(num_features)\n"
     ]
    },
    {
     "name": "stdout",
     "output_type": "stream",
     "text": [
      "'Approximate Neighbors'\n",
      "('cat', 1.0)\n",
      "('leopardus', 0.5960615575313568)\n",
      "('prionailurus', 0.5871723294258118)\n",
      "('bird', 0.5858444571495056)\n",
      "('pug', 0.585036963224411)\n",
      "('hyena', 0.576640397310257)\n",
      "('ferret', 0.5735411643981934)\n",
      "('sighthound', 0.5715452134609222)\n",
      "('guppy', 0.5678088963031769)\n",
      "('parrot', 0.5659262835979462)\n",
      "('dog', 0.5657534897327423)\n",
      "'\\nNormal (not Annoy-indexed) Neighbors'\n",
      "('cat', 1.0)\n",
      "('cats', 0.6808634996414185)\n",
      "('leopardus', 0.6736674308776855)\n",
      "('felis', 0.6686286330223083)\n",
      "('meow', 0.6680138111114502)\n",
      "('prionailurus', 0.6591466069221497)\n",
      "('bird', 0.6569503545761108)\n",
      "('pug', 0.6556112766265869)\n",
      "('hyena', 0.6415332555770874)\n",
      "('ferret', 0.6362656950950623)\n",
      "('poodle', 0.6361774802207947)\n"
     ]
    },
    {
     "name": "stderr",
     "output_type": "stream",
     "text": [
      "/home/bjpcjp/.local/lib/python3.6/site-packages/gensim/similarities/index.py:159: FutureWarning: The default argument for metric will be removed in future version of Annoy. Please pass metric='angular' explicitly.\n",
      "  self.index = AnnoyIndex(d['f'])\n"
     ]
    }
   ],
   "source": [
    "# To export our model as text\n",
    "model.wv.save_word2vec_format('/tmp/vectors.txt', binary=False)\n",
    "\n",
    "from smart_open import open\n",
    "\n",
    "# View the first 3 lines of the exported file\n",
    "# first line: total #entries & vector dimension count. \n",
    "# next lines: key (string) followed by its vector.\n",
    "\n",
    "with open('/tmp/vectors.txt') as myfile:\n",
    "    for i in range(3):\n",
    "        pprint.pprint(myfile.readline().strip())\n",
    "\n",
    "# import word2vec text model\n",
    "wv = KeyedVectors.load_word2vec_format('/tmp/vectors.txt', binary=False)\n",
    "\n",
    "# export model as binary\n",
    "model.wv.save_word2vec_format('/tmp/vectors.bin', binary=True)\n",
    "\n",
    "# import word2vec binary model\n",
    "wv = KeyedVectors.load_word2vec_format('/tmp/vectors.bin', binary=True)\n",
    "\n",
    "# create and save Annoy Index from a loaded `KeyedVectors` object (with 100 trees)\n",
    "annoy_index = AnnoyIndexer(wv, 100)\n",
    "annoy_index.save('/tmp/mymodel.index')\n",
    "\n",
    "# Load and test the saved word vectors and saved annoy index\n",
    "wv = KeyedVectors.load_word2vec_format('/tmp/vectors.bin', binary=True)\n",
    "annoy_index = AnnoyIndexer()\n",
    "annoy_index.load('/tmp/mymodel.index')\n",
    "annoy_index.model = wv\n",
    "\n",
    "vector = wv[\"cat\"]\n",
    "approximate_neighbors = wv.most_similar([vector], topn=11, indexer=annoy_index)\n",
    "\n",
    "# Print approximate_neighbors and corresponding cosine similarity values\n",
    "pprint.pprint(\"Approximate Neighbors\")\n",
    "\n",
    "for neighbor in approximate_neighbors:\n",
    "    pprint.pprint(neighbor)\n",
    "\n",
    "normal_neighbors = wv.most_similar([vector], topn=11)\n",
    "pprint.pprint(\"\\nNormal (not Annoy-indexed) Neighbors\")\n",
    "for neighbor in normal_neighbors:\n",
    "    pprint.pprint(neighbor)"
   ]
  },
  {
   "cell_type": "code",
   "execution_count": null,
   "metadata": {},
   "outputs": [],
   "source": []
  }
 ],
 "metadata": {
  "kernelspec": {
   "display_name": "Python 3",
   "language": "python",
   "name": "python3"
  },
  "language_info": {
   "codemirror_mode": {
    "name": "ipython",
    "version": 3
   },
   "file_extension": ".py",
   "mimetype": "text/x-python",
   "name": "python",
   "nbconvert_exporter": "python",
   "pygments_lexer": "ipython3",
   "version": "3.6.9"
  }
 },
 "nbformat": 4,
 "nbformat_minor": 4
}
