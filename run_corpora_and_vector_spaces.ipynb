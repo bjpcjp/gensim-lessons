{
 "cells": [
  {
   "cell_type": "code",
   "execution_count": 1,
   "metadata": {
    "collapsed": false,
    "jupyter": {
     "outputs_hidden": false
    }
   },
   "outputs": [],
   "source": [
    "%matplotlib inline"
   ]
  },
  {
   "cell_type": "markdown",
   "metadata": {},
   "source": [
    "\n",
    "Corpora and Vector Spaces\n",
    "========================="
   ]
  },
  {
   "cell_type": "code",
   "execution_count": 2,
   "metadata": {
    "collapsed": false,
    "jupyter": {
     "outputs_hidden": false
    }
   },
   "outputs": [],
   "source": [
    "import logging\n",
    "logging.basicConfig(format='%(asctime)s : %(levelname)s : %(message)s', level=logging.INFO)"
   ]
  },
  {
   "cell_type": "markdown",
   "metadata": {},
   "source": [
    "From Strings to Vectors\n",
    "------------------------\n",
    "First, let’s create a small corpus of nine short documents represented as strings. (A single in sentence in each.)\n",
    "\n",
    "\n"
   ]
  },
  {
   "cell_type": "code",
   "execution_count": 3,
   "metadata": {
    "collapsed": false,
    "jupyter": {
     "outputs_hidden": false
    }
   },
   "outputs": [],
   "source": [
    "documents = [\n",
    "    \"Human machine interface for lab abc computer applications\",\n",
    "    \"A survey of user opinion of computer system response time\",\n",
    "    \"The EPS user interface management system\",\n",
    "    \"System and human system engineering testing of EPS\",\n",
    "    \"Relation of user perceived response time to error measurement\",\n",
    "    \"The generation of random binary unordered trees\",\n",
    "    \"The intersection graph of paths in trees\",\n",
    "    \"Graph minors IV Widths of trees and well quasi ordering\",\n",
    "    \"Graph minors A survey\",\n",
    "]"
   ]
  },
  {
   "cell_type": "markdown",
   "metadata": {},
   "source": [
    "* Tokenize the documents, remove common words (using a toy stoplist) and words that only appear once.\n",
    "\n"
   ]
  },
  {
   "cell_type": "code",
   "execution_count": 4,
   "metadata": {
    "collapsed": false,
    "jupyter": {
     "outputs_hidden": false
    }
   },
   "outputs": [
    {
     "name": "stdout",
     "output_type": "stream",
     "text": [
      "[['human', 'interface', 'computer'],\n",
      " ['survey', 'user', 'computer', 'system', 'response', 'time'],\n",
      " ['eps', 'user', 'interface', 'system'],\n",
      " ['system', 'human', 'system', 'eps'],\n",
      " ['user', 'response', 'time'],\n",
      " ['trees'],\n",
      " ['graph', 'trees'],\n",
      " ['graph', 'minors', 'trees'],\n",
      " ['graph', 'minors', 'survey']]\n"
     ]
    }
   ],
   "source": [
    "from pprint import pprint  # pretty-printer\n",
    "from collections import defaultdict\n",
    "\n",
    "stoplist = set('for a of the and to in'.split())\n",
    "\n",
    "texts = [\n",
    "    [word for word in document.lower().split() if word not in stoplist]\n",
    "    for document in documents\n",
    "]\n",
    "\n",
    "frequency = defaultdict(int)\n",
    "\n",
    "for text in texts:\n",
    "    for token in text:\n",
    "        frequency[token] += 1\n",
    "\n",
    "texts = [\n",
    "    [token for token in text if frequency[token] > 1]\n",
    "    for text in texts\n",
    "]\n",
    "\n",
    "pprint(texts)"
   ]
  },
  {
   "cell_type": "markdown",
   "metadata": {},
   "source": [
    "* This simple setup mimics the experiment done in Deerwester et al's original LSA article [1]_.\n",
    "\n",
    "* Use a Bag of Words document representation to convert documents to vectors. In this representation,\n",
    "each document is represented by one vector where each vector element represents a question-answer pair, in the style of:\n",
    "\n",
    "- Question: How many times does the word `system` appear in the document?\n",
    "- Answer: Once.\n",
    "\n",
    "* It helps to represent questions by their (integer) ids. The mapping between the questions and ids is called a dictionary.\n",
    "\n"
   ]
  },
  {
   "cell_type": "code",
   "execution_count": 5,
   "metadata": {
    "collapsed": false,
    "jupyter": {
     "outputs_hidden": false
    }
   },
   "outputs": [
    {
     "name": "stderr",
     "output_type": "stream",
     "text": [
      "2020-04-26 17:23:42,427 : WARNING : unable to import 'smart_open.gcs', disabling that module\n",
      "2020-04-26 17:23:42,691 : INFO : adding document #0 to Dictionary(0 unique tokens: [])\n",
      "2020-04-26 17:23:42,691 : INFO : built Dictionary(12 unique tokens: ['computer', 'human', 'interface', 'response', 'survey']...) from 9 documents (total 29 corpus positions)\n",
      "2020-04-26 17:23:42,692 : INFO : saving Dictionary object under /tmp/deerwester.dict, separately None\n",
      "2020-04-26 17:23:42,709 : INFO : saved /tmp/deerwester.dict\n"
     ]
    },
    {
     "name": "stdout",
     "output_type": "stream",
     "text": [
      "Dictionary(12 unique tokens: ['computer', 'human', 'interface', 'response', 'survey']...)\n"
     ]
    }
   ],
   "source": [
    "from gensim import corpora\n",
    "dictionary = corpora.Dictionary(texts)\n",
    "dictionary.save('/tmp/deerwester.dict')  # store the dictionary, for future reference\n",
    "print(dictionary)"
   ]
  },
  {
   "cell_type": "code",
   "execution_count": 6,
   "metadata": {},
   "outputs": [
    {
     "name": "stdout",
     "output_type": "stream",
     "text": [
      "/tmp/deerwester.dict\n"
     ]
    }
   ],
   "source": [
    "!ls /tmp/*dict"
   ]
  },
  {
   "cell_type": "markdown",
   "metadata": {},
   "source": [
    "* We assigned a unique integer id to all words appearing in the corpus with `gensim.corpora.dictionary.Dictionary`. This class sweeps across the texts, collecting word counts and relevant statistics. \n",
    "* In the end, we see 12 distinct words in the processed corpus, which means each document will be represented by twelve numbers (ie., by a 12-D vector). To see the mapping between words and their ids:\n",
    "\n"
   ]
  },
  {
   "cell_type": "code",
   "execution_count": 7,
   "metadata": {
    "collapsed": false,
    "jupyter": {
     "outputs_hidden": false
    }
   },
   "outputs": [
    {
     "name": "stdout",
     "output_type": "stream",
     "text": [
      "{'computer': 0,\n",
      " 'eps': 8,\n",
      " 'graph': 10,\n",
      " 'human': 1,\n",
      " 'interface': 2,\n",
      " 'minors': 11,\n",
      " 'response': 3,\n",
      " 'survey': 4,\n",
      " 'system': 5,\n",
      " 'time': 6,\n",
      " 'trees': 9,\n",
      " 'user': 7}\n"
     ]
    }
   ],
   "source": [
    "pprint(dictionary.token2id)"
   ]
  },
  {
   "cell_type": "markdown",
   "metadata": {},
   "source": [
    "* To convert tokenized documents to vectors:\n",
    "\n"
   ]
  },
  {
   "cell_type": "code",
   "execution_count": 8,
   "metadata": {
    "collapsed": false,
    "jupyter": {
     "outputs_hidden": false
    }
   },
   "outputs": [
    {
     "name": "stdout",
     "output_type": "stream",
     "text": [
      "[(0, 1), (1, 1)]\n"
     ]
    }
   ],
   "source": [
    "new_doc = \"Human computer interaction\"\n",
    "new_vec = dictionary.doc2bow(new_doc.lower().split())\n",
    "\n",
    "pprint(new_vec)  # the word \"interaction\" does not appear in the dictionary and is ignored"
   ]
  },
  {
   "cell_type": "markdown",
   "metadata": {},
   "source": [
    "* _doc2bow_ counts the #occurrences of each word, converts it to its integer id, and returns the result as a sparse vector. \n",
    "* _[(0, 1), (1, 1)]_ therefore reads: in the document `\"Human computer interaction\"`, the words `computer` (0) and `human` (1) appear once; the other ten dictionary words appear (implicitly) zero times.\n",
    "\n"
   ]
  },
  {
   "cell_type": "code",
   "execution_count": 9,
   "metadata": {
    "collapsed": false,
    "jupyter": {
     "outputs_hidden": false
    }
   },
   "outputs": [
    {
     "name": "stderr",
     "output_type": "stream",
     "text": [
      "2020-04-26 17:23:55,254 : INFO : storing corpus in Matrix Market format to /tmp/deerwester.mm\n",
      "2020-04-26 17:23:55,256 : INFO : saving sparse matrix to /tmp/deerwester.mm\n",
      "2020-04-26 17:23:55,256 : INFO : PROGRESS: saving document #0\n",
      "2020-04-26 17:23:55,258 : INFO : saved 9x12 matrix, density=25.926% (28/108)\n",
      "2020-04-26 17:23:55,259 : INFO : saving MmCorpus index to /tmp/deerwester.mm.index\n"
     ]
    },
    {
     "name": "stdout",
     "output_type": "stream",
     "text": [
      "[[(0, 1), (1, 1), (2, 1)],\n",
      " [(0, 1), (3, 1), (4, 1), (5, 1), (6, 1), (7, 1)],\n",
      " [(2, 1), (5, 1), (7, 1), (8, 1)],\n",
      " [(1, 1), (5, 2), (8, 1)],\n",
      " [(3, 1), (6, 1), (7, 1)],\n",
      " [(9, 1)],\n",
      " [(9, 1), (10, 1)],\n",
      " [(9, 1), (10, 1), (11, 1)],\n",
      " [(4, 1), (10, 1), (11, 1)]]\n"
     ]
    }
   ],
   "source": [
    "corpus = [dictionary.doc2bow(text) for text in texts]\n",
    "corpora.MmCorpus.serialize('/tmp/deerwester.mm', corpus)  # store to disk, for later use\n",
    "\n",
    "pprint(corpus)"
   ]
  },
  {
   "cell_type": "code",
   "execution_count": 10,
   "metadata": {},
   "outputs": [
    {
     "name": "stdout",
     "output_type": "stream",
     "text": [
      "/tmp/deerwester.dict  /tmp/deerwester.mm  /tmp/deerwester.mm.index\n"
     ]
    }
   ],
   "source": [
    "!ls /tmp/deerwester*"
   ]
  },
  {
   "cell_type": "markdown",
   "metadata": {},
   "source": [
    "Corpus Streaming -- One Document at a Time\n",
    "-------------------------------------------\n",
    "\n",
    "* Assume there are millions of documents in the corpus. We can't store them in RAM, so let's assume they are stored in a file on disk, one document per line. Gensim only requires that a corpus must be able to return one document vector at a time.\n",
    "\n",
    "\n"
   ]
  },
  {
   "cell_type": "code",
   "execution_count": 11,
   "metadata": {},
   "outputs": [
    {
     "name": "stdout",
     "output_type": "stream",
     "text": [
      "auto_examples_jupyter.zip  notebooks-20200423  src\n",
      "notebooks\t\t   notebooks-bjp       Untitled.ipynb\n"
     ]
    }
   ],
   "source": [
    "!ls .."
   ]
  },
  {
   "cell_type": "code",
   "execution_count": 15,
   "metadata": {
    "collapsed": false,
    "jupyter": {
     "outputs_hidden": false
    }
   },
   "outputs": [],
   "source": [
    "from smart_open import open  # for transparently opening remote files\n",
    "\n",
    "class MyCorpus(object):\n",
    "    def __iter__(self):\n",
    "        #for line in open('https://radimrehurek.com/gensim/mycorpus.txt'):\n",
    "        for line in open('file://Marcus-Aurelius-Meditations.txt'):\n",
    "            # assume there's one document per line, tokens separated by whitespace\n",
    "            yield dictionary.doc2bow(line.lower().split())"
   ]
  },
  {
   "cell_type": "markdown",
   "metadata": {},
   "source": [
    "* A corpus doesn't have to be a list or NumPy array, Pandas dataframe. Gensim *accepts any object that, when iterated over, successively yields documents*.\n",
    "* This allows you to create your own corpus classes to be streamed from wherever they originate.\n",
    "\n"
   ]
  },
  {
   "cell_type": "markdown",
   "metadata": {},
   "source": [
    "* The assumption that each document occupies one line in a single file is not important; you can mold\n",
    "the `__iter__` function to fit your input format, whatever it is.\n",
    "* Walking directories, parsing XML, accessing the network, .. just parse your input to retrieve a clean list of tokens in each document, then convert the tokens via a dictionary to their ids and yield the resulting sparse vector inside `__iter__`.\n",
    "\n"
   ]
  },
  {
   "cell_type": "code",
   "execution_count": 16,
   "metadata": {
    "collapsed": false,
    "jupyter": {
     "outputs_hidden": false
    }
   },
   "outputs": [
    {
     "name": "stdout",
     "output_type": "stream",
     "text": [
      "<__main__.MyCorpus object at 0x7f0823fc1c18>\n"
     ]
    }
   ],
   "source": [
    "corpus_memory_friendly = MyCorpus()  # doesn't load the corpus into memory!\n",
    "pprint(corpus_memory_friendly)"
   ]
  },
  {
   "cell_type": "markdown",
   "metadata": {},
   "source": [
    "* Corpus is now an object. We didn't define any way to print it, so `print` just outputs address\n",
    "of the object in memory. iterate over the corpus and print each document vector (one at a time):\n",
    "\n"
   ]
  },
  {
   "cell_type": "code",
   "execution_count": 20,
   "metadata": {
    "collapsed": false,
    "jupyter": {
     "outputs_hidden": false
    }
   },
   "outputs": [],
   "source": [
    "#for vector in corpus_memory_friendly:  # load one vector into memory at a time\n",
    "#    pprint(vector)"
   ]
  },
  {
   "cell_type": "markdown",
   "metadata": {},
   "source": [
    "* Although the output is the same as for the plain Python list, the corpus is now much more memory friendly, because at most one vector resides in RAM at a time. Your corpus can now be as large as you want.\n",
    "* Similarly, to construct the dictionary without loading all texts into memory:\n",
    "\n"
   ]
  },
  {
   "cell_type": "code",
   "execution_count": 22,
   "metadata": {
    "collapsed": false,
    "jupyter": {
     "outputs_hidden": false
    }
   },
   "outputs": [
    {
     "name": "stderr",
     "output_type": "stream",
     "text": [
      "2020-04-26 17:26:01,850 : INFO : adding document #0 to Dictionary(0 unique tokens: [])\n",
      "2020-04-26 17:26:01,965 : INFO : built Dictionary(9104 unique tokens: ['meditations', 'aurelius', 'marcus', '180', 'published:']...) from 3806 documents (total 65661 corpus positions)\n"
     ]
    },
    {
     "name": "stdout",
     "output_type": "stream",
     "text": [
      "<gensim.corpora.dictionary.Dictionary object at 0x7f0823f679e8>\n"
     ]
    }
   ],
   "source": [
    "from six import iteritems\n",
    "\n",
    "# collect statistics about all tokens\n",
    "dictionary = corpora.Dictionary(line.lower().split() for line in open('file://Marcus-Aurelius-Meditations.txt'))\n",
    "                                \n",
    "# remove stop words and words that appear only once\n",
    "stop_ids = [\n",
    "    dictionary.token2id[stopword]\n",
    "    for stopword in stoplist\n",
    "    if stopword in dictionary.token2id\n",
    "]\n",
    "once_ids = [tokenid for tokenid, docfreq in iteritems(dictionary.dfs) if docfreq == 1]\n",
    "                                \n",
    "dictionary.filter_tokens(stop_ids + once_ids)  # remove stop words and words that appear only once\n",
    "dictionary.compactify()  # remove gaps in id sequence after words that were removed\n",
    "pprint(dictionary)"
   ]
  },
  {
   "cell_type": "markdown",
   "metadata": {},
   "source": [
    "Corpus Formats\n",
    "---------------\n",
    "\n",
    "* There are several file formats for serializing a Vector Space corpus (~sequence of vectors) to disk. Gensim implements them via the *streaming corpus interface* mentioned earlier: documents are read from (resp. stored to) disk in a lazy fashion, one document at a time, without the whole corpus being read into main memory at once.\n",
    "\n",
    "* One example: [Market Matrix format](http://math.nist.gov/MatrixMarket/formats.html).\n",
    "* To save a corpus in the Matrix Market format, create a toy corpus of 2 documents, as a plain Python list:\n",
    "\n"
   ]
  },
  {
   "cell_type": "code",
   "execution_count": 23,
   "metadata": {
    "collapsed": false,
    "jupyter": {
     "outputs_hidden": false
    }
   },
   "outputs": [
    {
     "name": "stderr",
     "output_type": "stream",
     "text": [
      "2020-04-26 17:26:53,220 : INFO : storing corpus in Matrix Market format to /tmp/corpus.mm\n",
      "2020-04-26 17:26:53,222 : INFO : saving sparse matrix to /tmp/corpus.mm\n",
      "2020-04-26 17:26:53,222 : INFO : PROGRESS: saving document #0\n",
      "2020-04-26 17:26:53,223 : INFO : saved 2x2 matrix, density=25.000% (1/4)\n",
      "2020-04-26 17:26:53,224 : INFO : saving MmCorpus index to /tmp/corpus.mm.index\n"
     ]
    }
   ],
   "source": [
    "corpus = [[(1, 0.5)], []]  # make one document empty, for the heck of it\n",
    "\n",
    "corpora.MmCorpus.serialize('/tmp/corpus.mm', corpus)"
   ]
  },
  {
   "cell_type": "code",
   "execution_count": 24,
   "metadata": {},
   "outputs": [
    {
     "name": "stdout",
     "output_type": "stream",
     "text": [
      "/tmp/corpus.mm\t/tmp/corpus.mm.index\n"
     ]
    }
   ],
   "source": [
    "!ls /tmp/*corpus*"
   ]
  },
  {
   "cell_type": "markdown",
   "metadata": {},
   "source": [
    "Other formats:\n",
    "* [SVMlight](http://svmlight.joachims.org/)\n",
    "* [LDA-C](http://www.cs.princeton.edu/~blei/lda-c/)\n",
    "* [LDA++](http://gibbslda.sourceforge.net/)\n",
    "\n"
   ]
  },
  {
   "cell_type": "code",
   "execution_count": 25,
   "metadata": {
    "collapsed": false,
    "jupyter": {
     "outputs_hidden": false
    }
   },
   "outputs": [
    {
     "name": "stderr",
     "output_type": "stream",
     "text": [
      "2020-04-26 17:26:56,868 : INFO : converting corpus to SVMlight format: /tmp/corpus.svmlight\n",
      "2020-04-26 17:26:56,870 : INFO : saving SvmLightCorpus index to /tmp/corpus.svmlight.index\n",
      "2020-04-26 17:26:56,871 : INFO : no word id mapping provided; initializing from corpus\n",
      "2020-04-26 17:26:56,871 : INFO : storing corpus in Blei's LDA-C format into /tmp/corpus.lda-c\n",
      "2020-04-26 17:26:56,873 : INFO : saving vocabulary of 2 words to /tmp/corpus.lda-c.vocab\n",
      "2020-04-26 17:26:56,874 : INFO : saving BleiCorpus index to /tmp/corpus.lda-c.index\n",
      "2020-04-26 17:26:56,875 : INFO : no word id mapping provided; initializing from corpus\n",
      "2020-04-26 17:26:56,875 : INFO : storing corpus in List-Of-Words format into /tmp/corpus.low\n",
      "2020-04-26 17:26:56,877 : WARNING : List-of-words format can only save vectors with integer elements; 1 float entries were truncated to integer value\n",
      "2020-04-26 17:26:56,877 : INFO : saving LowCorpus index to /tmp/corpus.low.index\n"
     ]
    }
   ],
   "source": [
    "corpora.SvmLightCorpus.serialize('/tmp/corpus.svmlight', corpus)\n",
    "corpora.BleiCorpus.serialize('/tmp/corpus.lda-c', corpus)\n",
    "corpora.LowCorpus.serialize('/tmp/corpus.low', corpus)"
   ]
  },
  {
   "cell_type": "markdown",
   "metadata": {},
   "source": [
    "* To load a corpus iterator from a Matrix Market file:\n",
    "\n"
   ]
  },
  {
   "cell_type": "code",
   "execution_count": 26,
   "metadata": {
    "collapsed": false,
    "jupyter": {
     "outputs_hidden": false
    }
   },
   "outputs": [
    {
     "name": "stderr",
     "output_type": "stream",
     "text": [
      "2020-04-26 17:27:01,677 : INFO : loaded corpus index from /tmp/corpus.mm.index\n",
      "2020-04-26 17:27:01,679 : INFO : initializing cython corpus reader from /tmp/corpus.mm\n",
      "2020-04-26 17:27:01,682 : INFO : accepted corpus with 2 documents, 2 features, 1 non-zero entries\n"
     ]
    }
   ],
   "source": [
    "corpus = corpora.MmCorpus('/tmp/corpus.mm')"
   ]
  },
  {
   "cell_type": "markdown",
   "metadata": {},
   "source": [
    "* Corpus objects are streams - typically you can't print them directly:\n",
    "\n"
   ]
  },
  {
   "cell_type": "code",
   "execution_count": 27,
   "metadata": {
    "collapsed": false,
    "jupyter": {
     "outputs_hidden": false
    }
   },
   "outputs": [
    {
     "name": "stdout",
     "output_type": "stream",
     "text": [
      "MmCorpus(2 documents, 2 features, 1 non-zero entries)\n"
     ]
    }
   ],
   "source": [
    "print(corpus)"
   ]
  },
  {
   "cell_type": "markdown",
   "metadata": {},
   "source": [
    "* Instead, to view the contents of a corpus: calling list() first will convert any sequence to a plain Python list\n",
    "\n"
   ]
  },
  {
   "cell_type": "code",
   "execution_count": 28,
   "metadata": {
    "collapsed": false,
    "jupyter": {
     "outputs_hidden": false
    }
   },
   "outputs": [
    {
     "name": "stdout",
     "output_type": "stream",
     "text": [
      "[[(1, 0.5)], []]\n"
     ]
    }
   ],
   "source": [
    "print(list(corpus))  "
   ]
  },
  {
   "cell_type": "markdown",
   "metadata": {},
   "source": [
    "* or, print one document at a time, making use of the streaming interface\n",
    "\n"
   ]
  },
  {
   "cell_type": "code",
   "execution_count": 29,
   "metadata": {
    "collapsed": false,
    "jupyter": {
     "outputs_hidden": false
    }
   },
   "outputs": [
    {
     "name": "stdout",
     "output_type": "stream",
     "text": [
      "[(1, 0.5)]\n",
      "[]\n"
     ]
    }
   ],
   "source": [
    "for doc in corpus:\n",
    "    print(doc)"
   ]
  },
  {
   "cell_type": "markdown",
   "metadata": {},
   "source": [
    "* For testing and development purposes, nothing beats the simplicity of calling _list(corpus)_.\n",
    "\n",
    "* To save the same Matrix Market document stream in Blei's LDA-C format:\n",
    "\n"
   ]
  },
  {
   "cell_type": "code",
   "execution_count": 30,
   "metadata": {
    "collapsed": false,
    "jupyter": {
     "outputs_hidden": false
    }
   },
   "outputs": [
    {
     "name": "stderr",
     "output_type": "stream",
     "text": [
      "2020-04-26 17:27:12,897 : INFO : no word id mapping provided; initializing from corpus\n",
      "2020-04-26 17:27:12,899 : INFO : storing corpus in Blei's LDA-C format into /tmp/corpus.lda-c\n",
      "2020-04-26 17:27:12,900 : INFO : saving vocabulary of 2 words to /tmp/corpus.lda-c.vocab\n",
      "2020-04-26 17:27:12,901 : INFO : saving BleiCorpus index to /tmp/corpus.lda-c.index\n"
     ]
    }
   ],
   "source": [
    "corpora.BleiCorpus.serialize('/tmp/corpus.lda-c', corpus)"
   ]
  },
  {
   "cell_type": "markdown",
   "metadata": {},
   "source": [
    "* This way, gensim can also be used as a memory-efficient I/O format conversion tool - just load a document stream using one format and immediately save it in another format.\n",
    "* Adding formats is easy. See the [SVMlight example](https://github.com/piskvorky/gensim/blob/develop/gensim/corpora/svmlightcorpus.py).\n",
    "\n",
    "### [NumPy and SciPy compatibility functions](http://radimrehurek.com/gensim/matutils.html)\n",
    "\n"
   ]
  },
  {
   "cell_type": "code",
   "execution_count": 31,
   "metadata": {
    "collapsed": false,
    "jupyter": {
     "outputs_hidden": false
    }
   },
   "outputs": [
    {
     "name": "stdout",
     "output_type": "stream",
     "text": [
      "array([[7., 1.],\n",
      "       [1., 6.],\n",
      "       [0., 1.],\n",
      "       [4., 0.],\n",
      "       [8., 8.],\n",
      "       [0., 0.],\n",
      "       [0., 0.],\n",
      "       [0., 0.],\n",
      "       [0., 0.],\n",
      "       [0., 0.]], dtype=float32)\n"
     ]
    }
   ],
   "source": [
    "import gensim\n",
    "import numpy as np\n",
    "numpy_matrix = np.random.randint(10, size=[5, 2])  # random matrix as an example\n",
    "corpus = gensim.matutils.Dense2Corpus(numpy_matrix)\n",
    "\n",
    "number_of_corpus_features = 10\n",
    "numpy_matrix = gensim.matutils.corpus2dense(corpus, num_terms=number_of_corpus_features)\n",
    "pprint(numpy_matrix)"
   ]
  },
  {
   "cell_type": "code",
   "execution_count": 32,
   "metadata": {
    "collapsed": false,
    "jupyter": {
     "outputs_hidden": false
    }
   },
   "outputs": [
    {
     "name": "stdout",
     "output_type": "stream",
     "text": [
      "<0x2 sparse matrix of type '<class 'numpy.float64'>'\n",
      "\twith 0 stored elements in Compressed Sparse Column format>\n"
     ]
    }
   ],
   "source": [
    "import scipy.sparse\n",
    "scipy_sparse_matrix = scipy.sparse.random(5, 2)  # random sparse matrix as example\n",
    "corpus              = gensim.matutils.Sparse2Corpus(scipy_sparse_matrix)\n",
    "scipy_csc_matrix    = gensim.matutils.corpus2csc(corpus)\n",
    "\n",
    "pprint(scipy_csc_matrix)"
   ]
  },
  {
   "cell_type": "code",
   "execution_count": null,
   "metadata": {},
   "outputs": [],
   "source": []
  }
 ],
 "metadata": {
  "kernelspec": {
   "display_name": "Python 3",
   "language": "python",
   "name": "python3"
  },
  "language_info": {
   "codemirror_mode": {
    "name": "ipython",
    "version": 3
   },
   "file_extension": ".py",
   "mimetype": "text/x-python",
   "name": "python",
   "nbconvert_exporter": "python",
   "pygments_lexer": "ipython3",
   "version": "3.6.9"
  }
 },
 "nbformat": 4,
 "nbformat_minor": 4
}
