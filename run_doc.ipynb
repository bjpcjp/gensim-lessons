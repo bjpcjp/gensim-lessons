{
 "cells": [
  {
   "cell_type": "code",
   "execution_count": null,
   "metadata": {
    "collapsed": false,
    "jupyter": {
     "outputs_hidden": false
    }
   },
   "outputs": [],
   "source": [
    "%matplotlib inline"
   ]
  },
  {
   "cell_type": "markdown",
   "metadata": {},
   "source": [
    "\n",
    "How to Author Gensim Documentation\n",
    "=================================="
   ]
  },
  {
   "cell_type": "code",
   "execution_count": 1,
   "metadata": {
    "collapsed": false,
    "jupyter": {
     "outputs_hidden": false
    }
   },
   "outputs": [],
   "source": [
    "import sys"
   ]
  },
  {
   "cell_type": "markdown",
   "metadata": {},
   "source": [
    "Background\n",
    "----------\n",
    "\n",
    "Gensim is a large project with a wide range of functionality.\n",
    "Unfortunately, not all of this functionality is documented **well**, and some of it is not documented at all.\n",
    "Without good documentation, users are unable to unlock Gensim's full potential.\n",
    "Therefore, authoring new documentation and improving existing documentation is of great value to the Gensim project.\n",
    "\n",
    "If you implement new functionality in Gensim, please include **helpful** documentation.\n",
    "By \"helpful\", we mean that your documentation answers questions that Gensim users may have.\n",
    "For example:\n",
    "\n",
    "- What is this new functionality?\n",
    "- **Why** is it important?\n",
    "- **How** is it relevant to Gensim?\n",
    "- **What** can I do with it? What are some real-world applications?\n",
    "- **How** do I use it to achieve those things?\n",
    "- ... and others (if you can think of them, please add them here)\n",
    "\n",
    "The summary of the above presentation is: there are four distinct kinds of documentation, and you really need them all:\n",
    "\n",
    "1. Tutorials\n",
    "2. Howto guides\n",
    "3. Explanations\n",
    "4. References\n",
    "\n",
    "Mechanisms\n",
    "----------\n",
    "\n",
    "We keep our documentation as individual Python scripts.\n",
    "These scripts live at *docs/src/gallery* in one of several subdirectories:\n",
    "\n",
    "- core: core tutorials.  We try to keep this part small, avoid putting stuff here.\n",
    "- tutorials: tutorials.\n",
    "- howtos: howto guides.\n",
    "\n",
    "Pick a subdirectory and save your script under it.\n",
    "Prefix the name of the script with ``run_``: this way, the the documentation builder will run your script each time it builds our docs.\n",
    "\n",
    "The contents of the script are straightforward.\n",
    "At the very top, you need a docstring describing what your script does.\n",
    "\n"
   ]
  },
  {
   "cell_type": "code",
   "execution_count": 2,
   "metadata": {
    "collapsed": false,
    "jupyter": {
     "outputs_hidden": false
    }
   },
   "outputs": [
    {
     "data": {
      "text/plain": [
       "'\\nTitle\\n=====\\n\\nBrief description.\\n'"
      ]
     },
     "execution_count": 2,
     "metadata": {},
     "output_type": "execute_result"
    }
   ],
   "source": [
    "r\"\"\"\n",
    "Title\n",
    "=====\n",
    "\n",
    "Brief description.\n",
    "\"\"\""
   ]
  },
  {
   "cell_type": "markdown",
   "metadata": {},
   "source": [
    "The title is what will show up in the gallery.\n",
    "Keep this short and descriptive.\n",
    "\n",
    "The description will appear as a tooltip in the gallery.\n",
    "When people mouse-over the title, they will see the description.\n",
    "Keep this short too.\n",
    "\n",
    "\n"
   ]
  },
  {
   "cell_type": "markdown",
   "metadata": {},
   "source": [
    "The rest of the script is Python, formatted in a special way so Sphinx Gallery can parse it.\n",
    "The most important properties of this format are:\n",
    "\n",
    "- Sphinx Gallery will split your script into blocks\n",
    "- A block can be Python source or RST-formatted comments\n",
    "- To indicate that a block is in RST, prefix it with a line of 80 hash (#) characters.\n",
    "- All other blocks will be interpreted as Python source\n",
    "\n",
    "Read [sphinx-gallery syntax](https://sphinx-gallery.github.io/syntax.html) for more details. If you need further examples, check out other ``gensim`` tutorials and guides. All of them (including this one!) have a download link at the bottom of the page, which exposes the Python source they were generated from.\n",
    "\n",
    "You should be able to run your script directly from the command line::\n",
    "\n",
    "  python myscript.py\n",
    "\n",
    "and it should run to completion without error, occasionally printing stuff to standard output."
   ]
  },
  {
   "cell_type": "markdown",
   "metadata": {},
   "source": [
    "Authoring Workflow\n",
    "------------------\n",
    "\n",
    "There are several ways to author documentation.\n",
    "The simplest and most straightforward is to author your ``script.py`` from scratch.\n",
    "You'll have the following cycle:\n",
    "\n",
    "1. Make changes\n",
    "2. Run ``python script.py``\n",
    "3. Check standard output, standard error and return code\n",
    "4. If everything works well, stop.\n",
    "5. Otherwise, go back to step 1).\n",
    "\n",
    "If the above is not your cup of tea, you can also author your documentation as a Jupyter notebook.\n",
    "This is a more flexible approach that enables you to tweak parts of the documentation and re-run them as necessary.\n",
    "\n",
    "Once you're happy with the notebook, convert it to a script.py.\n",
    "There's a helpful `script <https://github.com/mpenkov/gensim/blob/numfocus/docs/src/tools/to_python.py>`__ that will do it for you.\n",
    "To use it::\n",
    "\n",
    "    python to_python.py < notebook.ipynb > script.py\n",
    "\n",
    "You may have to touch up the resulting ``script.py``.\n",
    "More specifically:\n",
    "\n",
    "- Update the title\n",
    "- Update the description\n",
    "- Fix any issues that the markdown-to-RST converter could not deal with\n",
    "\n",
    "Once your script.py works, put it in a suitable subdirectory.\n",
    "Please don't include your original Jupyter notebook in the repository - we won't be using it.\n",
    "\n"
   ]
  },
  {
   "cell_type": "markdown",
   "metadata": {},
   "source": [
    "Correctness\n",
    "-----------\n",
    "\n",
    "Incorrect documentation can be worse than no documentation at all.\n",
    "Take the following steps to ensure correctness:\n",
    "\n",
    "- Run Python's doctest module on your docstrings\n",
    "- Run your documentation scripts from scratch, removing any temporary files/results\n",
    "\n",
    "Using data in your documentation\n",
    "--------------------------------\n",
    "\n",
    "Some parts of the documentation require real-world data to be useful.\n",
    "For example, you may need more than just a toy example to demonstrate the benefits of one model over another.\n",
    "This subsection provides some tips for including data in your documentation.\n",
    "\n",
    "If possible, use data available via Gensim's\n",
    "`downloader API <https://radimrehurek.com/gensim/gensim_numfocus/auto_examples/010_tutorials/run_downloader_api.html>`__.\n",
    "This will reduce the risk of your documentation becoming obsolete because required data is no longer available.\n",
    "\n",
    "Use the smallest possible dataset: avoid making people unnecessarily load large datasets and models.\n",
    "This will make your documentation faster to run and easier for people to use (they can modify your examples and re-run them quickly).\n",
    "\n",
    "Finalizing your contribution\n",
    "----------------------------\n",
    "\n",
    "First, get Sphinx Gallery to build your documentation::\n",
    "\n",
    "    make -C docs/src html\n",
    "\n",
    "This can take a while if your documentation uses a large dataset, or if you've changed many other tutorials or guides.\n",
    "Once this completes successfully, open ``docs/auto_examples/index.html`` in your browser.\n",
    "You should see your new tutorial or guide in the gallery.\n",
    "\n",
    "Once your documentation script is working correctly, it's time to add it to the git repository::\n",
    "\n",
    "    git add docs/src/gallery/tutorials/run_example.py\n",
    "    git add docs/src/auto_examples/tutorials/run_example.{py,py.md5,rst,ipynb}\n",
    "    git add docs/src/auto_examples/howtos/sg_execution_times.rst\n",
    "    git commit -m \"enter a helpful commit message here\"\n",
    "    git push origin branchname\n",
    "\n",
    ".. Note::\n",
    "  You may be wondering what all those other files are.\n",
    "  Sphinx Gallery puts a copy of your Python script in ``auto_examples/tutorials``.\n",
    "  The .md5 contains MD5 hash of the script to enable easy detection of modifications.\n",
    "  Gallery also generates .rst (RST for Sphinx) and .ipynb (Jupyter notebook) files from the script.\n",
    "  Finally, ``sg_execution_times.rst`` contains the time taken to run each example.\n",
    "\n",
    "Finally, make a PR on `github <https://github.com/RaRe-Technologies/gensim>`__.\n",
    "One of our friendly maintainers will review it, make suggestions, and eventually merge it.\n",
    "Your documentation will then appear in the gallery alongside the rest of the example.\n",
    "At that stage, give yourself a pat on the back: you're done!\n",
    "\n"
   ]
  }
 ],
 "metadata": {
  "kernelspec": {
   "display_name": "Python 3",
   "language": "python",
   "name": "python3"
  },
  "language_info": {
   "codemirror_mode": {
    "name": "ipython",
    "version": 3
   },
   "file_extension": ".py",
   "mimetype": "text/x-python",
   "name": "python",
   "nbconvert_exporter": "python",
   "pygments_lexer": "ipython3",
   "version": "3.6.9"
  }
 },
 "nbformat": 4,
 "nbformat_minor": 4
}
