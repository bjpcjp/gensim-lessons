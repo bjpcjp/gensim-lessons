{
 "cells": [
  {
   "cell_type": "code",
   "execution_count": 1,
   "metadata": {
    "collapsed": false,
    "jupyter": {
     "outputs_hidden": false
    }
   },
   "outputs": [],
   "source": [
    "%matplotlib inline"
   ]
  },
  {
   "cell_type": "markdown",
   "metadata": {},
   "source": [
    "Text Summarization\n",
    "==================\n",
    "Demonstrates summarizing text by extracting the most important sentences from it.\n"
   ]
  },
  {
   "cell_type": "code",
   "execution_count": 2,
   "metadata": {
    "collapsed": false,
    "jupyter": {
     "outputs_hidden": false
    }
   },
   "outputs": [],
   "source": [
    "#import logging\n",
    "#logging.basicConfig(format='%(asctime)s : %(levelname)s : %(message)s', level=logging.INFO)"
   ]
  },
  {
   "cell_type": "markdown",
   "metadata": {},
   "source": [
    "* This module summarizes text by extracting one or more sentences. (it also extracts keywords.) basis: [TextRank by Mihalcea et al](http://web.eecs.umich.edu/%7Emihalcea/papers/mihalcea.emnlp04.pdf).\n",
    "* improvements: [Barrios et al](https://raw.githubusercontent.com/summanlp/docs/master/articulo/articulo-en.pdf) - introduces a \"BM25 ranking function\". \n",
    "* Notes Gensim summarization only works for English for now, because the text\n",
    "    is pre-processed so that stopwords are removed and the words are stemmed,\n",
    "    and these processes are language-dependent."
   ]
  },
  {
   "cell_type": "code",
   "execution_count": 3,
   "metadata": {
    "collapsed": false,
    "jupyter": {
     "outputs_hidden": false
    }
   },
   "outputs": [
    {
     "name": "stderr",
     "output_type": "stream",
     "text": [
      "unable to import 'smart_open.gcs', disabling that module\n"
     ]
    }
   ],
   "source": [
    "from pprint import pprint as print\n",
    "from gensim.summarization import summarize"
   ]
  },
  {
   "cell_type": "code",
   "execution_count": 4,
   "metadata": {
    "collapsed": false,
    "jupyter": {
     "outputs_hidden": false
    }
   },
   "outputs": [
    {
     "name": "stdout",
     "output_type": "stream",
     "text": [
      "('Thomas A. Anderson is a man living two lives. By day he is an average '\n",
      " 'computer programmer and by night a hacker known as Neo. Neo has always '\n",
      " 'questioned his reality, but the truth is far beyond his imagination. Neo '\n",
      " 'finds himself targeted by the police when he is contacted by Morpheus, a '\n",
      " 'legendary computer hacker branded a terrorist by the government. Morpheus '\n",
      " 'awakens Neo to the real world, a ravaged wasteland where most of humanity '\n",
      " \"have been captured by a race of machines that live off of the humans' body \"\n",
      " 'heat and electrochemical energy and who imprison their minds within an '\n",
      " 'artificial reality known as the Matrix. As a rebel against the machines, Neo '\n",
      " 'must return to the Matrix and confront the agents: super-powerful computer '\n",
      " 'programs devoted to snuffing out Neo and the entire human rebellion. ')\n"
     ]
    }
   ],
   "source": [
    "text = (\n",
    "    \"Thomas A. Anderson is a man living two lives. By day he is an \"\n",
    "    \"average computer programmer and by night a hacker known as \"\n",
    "    \"Neo. Neo has always questioned his reality, but the truth is \"\n",
    "    \"far beyond his imagination. Neo finds himself targeted by the \"\n",
    "    \"police when he is contacted by Morpheus, a legendary computer \"\n",
    "    \"hacker branded a terrorist by the government. Morpheus awakens \"\n",
    "    \"Neo to the real world, a ravaged wasteland where most of \"\n",
    "    \"humanity have been captured by a race of machines that live \"\n",
    "    \"off of the humans' body heat and electrochemical energy and \"\n",
    "    \"who imprison their minds within an artificial reality known as \"\n",
    "    \"the Matrix. As a rebel against the machines, Neo must return to \"\n",
    "    \"the Matrix and confront the agents: super-powerful computer \"\n",
    "    \"programs devoted to snuffing out Neo and the entire human \"\n",
    "    \"rebellion. \"\n",
    ")\n",
    "print(text)"
   ]
  },
  {
   "cell_type": "markdown",
   "metadata": {},
   "source": [
    "* Pass the **raw string data** to \"summarize\".\n",
    "* Note: ensure the string does not contain any newlines where the line breaks in a sentence. A sentence with a newline in it (i.e. a carriage return, \"\\n\") will be treated as two sentences."
   ]
  },
  {
   "cell_type": "code",
   "execution_count": 5,
   "metadata": {
    "collapsed": false,
    "jupyter": {
     "outputs_hidden": false
    }
   },
   "outputs": [
    {
     "name": "stdout",
     "output_type": "stream",
     "text": [
      "('Morpheus awakens Neo to the real world, a ravaged wasteland where most of '\n",
      " 'humanity have been captured by a race of machines that live off of the '\n",
      " \"humans' body heat and electrochemical energy and who imprison their minds \"\n",
      " 'within an artificial reality known as the Matrix.')\n"
     ]
    }
   ],
   "source": [
    "print(summarize(text))"
   ]
  },
  {
   "cell_type": "markdown",
   "metadata": {},
   "source": [
    "* Use the \"split\" option if you want a list of strings.\n",
    "\n",
    "\n"
   ]
  },
  {
   "cell_type": "code",
   "execution_count": 6,
   "metadata": {
    "collapsed": false,
    "jupyter": {
     "outputs_hidden": false
    }
   },
   "outputs": [
    {
     "name": "stdout",
     "output_type": "stream",
     "text": [
      "['Morpheus awakens Neo to the real world, a ravaged wasteland where most of '\n",
      " 'humanity have been captured by a race of machines that live off of the '\n",
      " \"humans' body heat and electrochemical energy and who imprison their minds \"\n",
      " 'within an artificial reality known as the Matrix.']\n"
     ]
    }
   ],
   "source": [
    "print(summarize(text, split=True))"
   ]
  },
  {
   "cell_type": "markdown",
   "metadata": {},
   "source": [
    "* Adjust how much text the summarizer outputs with \"ratio\" or \"word_count\". \"ratio\" specifies the %sentences in the original text should be returned as output. the default is 20%."
   ]
  },
  {
   "cell_type": "code",
   "execution_count": 7,
   "metadata": {
    "collapsed": false,
    "jupyter": {
     "outputs_hidden": false
    }
   },
   "outputs": [
    {
     "name": "stdout",
     "output_type": "stream",
     "text": [
      "('By day he is an average computer programmer and by night a hacker known as '\n",
      " 'Neo. Neo has always questioned his reality, but the truth is far beyond his '\n",
      " 'imagination.\\n'\n",
      " 'Morpheus awakens Neo to the real world, a ravaged wasteland where most of '\n",
      " 'humanity have been captured by a race of machines that live off of the '\n",
      " \"humans' body heat and electrochemical energy and who imprison their minds \"\n",
      " 'within an artificial reality known as the Matrix.\\n'\n",
      " 'As a rebel against the machines, Neo must return to the Matrix and confront '\n",
      " 'the agents: super-powerful computer programs devoted to snuffing out Neo and '\n",
      " 'the entire human rebellion.')\n"
     ]
    }
   ],
   "source": [
    "print(summarize(text, ratio=0.5))"
   ]
  },
  {
   "cell_type": "markdown",
   "metadata": {},
   "source": [
    "* Using \"word_count\" to specify the maximum amount of words in the summary."
   ]
  },
  {
   "cell_type": "code",
   "execution_count": 9,
   "metadata": {
    "collapsed": false,
    "jupyter": {
     "outputs_hidden": false
    }
   },
   "outputs": [
    {
     "name": "stdout",
     "output_type": "stream",
     "text": [
      "('Morpheus awakens Neo to the real world, a ravaged wasteland where most of '\n",
      " 'humanity have been captured by a race of machines that live off of the '\n",
      " \"humans' body heat and electrochemical energy and who imprison their minds \"\n",
      " 'within an artificial reality known as the Matrix.')\n"
     ]
    }
   ],
   "source": [
    "print(summarize(text, word_count=50))"
   ]
  },
  {
   "cell_type": "markdown",
   "metadata": {},
   "source": [
    "* This module also supports **keyword** extraction. It works in the same way as summary generation (i.e. sentence extraction), in that the algorithm tries to find words that are important or seem representative of the entire text. \n",
    "* The keywords are not always single words; in the case of multi-word keywords, they are typically all nouns.\n",
    "\n",
    "\n"
   ]
  },
  {
   "cell_type": "code",
   "execution_count": 10,
   "metadata": {
    "collapsed": false,
    "jupyter": {
     "outputs_hidden": false
    }
   },
   "outputs": [
    {
     "name": "stdout",
     "output_type": "stream",
     "text": [
      "'neo\\nhumanity\\nhuman\\nhumans body\\nsuper\\nhacker\\nreality'\n"
     ]
    }
   ],
   "source": [
    "from gensim.summarization import keywords\n",
    "print(keywords(text))"
   ]
  },
  {
   "cell_type": "markdown",
   "metadata": {},
   "source": [
    "Larger example\n",
    "--------------\n",
    "* Use the [synopsis of The Matrix](http://www.imdb.com/title/tt0133093/synopsis?ref_=ttpl_pl_syn) IMDb page.\n",
    "* Read the text file directly from a web-page using \"requests\". Then we produce a summary and some keywords.\n"
   ]
  },
  {
   "cell_type": "code",
   "execution_count": 12,
   "metadata": {
    "collapsed": false,
    "jupyter": {
     "outputs_hidden": false
    }
   },
   "outputs": [
    {
     "name": "stdout",
     "output_type": "stream",
     "text": [
      "('The screen is filled with green, cascading code which gives way to the '\n",
      " 'title, The Matrix.\\r\\n'\n",
      " '\\r\\n'\n",
      " 'A phone rings and text appears on the screen: \"Call trans opt: received. '\n",
      " '2-19-98 13:24:18 REC: Log>\" As a conversation takes place between Trinity '\n",
      " '(Carrie-An')\n"
     ]
    }
   ],
   "source": [
    "import requests\n",
    "\n",
    "text = requests.get('http://rare-technologies.com/the_matrix_synopsis.txt').text\n",
    "print(text[0:250])"
   ]
  },
  {
   "cell_type": "markdown",
   "metadata": {},
   "source": [
    "* First, the summary:\n",
    "\n",
    "\n"
   ]
  },
  {
   "cell_type": "code",
   "execution_count": 13,
   "metadata": {
    "collapsed": false,
    "jupyter": {
     "outputs_hidden": false
    }
   },
   "outputs": [
    {
     "name": "stdout",
     "output_type": "stream",
     "text": [
      "('Anderson, a software engineer for a Metacortex, the other life as Neo, a '\n",
      " 'computer hacker \"guilty of virtually every computer crime we have a law '\n",
      " 'for.\" Agent Smith asks him to help them capture Morpheus, a dangerous '\n",
      " 'terrorist, in exchange for amnesty.\\n'\n",
      " \"Morpheus explains that he's been searching for Neo his entire life and asks \"\n",
      " 'if Neo feels like \"Alice in Wonderland, falling down the rabbit hole.\" He '\n",
      " 'explains to Neo that they exist in the Matrix, a false reality that has been '\n",
      " 'constructed for humans to hide the truth.\\n'\n",
      " \"Neo is introduced to Morpheus's crew including Trinity; Apoc (Julian \"\n",
      " 'Arahanga), a man with long, flowing black hair; Switch; Cypher (bald with a '\n",
      " 'goatee); two brawny brothers, Tank (Marcus Chong) and Dozer (Anthony Ray '\n",
      " 'Parker); and a young, thin man named Mouse (Matt Doran).\\n'\n",
      " 'Trinity brings the helicopter down to the floor that Morpheus is on and Neo '\n",
      " 'opens fire on the three Agents.')\n"
     ]
    }
   ],
   "source": [
    "print(summarize(text, ratio=0.01))"
   ]
  },
  {
   "cell_type": "markdown",
   "metadata": {},
   "source": [
    "* Now the keywords:\n",
    "\n",
    "\n"
   ]
  },
  {
   "cell_type": "code",
   "execution_count": 14,
   "metadata": {
    "collapsed": false,
    "jupyter": {
     "outputs_hidden": false
    }
   },
   "outputs": [
    {
     "name": "stdout",
     "output_type": "stream",
     "text": [
      "'neo\\nmorpheus\\ntrinity\\ncypher\\nsmith\\nagents\\nagent\\ntank\\nsays\\nsaying'\n"
     ]
    }
   ],
   "source": [
    "print(keywords(text, ratio=0.01))"
   ]
  },
  {
   "cell_type": "markdown",
   "metadata": {},
   "source": [
    "* Notice that some of the most important characters (Neo, Morpheus, Trinity) were extracted as keywords.\n",
    "\n",
    "* Another example, using the [IMDb synopsis of the The Big Lebowski](http://www.imdb.com/title/tt0118715/synopsis?ref_=tt_stry_pl).\n",
    "\n",
    "\n"
   ]
  },
  {
   "cell_type": "code",
   "execution_count": 16,
   "metadata": {
    "collapsed": false,
    "jupyter": {
     "outputs_hidden": false
    }
   },
   "outputs": [
    {
     "name": "stdout",
     "output_type": "stream",
     "text": [
      "('A tumbleweed rolls up a hillside just outside of Los Angeles as a mysterious '\n",
      " 'man known as The Stranger (Sam Elliott) narrates about a fella he wants to '\n",
      " 'tell us about named Jeffrey Lebowski. With not much use for his given name, '\n",
      " 'however, Jeffrey goes ')\n",
      "('Dude agrees to meet with the Big Lebowski, hoping to get compensation for '\n",
      " 'his rug since it \"really tied the room together\" and figures that his wife, '\n",
      " \"Bunny, shouldn't be owing money around town.\\n\"\n",
      " 'Walter resolves to go to Plan B; he tells Larry to watch out the window as '\n",
      " 'he and Dude go back out to the car where Donny is waiting.')\n",
      "'dude\\ndudes\\nwalter\\nlebowski\\nbrandt\\nmaude\\ndonny\\nbunny'\n"
     ]
    }
   ],
   "source": [
    "text = requests.get('http://rare-technologies.com/the_big_lebowski_synopsis.txt').text\n",
    "print(text[0:250])\n",
    "print(summarize(text, ratio=0.01))\n",
    "print(keywords(text, ratio=0.01))"
   ]
  },
  {
   "cell_type": "markdown",
   "metadata": {},
   "source": [
    "* This time, the summary is not high quality. (This might not be the algorithms fault.) The keywords, however, managed to find some of the main characters.\n",
    "\n",
    "Performance\n",
    "-----------\n",
    "\n",
    "* Test how the summarizer speed scales with dataset size. Note: the summarizer does **not** support multithreading at this time.\n",
    "* test dataset: \"Honest Abe\" by Alonzo Rothschild. Download plain-text at http://www.gutenberg.org/ebooks/49679).\n",
    "* below: running times by dataset size. We use the first **n** characters of the book to create different sizes. \n",
    "* The algorithm seems to be **quadratic in time** , so one needs to be careful before plugging a large dataset into the summarizer."
   ]
  },
  {
   "cell_type": "markdown",
   "metadata": {},
   "source": [
    "Text-content dependent running times\n",
    "------------------------------------\n",
    "\n",
    "* Running time is not only dependent on the size of the dataset.\n",
    "* In original examples: \"The Matrix\" summary is ~36K characters --> 3.1 seconds, while summarizing 35K characters of this book --> ~8.5 seconds. So the former is **more than twice as fast**.\n",
    "* One reason is the data structure.\n",
    "    + The algorithm represents the data using a graph, where vertices (nodes) are sentences, and then constructs weighted edges between the vertices that represent how the sentences relate to each other. \n",
    "    + This means that every piece of text will have a different graph, thus making the running times different. The size of this data structure is **quadratic in the worst case** (the worst case is when each vertex has an edge to every other vertex).\n",
    "* Another possible reason for the difference in running times is that the problems converge at different rates, meaning that the error drops slower for some datasets than for others.\n",
    "\n",
    "[Entropy-based keyword extraction (Montemurro and Zanette)](https://arxiv.org/abs/0907.1558)\n",
    "-------------------------------------------------------------------\n",
    "\n",
    "* Describes a technique to identify words that play a significant role in the large-scale structure of a text. These typically correspond to the major themes of the text. \n",
    "* The text is divided into blocks of ~1000 words, and the entropy of each word's\n",
    "distribution among the blocks is compared with to expected entropy if the word were distributed randomly.\n",
    "\n",
    "\n"
   ]
  },
  {
   "cell_type": "code",
   "execution_count": 21,
   "metadata": {
    "collapsed": false,
    "jupyter": {
     "outputs_hidden": false
    }
   },
   "outputs": [
    {
     "name": "stdout",
     "output_type": "stream",
     "text": [
      "[('i', 0.005071990145676084),\n",
      " ('the', 0.004078714811925573),\n",
      " ('lincoln', 0.003834207719481631),\n",
      " ('you', 0.00333099434510635),\n",
      " ('gutenberg', 0.0032861719465446127),\n",
      " ('v', 0.0031486824001772298),\n",
      " ('a', 0.0030225302081737385),\n",
      " ('project', 0.003013787365092158),\n",
      " ('s', 0.002804807648086567),\n",
      " ('iv', 0.0027211423370182043),\n",
      " ('he', 0.0026652557966447303),\n",
      " ('ii', 0.002522584294510855),\n",
      " ('his', 0.0021025932276434807),\n",
      " ('by', 0.002092414407555808),\n",
      " ('abraham', 0.0019871796860869762),\n",
      " ('or', 0.0019180648459331258),\n",
      " ('lincolna', 0.0019090487448340699),\n",
      " ('tm', 0.001887549850538215),\n",
      " ('iii', 0.001883132631521375),\n",
      " ('was', 0.0018691721439371533),\n",
      " ('work', 0.0017383218152950376),\n",
      " ('new', 0.0016870325205805429),\n",
      " ('co', 0.001654497521737427),\n",
      " ('case', 0.0015991334540419223),\n",
      " ('court', 0.0014413967155396973),\n",
      " ('york', 0.001429133695025362),\n",
      " ('on', 0.0013292841806795005),\n",
      " ('it', 0.001308454011675044),\n",
      " ('had', 0.001298103630126742),\n",
      " ('to', 0.0012629182579600709)]\n"
     ]
    }
   ],
   "source": [
    "import requests\n",
    "from gensim.summarization import mz_keywords\n",
    "\n",
    "text=requests.get(\"http://www.gutenberg.org/files/49679/49679-0.txt\").text\n",
    "print(mz_keywords(text,scores=True,threshold=0.001)[0:30])"
   ]
  },
  {
   "cell_type": "markdown",
   "metadata": {},
   "source": [
    "* The algorithm weights the entropy by the overall frequency of the word in the document. We can remove this weighting by setting weighted=False.\n",
    "\n",
    "\n"
   ]
  },
  {
   "cell_type": "code",
   "execution_count": 20,
   "metadata": {
    "collapsed": false,
    "jupyter": {
     "outputs_hidden": false
    }
   },
   "outputs": [
    {
     "name": "stdout",
     "output_type": "stream",
     "text": [
      "[('gutenberg', 3.813054848640599),\n",
      " ('project', 3.573855036862196),\n",
      " ('tm', 3.5734630161654266),\n",
      " ('co', 3.188187179789419),\n",
      " ('foundation', 2.9349504275296248),\n",
      " ('dogskin', 2.767166394411781),\n",
      " ('electronic', 2.712759445340285),\n",
      " ('donations', 2.5598097474452906),\n",
      " ('foxboro', 2.552819829558231),\n",
      " ('access', 2.534996621584064),\n",
      " ('gloves', 2.534996621584064),\n",
      " ('_works_', 2.519083905903437),\n",
      " ('iv', 2.4068950059833725),\n",
      " ('v', 2.376066199199476),\n",
      " ('license', 2.32674033665853),\n",
      " ('works', 2.320294093790008),\n",
      " ('replacement', 2.297629530050557),\n",
      " ('e', 2.1840002559354215),\n",
      " ('coon', 2.1754936158294536),\n",
      " ('volunteers', 2.1754936158294536),\n",
      " ('york', 2.172102058646223),\n",
      " ('ii', 2.143421998464259),\n",
      " ('edited', 2.110161739139703),\n",
      " ('refund', 2.100145067024387),\n",
      " ('iii', 2.052633589900031),\n",
      " ('bounded', 1.9832369322912882),\n",
      " ('format', 1.9832369322912882),\n",
      " ('jewelry', 1.9832369322912882),\n",
      " ('metzker', 1.9832369322912882),\n",
      " ('millions', 1.9832369322912882)]\n"
     ]
    }
   ],
   "source": [
    "print(mz_keywords(text,scores=True,weighted=False,threshold=1.0)[0:30])"
   ]
  },
  {
   "cell_type": "markdown",
   "metadata": {},
   "source": [
    "* This enables calculating a threshold from the number of blocks.\n",
    "\n",
    "\n"
   ]
  },
  {
   "cell_type": "code",
   "execution_count": 19,
   "metadata": {
    "collapsed": false,
    "jupyter": {
     "outputs_hidden": false
    }
   },
   "outputs": [
    {
     "name": "stdout",
     "output_type": "stream",
     "text": [
      "[('gutenberg', 3.813054848640599),\n",
      " ('project', 3.573855036862196),\n",
      " ('tm', 3.5734630161654266),\n",
      " ('co', 3.188187179789419),\n",
      " ('foundation', 2.9349504275296248),\n",
      " ('dogskin', 2.767166394411781),\n",
      " ('electronic', 2.712759445340285),\n",
      " ('donations', 2.5598097474452906),\n",
      " ('foxboro', 2.552819829558231),\n",
      " ('access', 2.534996621584064),\n",
      " ('gloves', 2.534996621584064),\n",
      " ('_works_', 2.519083905903437),\n",
      " ('iv', 2.4068950059833725),\n",
      " ('v', 2.376066199199476),\n",
      " ('license', 2.32674033665853),\n",
      " ('works', 2.320294093790008),\n",
      " ('replacement', 2.297629530050557),\n",
      " ('e', 2.1840002559354215),\n",
      " ('coon', 2.1754936158294536),\n",
      " ('volunteers', 2.1754936158294536),\n",
      " ('york', 2.172102058646223),\n",
      " ('ii', 2.143421998464259),\n",
      " ('edited', 2.110161739139703),\n",
      " ('refund', 2.100145067024387),\n",
      " ('iii', 2.052633589900031),\n",
      " ('bounded', 1.9832369322912882),\n",
      " ('format', 1.9832369322912882),\n",
      " ('jewelry', 1.9832369322912882),\n",
      " ('metzker', 1.9832369322912882),\n",
      " ('millions', 1.9832369322912882)]\n"
     ]
    }
   ],
   "source": [
    "print(mz_keywords(text,scores=True,weighted=False,threshold=\"auto\")[0:30])"
   ]
  }
 ],
 "metadata": {
  "kernelspec": {
   "display_name": "Python 3",
   "language": "python",
   "name": "python3"
  },
  "language_info": {
   "codemirror_mode": {
    "name": "ipython",
    "version": 3
   },
   "file_extension": ".py",
   "mimetype": "text/x-python",
   "name": "python",
   "nbconvert_exporter": "python",
   "pygments_lexer": "ipython3",
   "version": "3.6.9"
  }
 },
 "nbformat": 4,
 "nbformat_minor": 4
}
